{
 "cells": [
  {
   "cell_type": "code",
   "execution_count": 1,
   "metadata": {},
   "outputs": [],
   "source": [
    "import sys\n",
    "sys.path.append('../src')\n",
    "\n",
    "import numpy as np\n",
    "import pandas as pd\n",
    "\n",
    "import importlib\n",
    "\n",
    "from sklearn.ensemble import GradientBoostingRegressor\n",
    "from sklearn.model_selection import train_test_split\n",
    "from sklearn.metrics import mean_squared_error as mse\n",
    "\n",
    "import policies\n",
    "import bbDebiasing as bbDebias\n",
    "import maxEnsembleDebias as maxDebias\n",
    "\n",
    "import matplotlib.pyplot as plt\n",
    "\n",
    "import time"
   ]
  },
  {
   "cell_type": "markdown",
   "metadata": {},
   "source": [
    "Reading in data. It's stored in two separate files for two separate electricity transformers at two different stations, so have to merge them together based on timestamp. Then, since we're not treating this directly as time series data, have to convert time stamps into something that is digestible by a regular regression model."
   ]
  },
  {
   "cell_type": "code",
   "execution_count": 5,
   "metadata": {},
   "outputs": [
    {
     "data": {
      "text/html": [
       "<div>\n",
       "<style scoped>\n",
       "    .dataframe tbody tr th:only-of-type {\n",
       "        vertical-align: middle;\n",
       "    }\n",
       "\n",
       "    .dataframe tbody tr th {\n",
       "        vertical-align: top;\n",
       "    }\n",
       "\n",
       "    .dataframe thead th {\n",
       "        text-align: right;\n",
       "    }\n",
       "</style>\n",
       "<table border=\"1\" class=\"dataframe\">\n",
       "  <thead>\n",
       "    <tr style=\"text-align: right;\">\n",
       "      <th></th>\n",
       "      <th>HUFL1</th>\n",
       "      <th>HULL1</th>\n",
       "      <th>MUFL1</th>\n",
       "      <th>MULL1</th>\n",
       "      <th>LUFL1</th>\n",
       "      <th>LULL1</th>\n",
       "      <th>OT1</th>\n",
       "      <th>HUFL2</th>\n",
       "      <th>HULL2</th>\n",
       "      <th>MUFL2</th>\n",
       "      <th>MULL2</th>\n",
       "      <th>LUFL2</th>\n",
       "      <th>LULL2</th>\n",
       "      <th>OT2</th>\n",
       "      <th>month</th>\n",
       "      <th>day</th>\n",
       "      <th>hour</th>\n",
       "      <th>minute</th>\n",
       "    </tr>\n",
       "  </thead>\n",
       "  <tbody>\n",
       "    <tr>\n",
       "      <th>0</th>\n",
       "      <td>5.827</td>\n",
       "      <td>2.009</td>\n",
       "      <td>1.599</td>\n",
       "      <td>0.462</td>\n",
       "      <td>4.203</td>\n",
       "      <td>1.340</td>\n",
       "      <td>30.531000</td>\n",
       "      <td>41.130001</td>\n",
       "      <td>12.481</td>\n",
       "      <td>36.535999</td>\n",
       "      <td>9.355</td>\n",
       "      <td>4.424</td>\n",
       "      <td>1.311</td>\n",
       "      <td>38.661999</td>\n",
       "      <td>7</td>\n",
       "      <td>1</td>\n",
       "      <td>0</td>\n",
       "      <td>0</td>\n",
       "    </tr>\n",
       "    <tr>\n",
       "      <th>1</th>\n",
       "      <td>5.760</td>\n",
       "      <td>2.076</td>\n",
       "      <td>1.492</td>\n",
       "      <td>0.426</td>\n",
       "      <td>4.264</td>\n",
       "      <td>1.401</td>\n",
       "      <td>30.459999</td>\n",
       "      <td>39.622002</td>\n",
       "      <td>11.309</td>\n",
       "      <td>35.543999</td>\n",
       "      <td>8.551</td>\n",
       "      <td>3.209</td>\n",
       "      <td>1.258</td>\n",
       "      <td>38.223000</td>\n",
       "      <td>7</td>\n",
       "      <td>1</td>\n",
       "      <td>0</td>\n",
       "      <td>15</td>\n",
       "    </tr>\n",
       "    <tr>\n",
       "      <th>2</th>\n",
       "      <td>5.760</td>\n",
       "      <td>1.942</td>\n",
       "      <td>1.492</td>\n",
       "      <td>0.391</td>\n",
       "      <td>4.234</td>\n",
       "      <td>1.310</td>\n",
       "      <td>30.038000</td>\n",
       "      <td>38.868000</td>\n",
       "      <td>10.555</td>\n",
       "      <td>34.365002</td>\n",
       "      <td>7.586</td>\n",
       "      <td>4.435</td>\n",
       "      <td>1.258</td>\n",
       "      <td>37.344002</td>\n",
       "      <td>7</td>\n",
       "      <td>1</td>\n",
       "      <td>0</td>\n",
       "      <td>30</td>\n",
       "    </tr>\n",
       "    <tr>\n",
       "      <th>3</th>\n",
       "      <td>5.760</td>\n",
       "      <td>1.942</td>\n",
       "      <td>1.492</td>\n",
       "      <td>0.426</td>\n",
       "      <td>4.234</td>\n",
       "      <td>1.310</td>\n",
       "      <td>27.013000</td>\n",
       "      <td>35.518002</td>\n",
       "      <td>9.214</td>\n",
       "      <td>32.569000</td>\n",
       "      <td>8.712</td>\n",
       "      <td>4.435</td>\n",
       "      <td>1.215</td>\n",
       "      <td>37.124001</td>\n",
       "      <td>7</td>\n",
       "      <td>1</td>\n",
       "      <td>0</td>\n",
       "      <td>45</td>\n",
       "    </tr>\n",
       "    <tr>\n",
       "      <th>4</th>\n",
       "      <td>5.693</td>\n",
       "      <td>2.076</td>\n",
       "      <td>1.492</td>\n",
       "      <td>0.426</td>\n",
       "      <td>4.142</td>\n",
       "      <td>1.371</td>\n",
       "      <td>27.787001</td>\n",
       "      <td>37.528000</td>\n",
       "      <td>10.136</td>\n",
       "      <td>33.936001</td>\n",
       "      <td>7.532</td>\n",
       "      <td>4.435</td>\n",
       "      <td>1.215</td>\n",
       "      <td>37.124001</td>\n",
       "      <td>7</td>\n",
       "      <td>1</td>\n",
       "      <td>1</td>\n",
       "      <td>0</td>\n",
       "    </tr>\n",
       "    <tr>\n",
       "      <th>...</th>\n",
       "      <td>...</td>\n",
       "      <td>...</td>\n",
       "      <td>...</td>\n",
       "      <td>...</td>\n",
       "      <td>...</td>\n",
       "      <td>...</td>\n",
       "      <td>...</td>\n",
       "      <td>...</td>\n",
       "      <td>...</td>\n",
       "      <td>...</td>\n",
       "      <td>...</td>\n",
       "      <td>...</td>\n",
       "      <td>...</td>\n",
       "      <td>...</td>\n",
       "      <td>...</td>\n",
       "      <td>...</td>\n",
       "      <td>...</td>\n",
       "      <td>...</td>\n",
       "    </tr>\n",
       "    <tr>\n",
       "      <th>69675</th>\n",
       "      <td>9.310</td>\n",
       "      <td>3.550</td>\n",
       "      <td>5.437</td>\n",
       "      <td>1.670</td>\n",
       "      <td>3.868</td>\n",
       "      <td>1.462</td>\n",
       "      <td>9.567000</td>\n",
       "      <td>42.722000</td>\n",
       "      <td>12.230</td>\n",
       "      <td>54.014000</td>\n",
       "      <td>12.652</td>\n",
       "      <td>-11.525</td>\n",
       "      <td>-1.418</td>\n",
       "      <td>45.986500</td>\n",
       "      <td>6</td>\n",
       "      <td>26</td>\n",
       "      <td>18</td>\n",
       "      <td>45</td>\n",
       "    </tr>\n",
       "    <tr>\n",
       "      <th>69676</th>\n",
       "      <td>10.114</td>\n",
       "      <td>3.550</td>\n",
       "      <td>6.183</td>\n",
       "      <td>1.564</td>\n",
       "      <td>3.716</td>\n",
       "      <td>1.462</td>\n",
       "      <td>9.567000</td>\n",
       "      <td>38.868000</td>\n",
       "      <td>10.052</td>\n",
       "      <td>49.859001</td>\n",
       "      <td>10.669</td>\n",
       "      <td>-11.525</td>\n",
       "      <td>-1.418</td>\n",
       "      <td>45.986500</td>\n",
       "      <td>6</td>\n",
       "      <td>26</td>\n",
       "      <td>19</td>\n",
       "      <td>0</td>\n",
       "    </tr>\n",
       "    <tr>\n",
       "      <th>69677</th>\n",
       "      <td>10.784</td>\n",
       "      <td>3.349</td>\n",
       "      <td>7.000</td>\n",
       "      <td>1.635</td>\n",
       "      <td>3.746</td>\n",
       "      <td>1.432</td>\n",
       "      <td>9.426000</td>\n",
       "      <td>39.622002</td>\n",
       "      <td>11.057</td>\n",
       "      <td>50.448002</td>\n",
       "      <td>11.795</td>\n",
       "      <td>-10.299</td>\n",
       "      <td>-1.418</td>\n",
       "      <td>45.546501</td>\n",
       "      <td>6</td>\n",
       "      <td>26</td>\n",
       "      <td>19</td>\n",
       "      <td>15</td>\n",
       "    </tr>\n",
       "    <tr>\n",
       "      <th>69678</th>\n",
       "      <td>11.655</td>\n",
       "      <td>3.617</td>\n",
       "      <td>7.533</td>\n",
       "      <td>1.706</td>\n",
       "      <td>4.173</td>\n",
       "      <td>1.523</td>\n",
       "      <td>9.426000</td>\n",
       "      <td>40.459999</td>\n",
       "      <td>11.392</td>\n",
       "      <td>51.841999</td>\n",
       "      <td>11.929</td>\n",
       "      <td>-11.536</td>\n",
       "      <td>-1.418</td>\n",
       "      <td>45.546501</td>\n",
       "      <td>6</td>\n",
       "      <td>26</td>\n",
       "      <td>19</td>\n",
       "      <td>30</td>\n",
       "    </tr>\n",
       "    <tr>\n",
       "      <th>69679</th>\n",
       "      <td>12.994</td>\n",
       "      <td>3.818</td>\n",
       "      <td>8.244</td>\n",
       "      <td>1.777</td>\n",
       "      <td>4.721</td>\n",
       "      <td>1.523</td>\n",
       "      <td>9.778000</td>\n",
       "      <td>43.223999</td>\n",
       "      <td>12.146</td>\n",
       "      <td>54.737000</td>\n",
       "      <td>12.679</td>\n",
       "      <td>-11.536</td>\n",
       "      <td>-1.418</td>\n",
       "      <td>45.327000</td>\n",
       "      <td>6</td>\n",
       "      <td>26</td>\n",
       "      <td>19</td>\n",
       "      <td>45</td>\n",
       "    </tr>\n",
       "  </tbody>\n",
       "</table>\n",
       "<p>69680 rows × 18 columns</p>\n",
       "</div>"
      ],
      "text/plain": [
       "        HUFL1  HULL1  MUFL1  MULL1  LUFL1  LULL1        OT1      HUFL2  \\\n",
       "0       5.827  2.009  1.599  0.462  4.203  1.340  30.531000  41.130001   \n",
       "1       5.760  2.076  1.492  0.426  4.264  1.401  30.459999  39.622002   \n",
       "2       5.760  1.942  1.492  0.391  4.234  1.310  30.038000  38.868000   \n",
       "3       5.760  1.942  1.492  0.426  4.234  1.310  27.013000  35.518002   \n",
       "4       5.693  2.076  1.492  0.426  4.142  1.371  27.787001  37.528000   \n",
       "...       ...    ...    ...    ...    ...    ...        ...        ...   \n",
       "69675   9.310  3.550  5.437  1.670  3.868  1.462   9.567000  42.722000   \n",
       "69676  10.114  3.550  6.183  1.564  3.716  1.462   9.567000  38.868000   \n",
       "69677  10.784  3.349  7.000  1.635  3.746  1.432   9.426000  39.622002   \n",
       "69678  11.655  3.617  7.533  1.706  4.173  1.523   9.426000  40.459999   \n",
       "69679  12.994  3.818  8.244  1.777  4.721  1.523   9.778000  43.223999   \n",
       "\n",
       "        HULL2      MUFL2   MULL2   LUFL2  LULL2        OT2  month  day  hour  \\\n",
       "0      12.481  36.535999   9.355   4.424  1.311  38.661999      7    1     0   \n",
       "1      11.309  35.543999   8.551   3.209  1.258  38.223000      7    1     0   \n",
       "2      10.555  34.365002   7.586   4.435  1.258  37.344002      7    1     0   \n",
       "3       9.214  32.569000   8.712   4.435  1.215  37.124001      7    1     0   \n",
       "4      10.136  33.936001   7.532   4.435  1.215  37.124001      7    1     1   \n",
       "...       ...        ...     ...     ...    ...        ...    ...  ...   ...   \n",
       "69675  12.230  54.014000  12.652 -11.525 -1.418  45.986500      6   26    18   \n",
       "69676  10.052  49.859001  10.669 -11.525 -1.418  45.986500      6   26    19   \n",
       "69677  11.057  50.448002  11.795 -10.299 -1.418  45.546501      6   26    19   \n",
       "69678  11.392  51.841999  11.929 -11.536 -1.418  45.546501      6   26    19   \n",
       "69679  12.146  54.737000  12.679 -11.536 -1.418  45.327000      6   26    19   \n",
       "\n",
       "       minute  \n",
       "0           0  \n",
       "1          15  \n",
       "2          30  \n",
       "3          45  \n",
       "4           0  \n",
       "...       ...  \n",
       "69675      45  \n",
       "69676       0  \n",
       "69677      15  \n",
       "69678      30  \n",
       "69679      45  \n",
       "\n",
       "[69680 rows x 18 columns]"
      ]
     },
     "execution_count": 5,
     "metadata": {},
     "output_type": "execute_result"
    }
   ],
   "source": [
    "# reading in the data\n",
    "data1 = pd.read_csv('../data/ETDataset/ETT-small/ETTm1.csv')\n",
    "data2 = pd.read_csv('../data/ETDataset/ETT-small/ETTm2.csv')\n",
    "\n",
    "# converting dates to timestamps for the merge operation\n",
    "data1['date'] = pd.to_datetime(data1['date'])\n",
    "data2['date'] = pd.to_datetime(data2['date'])\n",
    "\n",
    "# merging together vis-a-vis timestamps\n",
    "data = pd.merge(data1, data2, on='date', how='outer', suffixes=['1','2'])\n",
    "\n",
    "# check for nans\n",
    "data.isna().sum()\n",
    "\n",
    "# convert dates to something understandable to regression\n",
    "data['month'] = data['date'].dt.month\n",
    "data['day'] = data['date'].dt.day\n",
    "data['hour'] = data['date'].dt.hour\n",
    "data['minute'] = data['date'].dt.minute\n",
    "\n",
    "# remove the date column\n",
    "data.drop(columns='date')"
   ]
  },
  {
   "cell_type": "markdown",
   "metadata": {},
   "source": [
    "Splitting into train and test sets and extracting out the features. The target is \"oil temperature\", which apparently has something to do with load, and if temperature is too high, load has to be diverted elsewhere because the transformer will explode otherwise. ¯\\\\_(ツ)_/¯\n",
    "\n",
    "Current debiasing code is written assuming data is stored as numpy arrays not as pandas, so also have to convert in this step."
   ]
  },
  {
   "cell_type": "code",
   "execution_count": 6,
   "metadata": {},
   "outputs": [],
   "source": [
    "features = ['HUFL1', 'HULL1', 'MUFL1', 'MULL1', 'LUFL1', 'LULL1', 'HUFL2', 'HULL2', 'MUFL2', 'MULL2', 'LUFL2', 'LULL2','month','day','hour','minute']\n",
    "targets = ['OT1', 'OT2']\n",
    "\n",
    "X = data[features].values\n",
    "Y = data[targets].values \n",
    "\n",
    "X_train, X_test, Y_train, Y_test = train_test_split(X, Y, test_size=0.2, random_state=42)"
   ]
  },
  {
   "cell_type": "markdown",
   "metadata": {},
   "source": [
    "Training two gradient boosting regressors, one on each of the targets."
   ]
  },
  {
   "cell_type": "code",
   "execution_count": 8,
   "metadata": {},
   "outputs": [
    {
     "data": {
      "text/html": [
       "<style>#sk-container-id-1 {\n",
       "  /* Definition of color scheme common for light and dark mode */\n",
       "  --sklearn-color-text: black;\n",
       "  --sklearn-color-line: gray;\n",
       "  /* Definition of color scheme for unfitted estimators */\n",
       "  --sklearn-color-unfitted-level-0: #fff5e6;\n",
       "  --sklearn-color-unfitted-level-1: #f6e4d2;\n",
       "  --sklearn-color-unfitted-level-2: #ffe0b3;\n",
       "  --sklearn-color-unfitted-level-3: chocolate;\n",
       "  /* Definition of color scheme for fitted estimators */\n",
       "  --sklearn-color-fitted-level-0: #f0f8ff;\n",
       "  --sklearn-color-fitted-level-1: #d4ebff;\n",
       "  --sklearn-color-fitted-level-2: #b3dbfd;\n",
       "  --sklearn-color-fitted-level-3: cornflowerblue;\n",
       "\n",
       "  /* Specific color for light theme */\n",
       "  --sklearn-color-text-on-default-background: var(--sg-text-color, var(--theme-code-foreground, var(--jp-content-font-color1, black)));\n",
       "  --sklearn-color-background: var(--sg-background-color, var(--theme-background, var(--jp-layout-color0, white)));\n",
       "  --sklearn-color-border-box: var(--sg-text-color, var(--theme-code-foreground, var(--jp-content-font-color1, black)));\n",
       "  --sklearn-color-icon: #696969;\n",
       "\n",
       "  @media (prefers-color-scheme: dark) {\n",
       "    /* Redefinition of color scheme for dark theme */\n",
       "    --sklearn-color-text-on-default-background: var(--sg-text-color, var(--theme-code-foreground, var(--jp-content-font-color1, white)));\n",
       "    --sklearn-color-background: var(--sg-background-color, var(--theme-background, var(--jp-layout-color0, #111)));\n",
       "    --sklearn-color-border-box: var(--sg-text-color, var(--theme-code-foreground, var(--jp-content-font-color1, white)));\n",
       "    --sklearn-color-icon: #878787;\n",
       "  }\n",
       "}\n",
       "\n",
       "#sk-container-id-1 {\n",
       "  color: var(--sklearn-color-text);\n",
       "}\n",
       "\n",
       "#sk-container-id-1 pre {\n",
       "  padding: 0;\n",
       "}\n",
       "\n",
       "#sk-container-id-1 input.sk-hidden--visually {\n",
       "  border: 0;\n",
       "  clip: rect(1px 1px 1px 1px);\n",
       "  clip: rect(1px, 1px, 1px, 1px);\n",
       "  height: 1px;\n",
       "  margin: -1px;\n",
       "  overflow: hidden;\n",
       "  padding: 0;\n",
       "  position: absolute;\n",
       "  width: 1px;\n",
       "}\n",
       "\n",
       "#sk-container-id-1 div.sk-dashed-wrapped {\n",
       "  border: 1px dashed var(--sklearn-color-line);\n",
       "  margin: 0 0.4em 0.5em 0.4em;\n",
       "  box-sizing: border-box;\n",
       "  padding-bottom: 0.4em;\n",
       "  background-color: var(--sklearn-color-background);\n",
       "}\n",
       "\n",
       "#sk-container-id-1 div.sk-container {\n",
       "  /* jupyter's `normalize.less` sets `[hidden] { display: none; }`\n",
       "     but bootstrap.min.css set `[hidden] { display: none !important; }`\n",
       "     so we also need the `!important` here to be able to override the\n",
       "     default hidden behavior on the sphinx rendered scikit-learn.org.\n",
       "     See: https://github.com/scikit-learn/scikit-learn/issues/21755 */\n",
       "  display: inline-block !important;\n",
       "  position: relative;\n",
       "}\n",
       "\n",
       "#sk-container-id-1 div.sk-text-repr-fallback {\n",
       "  display: none;\n",
       "}\n",
       "\n",
       "div.sk-parallel-item,\n",
       "div.sk-serial,\n",
       "div.sk-item {\n",
       "  /* draw centered vertical line to link estimators */\n",
       "  background-image: linear-gradient(var(--sklearn-color-text-on-default-background), var(--sklearn-color-text-on-default-background));\n",
       "  background-size: 2px 100%;\n",
       "  background-repeat: no-repeat;\n",
       "  background-position: center center;\n",
       "}\n",
       "\n",
       "/* Parallel-specific style estimator block */\n",
       "\n",
       "#sk-container-id-1 div.sk-parallel-item::after {\n",
       "  content: \"\";\n",
       "  width: 100%;\n",
       "  border-bottom: 2px solid var(--sklearn-color-text-on-default-background);\n",
       "  flex-grow: 1;\n",
       "}\n",
       "\n",
       "#sk-container-id-1 div.sk-parallel {\n",
       "  display: flex;\n",
       "  align-items: stretch;\n",
       "  justify-content: center;\n",
       "  background-color: var(--sklearn-color-background);\n",
       "  position: relative;\n",
       "}\n",
       "\n",
       "#sk-container-id-1 div.sk-parallel-item {\n",
       "  display: flex;\n",
       "  flex-direction: column;\n",
       "}\n",
       "\n",
       "#sk-container-id-1 div.sk-parallel-item:first-child::after {\n",
       "  align-self: flex-end;\n",
       "  width: 50%;\n",
       "}\n",
       "\n",
       "#sk-container-id-1 div.sk-parallel-item:last-child::after {\n",
       "  align-self: flex-start;\n",
       "  width: 50%;\n",
       "}\n",
       "\n",
       "#sk-container-id-1 div.sk-parallel-item:only-child::after {\n",
       "  width: 0;\n",
       "}\n",
       "\n",
       "/* Serial-specific style estimator block */\n",
       "\n",
       "#sk-container-id-1 div.sk-serial {\n",
       "  display: flex;\n",
       "  flex-direction: column;\n",
       "  align-items: center;\n",
       "  background-color: var(--sklearn-color-background);\n",
       "  padding-right: 1em;\n",
       "  padding-left: 1em;\n",
       "}\n",
       "\n",
       "\n",
       "/* Toggleable style: style used for estimator/Pipeline/ColumnTransformer box that is\n",
       "clickable and can be expanded/collapsed.\n",
       "- Pipeline and ColumnTransformer use this feature and define the default style\n",
       "- Estimators will overwrite some part of the style using the `sk-estimator` class\n",
       "*/\n",
       "\n",
       "/* Pipeline and ColumnTransformer style (default) */\n",
       "\n",
       "#sk-container-id-1 div.sk-toggleable {\n",
       "  /* Default theme specific background. It is overwritten whether we have a\n",
       "  specific estimator or a Pipeline/ColumnTransformer */\n",
       "  background-color: var(--sklearn-color-background);\n",
       "}\n",
       "\n",
       "/* Toggleable label */\n",
       "#sk-container-id-1 label.sk-toggleable__label {\n",
       "  cursor: pointer;\n",
       "  display: block;\n",
       "  width: 100%;\n",
       "  margin-bottom: 0;\n",
       "  padding: 0.5em;\n",
       "  box-sizing: border-box;\n",
       "  text-align: center;\n",
       "}\n",
       "\n",
       "#sk-container-id-1 label.sk-toggleable__label-arrow:before {\n",
       "  /* Arrow on the left of the label */\n",
       "  content: \"▸\";\n",
       "  float: left;\n",
       "  margin-right: 0.25em;\n",
       "  color: var(--sklearn-color-icon);\n",
       "}\n",
       "\n",
       "#sk-container-id-1 label.sk-toggleable__label-arrow:hover:before {\n",
       "  color: var(--sklearn-color-text);\n",
       "}\n",
       "\n",
       "/* Toggleable content - dropdown */\n",
       "\n",
       "#sk-container-id-1 div.sk-toggleable__content {\n",
       "  max-height: 0;\n",
       "  max-width: 0;\n",
       "  overflow: hidden;\n",
       "  text-align: left;\n",
       "  /* unfitted */\n",
       "  background-color: var(--sklearn-color-unfitted-level-0);\n",
       "}\n",
       "\n",
       "#sk-container-id-1 div.sk-toggleable__content.fitted {\n",
       "  /* fitted */\n",
       "  background-color: var(--sklearn-color-fitted-level-0);\n",
       "}\n",
       "\n",
       "#sk-container-id-1 div.sk-toggleable__content pre {\n",
       "  margin: 0.2em;\n",
       "  border-radius: 0.25em;\n",
       "  color: var(--sklearn-color-text);\n",
       "  /* unfitted */\n",
       "  background-color: var(--sklearn-color-unfitted-level-0);\n",
       "}\n",
       "\n",
       "#sk-container-id-1 div.sk-toggleable__content.fitted pre {\n",
       "  /* unfitted */\n",
       "  background-color: var(--sklearn-color-fitted-level-0);\n",
       "}\n",
       "\n",
       "#sk-container-id-1 input.sk-toggleable__control:checked~div.sk-toggleable__content {\n",
       "  /* Expand drop-down */\n",
       "  max-height: 200px;\n",
       "  max-width: 100%;\n",
       "  overflow: auto;\n",
       "}\n",
       "\n",
       "#sk-container-id-1 input.sk-toggleable__control:checked~label.sk-toggleable__label-arrow:before {\n",
       "  content: \"▾\";\n",
       "}\n",
       "\n",
       "/* Pipeline/ColumnTransformer-specific style */\n",
       "\n",
       "#sk-container-id-1 div.sk-label input.sk-toggleable__control:checked~label.sk-toggleable__label {\n",
       "  color: var(--sklearn-color-text);\n",
       "  background-color: var(--sklearn-color-unfitted-level-2);\n",
       "}\n",
       "\n",
       "#sk-container-id-1 div.sk-label.fitted input.sk-toggleable__control:checked~label.sk-toggleable__label {\n",
       "  background-color: var(--sklearn-color-fitted-level-2);\n",
       "}\n",
       "\n",
       "/* Estimator-specific style */\n",
       "\n",
       "/* Colorize estimator box */\n",
       "#sk-container-id-1 div.sk-estimator input.sk-toggleable__control:checked~label.sk-toggleable__label {\n",
       "  /* unfitted */\n",
       "  background-color: var(--sklearn-color-unfitted-level-2);\n",
       "}\n",
       "\n",
       "#sk-container-id-1 div.sk-estimator.fitted input.sk-toggleable__control:checked~label.sk-toggleable__label {\n",
       "  /* fitted */\n",
       "  background-color: var(--sklearn-color-fitted-level-2);\n",
       "}\n",
       "\n",
       "#sk-container-id-1 div.sk-label label.sk-toggleable__label,\n",
       "#sk-container-id-1 div.sk-label label {\n",
       "  /* The background is the default theme color */\n",
       "  color: var(--sklearn-color-text-on-default-background);\n",
       "}\n",
       "\n",
       "/* On hover, darken the color of the background */\n",
       "#sk-container-id-1 div.sk-label:hover label.sk-toggleable__label {\n",
       "  color: var(--sklearn-color-text);\n",
       "  background-color: var(--sklearn-color-unfitted-level-2);\n",
       "}\n",
       "\n",
       "/* Label box, darken color on hover, fitted */\n",
       "#sk-container-id-1 div.sk-label.fitted:hover label.sk-toggleable__label.fitted {\n",
       "  color: var(--sklearn-color-text);\n",
       "  background-color: var(--sklearn-color-fitted-level-2);\n",
       "}\n",
       "\n",
       "/* Estimator label */\n",
       "\n",
       "#sk-container-id-1 div.sk-label label {\n",
       "  font-family: monospace;\n",
       "  font-weight: bold;\n",
       "  display: inline-block;\n",
       "  line-height: 1.2em;\n",
       "}\n",
       "\n",
       "#sk-container-id-1 div.sk-label-container {\n",
       "  text-align: center;\n",
       "}\n",
       "\n",
       "/* Estimator-specific */\n",
       "#sk-container-id-1 div.sk-estimator {\n",
       "  font-family: monospace;\n",
       "  border: 1px dotted var(--sklearn-color-border-box);\n",
       "  border-radius: 0.25em;\n",
       "  box-sizing: border-box;\n",
       "  margin-bottom: 0.5em;\n",
       "  /* unfitted */\n",
       "  background-color: var(--sklearn-color-unfitted-level-0);\n",
       "}\n",
       "\n",
       "#sk-container-id-1 div.sk-estimator.fitted {\n",
       "  /* fitted */\n",
       "  background-color: var(--sklearn-color-fitted-level-0);\n",
       "}\n",
       "\n",
       "/* on hover */\n",
       "#sk-container-id-1 div.sk-estimator:hover {\n",
       "  /* unfitted */\n",
       "  background-color: var(--sklearn-color-unfitted-level-2);\n",
       "}\n",
       "\n",
       "#sk-container-id-1 div.sk-estimator.fitted:hover {\n",
       "  /* fitted */\n",
       "  background-color: var(--sklearn-color-fitted-level-2);\n",
       "}\n",
       "\n",
       "/* Specification for estimator info (e.g. \"i\" and \"?\") */\n",
       "\n",
       "/* Common style for \"i\" and \"?\" */\n",
       "\n",
       ".sk-estimator-doc-link,\n",
       "a:link.sk-estimator-doc-link,\n",
       "a:visited.sk-estimator-doc-link {\n",
       "  float: right;\n",
       "  font-size: smaller;\n",
       "  line-height: 1em;\n",
       "  font-family: monospace;\n",
       "  background-color: var(--sklearn-color-background);\n",
       "  border-radius: 1em;\n",
       "  height: 1em;\n",
       "  width: 1em;\n",
       "  text-decoration: none !important;\n",
       "  margin-left: 1ex;\n",
       "  /* unfitted */\n",
       "  border: var(--sklearn-color-unfitted-level-1) 1pt solid;\n",
       "  color: var(--sklearn-color-unfitted-level-1);\n",
       "}\n",
       "\n",
       ".sk-estimator-doc-link.fitted,\n",
       "a:link.sk-estimator-doc-link.fitted,\n",
       "a:visited.sk-estimator-doc-link.fitted {\n",
       "  /* fitted */\n",
       "  border: var(--sklearn-color-fitted-level-1) 1pt solid;\n",
       "  color: var(--sklearn-color-fitted-level-1);\n",
       "}\n",
       "\n",
       "/* On hover */\n",
       "div.sk-estimator:hover .sk-estimator-doc-link:hover,\n",
       ".sk-estimator-doc-link:hover,\n",
       "div.sk-label-container:hover .sk-estimator-doc-link:hover,\n",
       ".sk-estimator-doc-link:hover {\n",
       "  /* unfitted */\n",
       "  background-color: var(--sklearn-color-unfitted-level-3);\n",
       "  color: var(--sklearn-color-background);\n",
       "  text-decoration: none;\n",
       "}\n",
       "\n",
       "div.sk-estimator.fitted:hover .sk-estimator-doc-link.fitted:hover,\n",
       ".sk-estimator-doc-link.fitted:hover,\n",
       "div.sk-label-container:hover .sk-estimator-doc-link.fitted:hover,\n",
       ".sk-estimator-doc-link.fitted:hover {\n",
       "  /* fitted */\n",
       "  background-color: var(--sklearn-color-fitted-level-3);\n",
       "  color: var(--sklearn-color-background);\n",
       "  text-decoration: none;\n",
       "}\n",
       "\n",
       "/* Span, style for the box shown on hovering the info icon */\n",
       ".sk-estimator-doc-link span {\n",
       "  display: none;\n",
       "  z-index: 9999;\n",
       "  position: relative;\n",
       "  font-weight: normal;\n",
       "  right: .2ex;\n",
       "  padding: .5ex;\n",
       "  margin: .5ex;\n",
       "  width: min-content;\n",
       "  min-width: 20ex;\n",
       "  max-width: 50ex;\n",
       "  color: var(--sklearn-color-text);\n",
       "  box-shadow: 2pt 2pt 4pt #999;\n",
       "  /* unfitted */\n",
       "  background: var(--sklearn-color-unfitted-level-0);\n",
       "  border: .5pt solid var(--sklearn-color-unfitted-level-3);\n",
       "}\n",
       "\n",
       ".sk-estimator-doc-link.fitted span {\n",
       "  /* fitted */\n",
       "  background: var(--sklearn-color-fitted-level-0);\n",
       "  border: var(--sklearn-color-fitted-level-3);\n",
       "}\n",
       "\n",
       ".sk-estimator-doc-link:hover span {\n",
       "  display: block;\n",
       "}\n",
       "\n",
       "/* \"?\"-specific style due to the `<a>` HTML tag */\n",
       "\n",
       "#sk-container-id-1 a.estimator_doc_link {\n",
       "  float: right;\n",
       "  font-size: 1rem;\n",
       "  line-height: 1em;\n",
       "  font-family: monospace;\n",
       "  background-color: var(--sklearn-color-background);\n",
       "  border-radius: 1rem;\n",
       "  height: 1rem;\n",
       "  width: 1rem;\n",
       "  text-decoration: none;\n",
       "  /* unfitted */\n",
       "  color: var(--sklearn-color-unfitted-level-1);\n",
       "  border: var(--sklearn-color-unfitted-level-1) 1pt solid;\n",
       "}\n",
       "\n",
       "#sk-container-id-1 a.estimator_doc_link.fitted {\n",
       "  /* fitted */\n",
       "  border: var(--sklearn-color-fitted-level-1) 1pt solid;\n",
       "  color: var(--sklearn-color-fitted-level-1);\n",
       "}\n",
       "\n",
       "/* On hover */\n",
       "#sk-container-id-1 a.estimator_doc_link:hover {\n",
       "  /* unfitted */\n",
       "  background-color: var(--sklearn-color-unfitted-level-3);\n",
       "  color: var(--sklearn-color-background);\n",
       "  text-decoration: none;\n",
       "}\n",
       "\n",
       "#sk-container-id-1 a.estimator_doc_link.fitted:hover {\n",
       "  /* fitted */\n",
       "  background-color: var(--sklearn-color-fitted-level-3);\n",
       "}\n",
       "</style><div id=\"sk-container-id-1\" class=\"sk-top-container\"><div class=\"sk-text-repr-fallback\"><pre>GradientBoostingRegressor(max_depth=6, random_state=42)</pre><b>In a Jupyter environment, please rerun this cell to show the HTML representation or trust the notebook. <br />On GitHub, the HTML representation is unable to render, please try loading this page with nbviewer.org.</b></div><div class=\"sk-container\" hidden><div class=\"sk-item\"><div class=\"sk-estimator fitted sk-toggleable\"><input class=\"sk-toggleable__control sk-hidden--visually\" id=\"sk-estimator-id-1\" type=\"checkbox\" checked><label for=\"sk-estimator-id-1\" class=\"sk-toggleable__label fitted sk-toggleable__label-arrow fitted\">&nbsp;&nbsp;GradientBoostingRegressor<a class=\"sk-estimator-doc-link fitted\" rel=\"noreferrer\" target=\"_blank\" href=\"https://scikit-learn.org/1.4/modules/generated/sklearn.ensemble.GradientBoostingRegressor.html\">?<span>Documentation for GradientBoostingRegressor</span></a><span class=\"sk-estimator-doc-link fitted\">i<span>Fitted</span></span></label><div class=\"sk-toggleable__content fitted\"><pre>GradientBoostingRegressor(max_depth=6, random_state=42)</pre></div> </div></div></div></div>"
      ],
      "text/plain": [
       "GradientBoostingRegressor(max_depth=6, random_state=42)"
      ]
     },
     "execution_count": 8,
     "metadata": {},
     "output_type": "execute_result"
    }
   ],
   "source": [
    "gb1 = GradientBoostingRegressor(learning_rate=0.1, max_depth=6, random_state=42)\n",
    "gb1.fit(X_train, Y_train[:,0])\n",
    "\n",
    "\n",
    "gb2 = GradientBoostingRegressor(learning_rate=0.1, max_depth=6, random_state=42)\n",
    "gb2.fit(X_train, Y_train[:,1])\n"
   ]
  },
  {
   "cell_type": "markdown",
   "metadata": {},
   "source": [
    "Verifying that the error is at least sort of on correct scale for the data."
   ]
  },
  {
   "cell_type": "code",
   "execution_count": 9,
   "metadata": {},
   "outputs": [
    {
     "name": "stdout",
     "output_type": "stream",
     "text": [
      "Min OT Value: -4.2210001945495605\n",
      "Max OT Value: 58.87699890136719\n",
      "MSE of predictor on 1st station 3.731832659817428\n",
      "MSE of predictor on 2nd station 6.7934090398713565\n"
     ]
    }
   ],
   "source": [
    "print(f\"Min OT Value: {Y_train.min()}\")\n",
    "print(f\"Max OT Value: {Y_train.max()}\")\n",
    "preds1 = gb1.predict(X_test)\n",
    "preds2 = gb2.predict(X_test)\n",
    "print(f\"MSE of predictor on 1st station {mse(Y_test[:,0], preds1)}\")\n",
    "print(f\"MSE of predictor on 2nd station {mse(Y_test[:,1], preds2)}\")"
   ]
  },
  {
   "cell_type": "markdown",
   "metadata": {},
   "source": [
    "Building two composite predictors, which each use gradient boosting for one coordinate of prediction vector and predict label mean for other coordinate.  "
   ]
  },
  {
   "cell_type": "code",
   "execution_count": 10,
   "metadata": {},
   "outputs": [],
   "source": [
    "def h1(xs):\n",
    "    col1 = gb1.predict(xs)\n",
    "    col2 = np.full(len(xs), Y_train[:,0].mean())\n",
    "    return np.column_stack((col1, col2))\n",
    "\n",
    "\n",
    "def h2(xs):\n",
    "    col1 = np.full(len(xs), Y_train[:,1].mean())\n",
    "    col2 = gb2.predict(xs)\n",
    "    return np.column_stack((col1, col2))"
   ]
  },
  {
   "cell_type": "markdown",
   "metadata": {},
   "source": [
    "Building policies. For now, just the basic simplex policies."
   ]
  },
  {
   "cell_type": "code",
   "execution_count": 11,
   "metadata": {},
   "outputs": [],
   "source": [
    "# policy1 = policies.ElectricTransformer(2, h1, 0.1, 25)\n",
    "# policy2 = policies.ElectricTransformer(2, h2, 0.1, 25)\n",
    "\n",
    "policy1 = policies.Simplex(2, h1)\n",
    "policy2 = policies.Simplex(2, h2)"
   ]
  },
  {
   "cell_type": "markdown",
   "metadata": {},
   "source": [
    "# Bias Bounties Method"
   ]
  },
  {
   "cell_type": "code",
   "execution_count": 12,
   "metadata": {},
   "outputs": [
    {
     "name": "stdout",
     "output_type": "stream",
     "text": [
      "Hit tolerance; halting debiasing.\n"
     ]
    }
   ],
   "source": [
    "def init_model(xs):\n",
    "    col1 = np.full(len(xs), Y_train[:,0].mean())\n",
    "    col2 = np.full(len(xs), Y_train[:,1].mean())\n",
    "    return np.column_stack((col1, col2))\n",
    "\n",
    "init_policy = policies.Simplex(2, init_model)\n",
    "\n",
    "max_depth = 100\n",
    "tolerance = 0.01\n",
    "bbModel = bbDebias.bbDebias(init_model, init_policy, X_train, Y_train, max_depth, tolerance)\n",
    "bbModel.debias([h1,h2], [policy1, policy2])"
   ]
  },
  {
   "cell_type": "code",
   "execution_count": 13,
   "metadata": {},
   "outputs": [
    {
     "data": {
      "image/png": "[encoded data removed]",
      "text/plain": [
       "<Figure size 640x480 with 1 Axes>"
      ]
     },
     "metadata": {},
     "output_type": "display_data"
    }
   ],
   "source": [
    "mses = np.array([mse(Y_train, pred, multioutput='raw_values') for pred in bbModel.predictions_by_round])\n",
    "\n",
    "coord = 0\n",
    "plt.plot(0,mses[0][coord],'.', label=\"Initial Model\")\n",
    "for i in range(1, bbModel.n_models+1):\n",
    "    indices = list(range(len(bbModel.predictions_by_round)))[i::(bbModel.n_models + 1)]\n",
    "    plt.plot(indices, mses[i::(bbModel.n_models + 1)][:, coord], '.', label=f\"Policy {i}\")\n",
    "indices = list(range(len(bbModel.predictions_by_round)))[(bbModel.n_models+1)::(bbModel.n_models + 1)]\n",
    "plt.plot(indices, mses[(bbModel.n_models+1)::(bbModel.n_models + 1)][:, coord], '.', label=\"Self-Consistency\")\n",
    "plt.legend()\n",
    "plt.title(\"BB Alg: MSE over Rounds, by Policy\");"
   ]
  },
  {
   "cell_type": "markdown",
   "metadata": {},
   "source": [
    "Comparison of MSE of our final model vs the MSEs of the original models in the first coordinate:"
   ]
  },
  {
   "cell_type": "code",
   "execution_count": 14,
   "metadata": {},
   "outputs": [
    {
     "name": "stdout",
     "output_type": "stream",
     "text": [
      "(Training) MSE of our model in 1st coordinate: 24.91174292776016\n",
      "(Training) MSE of model 1 in 1st coordinate:  3.2606036443667277\n",
      "(Training) MSE of model 2 in 1st coordinate: 249.96925444518638\n"
     ]
    }
   ],
   "source": [
    "print(f\"(Training) MSE of our model in 1st coordinate: {mses[-1][0]}\")\n",
    "print(f\"(Training) MSE of model 1 in 1st coordinate:  {mse(Y_train, h1(X_train), multioutput='raw_values')[0]}\")\n",
    "print(f\"(Training) MSE of model 2 in 1st coordinate: {mse(Y_train, h2(X_train), multioutput='raw_values')[0]}\")"
   ]
  },
  {
   "cell_type": "markdown",
   "metadata": {},
   "source": [
    "I.e., at least with the naive simplex policy, we don't match performance of the better of the two initial predictors in terms of squared error. \n",
    "\n",
    "Comparison of MSE overall:"
   ]
  },
  {
   "cell_type": "code",
   "execution_count": 15,
   "metadata": {},
   "outputs": [
    {
     "name": "stdout",
     "output_type": "stream",
     "text": [
      "(Training) MSE of our model: 32.2312074615876\n",
      "(Training) MSE of model 1:  160.48362803566994\n",
      "(Training) MSE of model 2: 127.987308858443\n"
     ]
    }
   ],
   "source": [
    "print(f\"(Training) MSE of our model: {mses[-1].mean()}\")\n",
    "print(f\"(Training) MSE of model 1:  {mse(Y_train, h1(X_train))}\")\n",
    "print(f\"(Training) MSE of model 2: {mse(Y_train, h2(X_train))}\")"
   ]
  },
  {
   "cell_type": "markdown",
   "metadata": {},
   "source": [
    "So, we do better overall than the original models. "
   ]
  },
  {
   "cell_type": "code",
   "execution_count": 16,
   "metadata": {},
   "outputs": [
    {
     "data": {
      "text/plain": [
       "Text(0.5, 1.0, 'BB Alg: Predicted and Realized Revenue over Rounds')"
      ]
     },
     "execution_count": 16,
     "metadata": {},
     "output_type": "execute_result"
    },
    {
     "data": {
      "image/png": "[encoded data removed]",
      "text/plain": [
       "<Figure size 640x480 with 1 Axes>"
      ]
     },
     "metadata": {},
     "output_type": "display_data"
    }
   ],
   "source": [
    "# predicted revenue of each point per round\n",
    "pred_rev = [np.einsum('ij,ij->i', bbModel.predictions_by_round[i], init_policy.run_given_preds(bbModel.predictions_by_round[i])) for i in range(len(bbModel.predictions_by_round))] #fancy vectorized row-wise dot product \n",
    "# realized revenue\n",
    "true_rev = [np.einsum('ij,ij->i', Y_train, init_policy.run_given_preds(bbModel.predictions_by_round[i])) for i in range(len(bbModel.predictions_by_round))]\n",
    "\n",
    "\n",
    "plt.plot(range(len(bbModel.predictions_by_round)), np.mean(pred_rev, axis=1), 'o', label=\"predicted mean rev of policy\")\n",
    "plt.plot(range(len(bbModel.predictions_by_round)), np.mean(true_rev, axis=1), 'o', label=\"realized mean rev of policy\")\n",
    "plt.legend()\n",
    "plt.title(\"BB Alg: Predicted and Realized Revenue over Rounds\")"
   ]
  },
  {
   "cell_type": "markdown",
   "metadata": {},
   "source": [
    "# Max Ensemble Method"
   ]
  },
  {
   "cell_type": "code",
   "execution_count": 17,
   "metadata": {},
   "outputs": [
    {
     "name": "stdout",
     "output_type": "stream",
     "text": [
      "Hit tolerance; halting debiasing.\n"
     ]
    }
   ],
   "source": [
    "max_depth =100\n",
    "tolerance = 0.1\n",
    "maxModel = maxDebias.EnsembledModel([h1,h2], [policy1, policy2], X_train, Y_train, max_depth, tolerance)\n",
    "maxModel.debias()"
   ]
  },
  {
   "cell_type": "code",
   "execution_count": 18,
   "metadata": {},
   "outputs": [
    {
     "data": {
      "image/png": "[encoded data removed]",
      "text/plain": [
       "<Figure size 640x480 with 1 Axes>"
      ]
     },
     "metadata": {},
     "output_type": "display_data"
    }
   ],
   "source": [
    "preds = np.array(maxModel.predictions_by_round)\n",
    "\n",
    "preds_by_model = [preds[:,i] for i in range(maxModel.n_models)]\n",
    "mses_by_model = np.zeros((len(preds_by_model), len(preds), maxModel.pred_dim))\n",
    "for i in range(maxModel.n_models):\n",
    "    for j in range(len(preds_by_model[i])):\n",
    "        mses_by_model[i][j] = mse(Y_train, preds_by_model[i][j], multioutput='raw_values')\n",
    "\n",
    "coord = 0\n",
    "for i in range(maxModel.n_models):\n",
    "    plt.plot(np.arange(len(maxModel.predictions_by_round)), mses_by_model[i][:,coord], label=f\"Model {i}\")\n",
    "plt.legend()\n",
    "plt.title(\"Max Ensemble Alg: MSE of Models over Rounds\");"
   ]
  },
  {
   "cell_type": "code",
   "execution_count": 19,
   "metadata": {},
   "outputs": [
    {
     "data": {
      "text/plain": [
       "[<matplotlib.lines.Line2D at 0x13bc12570>]"
      ]
     },
     "execution_count": 19,
     "metadata": {},
     "output_type": "execute_result"
    },
    {
     "data": {
      "image/png": "[encoded data removed]",
      "text/plain": [
       "<Figure size 640x480 with 1 Axes>"
      ]
     },
     "metadata": {},
     "output_type": "display_data"
    }
   ],
   "source": [
    "ensemble_mse = np.array([mse(Y_train, maxModel.meta_model_pred_by_round[i]) for i in range(len(maxModel.meta_model_pred_by_round))])\n",
    "coord = 0\n",
    "\n",
    "plt.plot(np.arange(len(ensemble_mse)), ensemble_mse)"
   ]
  },
  {
   "cell_type": "markdown",
   "metadata": {},
   "source": [
    "Comparing final MSEs of meta algorithm, BB method, and original models"
   ]
  },
  {
   "cell_type": "code",
   "execution_count": 20,
   "metadata": {},
   "outputs": [
    {
     "name": "stdout",
     "output_type": "stream",
     "text": [
      "(Training) MSE of BB Model in 1st coordinate: 24.91174292776016\n",
      "(Training) MSE of Max Ensemble Model in 1st coordinate: 18.32419837373195\n",
      "(Training) MSE of Model 1 in 1st coordinate:  3.2606036443667277\n",
      "(Training) MSE of Model 2 in 1st coordinate: 249.96925444518638\n"
     ]
    }
   ],
   "source": [
    "print(f\"(Training) MSE of BB Model in 1st coordinate: {mse(Y_train, bbModel.predictions_by_round[-1], multioutput='raw_values')[0]}\")\n",
    "print(f\"(Training) MSE of Max Ensemble Model in 1st coordinate: {mse(Y_train, maxModel.meta_model_pred_by_round[-1], multioutput='raw_values')[0]}\")\n",
    "print(f\"(Training) MSE of Model 1 in 1st coordinate:  {mse(Y_train, h1(X_train), multioutput='raw_values')[0]}\")\n",
    "print(f\"(Training) MSE of Model 2 in 1st coordinate: {mse(Y_train, h2(X_train), multioutput='raw_values')[0]}\")"
   ]
  },
  {
   "cell_type": "markdown",
   "metadata": {},
   "source": [
    "And overall MSE"
   ]
  },
  {
   "cell_type": "code",
   "execution_count": 21,
   "metadata": {},
   "outputs": [
    {
     "name": "stdout",
     "output_type": "stream",
     "text": [
      "(Training) MSE of BB Model: 32.2312074615876\n",
      "(Training) MSE of Max Ensemble Model: 12.192979078036055\n",
      "(Training) MSE of Model 1:  160.48362803566994\n",
      "(Training) MSE of Model 2: 127.987308858443\n"
     ]
    }
   ],
   "source": [
    "print(f\"(Training) MSE of BB Model: {mse(Y_train, bbModel.predictions_by_round[-1])}\")\n",
    "print(f\"(Training) MSE of Max Ensemble Model: {ensemble_mse[-1]}\")\n",
    "print(f\"(Training) MSE of Model 1:  {mse(Y_train, h1(X_train))}\")\n",
    "print(f\"(Training) MSE of Model 2: {mse(Y_train, h2(X_train))}\")"
   ]
  },
  {
   "cell_type": "markdown",
   "metadata": {},
   "source": [
    "# Comparing Methods on Revenue Objective\n",
    "\n",
    "This needs added."
   ]
  },
  {
   "cell_type": "markdown",
   "metadata": {},
   "source": [
    "# Testing Policy"
   ]
  },
  {
   "cell_type": "markdown",
   "metadata": {},
   "source": [
    "Note: Something wrong with this policy. Initial sanity checks passed, but when run on whole dataset, model never updates. Need to investigate more, but currently runs too slowly (e.g. overnight).\n",
    "\n",
    "\n",
    "Running on very small subset of data"
   ]
  },
  {
   "cell_type": "code",
   "execution_count": null,
   "metadata": {},
   "outputs": [
    {
     "name": "stdout",
     "output_type": "stream",
     "text": [
      "i 0\n"
     ]
    },
    {
     "name": "stderr",
     "output_type": "stream",
     "text": [
      "/opt/anaconda3/envs/bb-portfolio/lib/python3.12/site-packages/cvxpy/reductions/solvers/solving_chain.py:336: FutureWarning: \n",
      "    Your problem is being solved with the ECOS solver by default. Starting in \n",
      "    CVXPY 1.5.0, Clarabel will be used as the default solver instead. To continue \n",
      "    using ECOS, specify the ECOS solver explicitly using the ``solver=cp.ECOS`` \n",
      "    argument to the ``problem.solve`` method.\n",
      "    \n",
      "  warnings.warn(ECOS_DEPRECATION_MSG, FutureWarning)\n"
     ]
    }
   ],
   "source": [
    "# importlib.reload(policies)\n",
    "# policy = policies.ElectricTransformer(2, h1, 0.1, 25)\n",
    "# alloc = policy.run_given_preds(Y_train[0:5])"
   ]
  },
  {
   "cell_type": "markdown",
   "metadata": {},
   "source": [
    "Checking that constraints met"
   ]
  },
  {
   "cell_type": "code",
   "execution_count": null,
   "metadata": {},
   "outputs": [
    {
     "name": "stdout",
     "output_type": "stream",
     "text": [
      "Allocation: \n",
      " [[3.87780077e-01 6.12219923e-01]\n",
      " [6.77439029e-12 1.00000000e+00]\n",
      " [4.22319282e-01 5.77680718e-01]\n",
      " [1.56929188e-01 8.43070812e-01]\n",
      " [4.30984071e-01 5.69015929e-01]]\n",
      "Predictions: \n",
      " [[16.25       40.83499908]\n",
      " [ 2.74399996 11.19649982]\n",
      " [17.09399986 43.2765007 ]\n",
      " [12.10000038 29.6534996 ]\n",
      " [21.87800026 43.9355011 ]]\n",
      "Dot product:  [31.30142624 11.19649982 32.21912574 26.89884323 34.4290696 ]\n",
      "Sum of weights accross allocations:  [1. 1. 1. 1. 1.]\n",
      "Violations of min allocation?  0\n",
      "Violations of max allocation?  0\n"
     ]
    }
   ],
   "source": [
    "# print(\"Allocation: \\n\", alloc)\n",
    "# print(\"Predictions: \\n\", Y_train[0:5])\n",
    "# print(\"Dot product: \", np.einsum('ij,ij->i', Y_train[0:5], alloc))\n",
    "# print(\"Sum of weights accross allocations: \", alloc.sum(axis=1))\n",
    "# print(\"Violations of min allocation? \", np.sum(alloc<0))\n",
    "# print(\"Violations of max allocation? \", np.sum(alloc>1))"
   ]
  },
  {
   "cell_type": "markdown",
   "metadata": {},
   "source": [
    "Timing how long optimization runs on whole dataset"
   ]
  },
  {
   "cell_type": "code",
   "execution_count": null,
   "metadata": {},
   "outputs": [
    {
     "name": "stdout",
     "output_type": "stream",
     "text": [
      "i 0\n"
     ]
    },
    {
     "name": "stderr",
     "output_type": "stream",
     "text": [
      "/opt/anaconda3/envs/bb-portfolio/lib/python3.12/site-packages/cvxpy/reductions/solvers/solving_chain.py:336: FutureWarning: \n",
      "    Your problem is being solved with the ECOS solver by default. Starting in \n",
      "    CVXPY 1.5.0, Clarabel will be used as the default solver instead. To continue \n",
      "    using ECOS, specify the ECOS solver explicitly using the ``solver=cp.ECOS`` \n",
      "    argument to the ``problem.solve`` method.\n",
      "    \n",
      "  warnings.warn(ECOS_DEPRECATION_MSG, FutureWarning)\n"
     ]
    },
    {
     "name": "stdout",
     "output_type": "stream",
     "text": [
      "i 1000\n",
      "i 2000\n",
      "i 3000\n",
      "i 4000\n",
      "i 5000\n",
      "i 6000\n",
      "i 7000\n",
      "i 8000\n",
      "i 9000\n",
      "i 10000\n",
      "i 11000\n",
      "i 12000\n",
      "i 13000\n"
     ]
    }
   ],
   "source": [
    "\n",
    "# start_time = time.time()\n",
    "# alloc = policy.run_given_preds(Y_test)\n",
    "\n",
    "# # Record the end time\n",
    "# end_time = time.time()\n",
    "\n",
    "# # Calculate the elapsed time\n",
    "# elapsed_time = end_time - start_time"
   ]
  },
  {
   "cell_type": "code",
   "execution_count": null,
   "metadata": {},
   "outputs": [
    {
     "data": {
      "text/plain": [
       "71.14155411720276"
      ]
     },
     "execution_count": 81,
     "metadata": {},
     "output_type": "execute_result"
    }
   ],
   "source": [
    "elapsed_time"
   ]
  },
  {
   "cell_type": "code",
   "execution_count": null,
   "metadata": {},
   "outputs": [],
   "source": []
  },
  {
   "cell_type": "code",
   "execution_count": null,
   "metadata": {},
   "outputs": [],
   "source": []
  },
  {
   "cell_type": "code",
   "execution_count": null,
   "metadata": {},
   "outputs": [],
   "source": []
  },
  {
   "cell_type": "code",
   "execution_count": null,
   "metadata": {},
   "outputs": [],
   "source": []
  }
 ],
 "metadata": {
  "kernelspec": {
   "display_name": "bb-portfolio",
   "language": "python",
   "name": "python3"
  },
  "language_info": {
   "codemirror_mode": {
    "name": "ipython",
    "version": 3
   },
   "file_extension": ".py",
   "mimetype": "text/x-python",
   "name": "python",
   "nbconvert_exporter": "python",
   "pygments_lexer": "ipython3",
   "version": "3.12.1"
  }
 },
 "nbformat": 4,
 "nbformat_minor": 2
}
