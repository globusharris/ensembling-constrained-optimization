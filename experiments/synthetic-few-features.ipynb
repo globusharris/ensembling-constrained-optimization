{
 "cells": [
  {
   "cell_type": "markdown",
   "metadata": {},
   "source": [
    "# Synthetic Data Experiments with Few Features and Complex Label Relationship\n",
    "\n",
    "This dataset has relatively few features compared to the total number of datapoints. Some features are highly correlated, while others are not. We also have some categorical features, of different sizes."
   ]
  },
  {
   "cell_type": "code",
   "execution_count": 1,
   "metadata": {},
   "outputs": [],
   "source": [
    "import numpy as np"
   ]
  },
  {
   "cell_type": "code",
   "execution_count": 77,
   "metadata": {},
   "outputs": [],
   "source": [
    "def feature_gen(n, dim, cov_min, cov_max, mean_min, mean_max, num_categories):\n",
    "    \"\"\"\n",
    "    Generate feature data, which has one categorical feature and the rest generated as random Gaussian\n",
    "    according to a random covariance matrix.\n",
    "    \"\"\"\n",
    "\n",
    "    # First, generating the Gaussian data features\n",
    "\n",
    "    # Cholesky decomposition of random matrix to get a valid covariance matrix\n",
    "    M = np.random.uniform(cov_min, cov_max, size=(dim, dim))\n",
    "    cov = M.T @ M\n",
    "    mean = np.random.uniform(mean_min, mean_max, size=dim)\n",
    "    gauss_data = np.random.multivariate_normal(mean, cov, size=n)\n",
    "\n",
    "    # Next, generate categorical data\n",
    "    cat_data = np.random.choice(np.arange(num_categories), size=n)\n",
    "\n",
    "    # Combine\n",
    "    data = np.hstack((gauss_data, cat_data[:, np.newaxis]))\n",
    "    \n",
    "    return data\n",
    "\n",
    "def independent_label_gen(m, feature_data, cat_index, coeff_min, coeff_max, noise_scale):\n",
    "    \"\"\"\n",
    "    Come up with generating function for each of the dimensions of the label.\n",
    "    \"\"\"\n",
    "    n = feature_data.shape[1]\n",
    "    labels = np.zeros(shape=(n,m))\n",
    "\n",
    "    for i in range(m):\n",
    "        \n",
    "        coefficients = np.random.uniform(coeff_min, coeff_max, size=n + 1)\n",
    "        # need to use multidimensional polynomial blarg\n",
    "        # for j in range(n+1):\n",
    "            \n",
    "        #     labels[:,i] = np.polyval(coefficients[::-1], feature_data[:,i])\n",
    "\n",
    "        # # Add some random noise to the labels\n",
    "        # noise = np.random.normal(loc=0, scale=noise_scale, size=n)\n",
    "        # labels[:,i] += noise\n",
    "\n",
    "    return labels\n",
    "\n",
    "\n"
   ]
  },
  {
   "cell_type": "code",
   "execution_count": 78,
   "metadata": {},
   "outputs": [
    {
     "ename": "ValueError",
     "evalue": "could not broadcast input array from shape (10,) into shape (6,)",
     "output_type": "error",
     "traceback": [
      "\u001b[0;31m---------------------------------------------------------------------------\u001b[0m",
      "\u001b[0;31mValueError\u001b[0m                                Traceback (most recent call last)",
      "Cell \u001b[0;32mIn[78], line 2\u001b[0m\n\u001b[1;32m      1\u001b[0m xs \u001b[38;5;241m=\u001b[39m feature_gen(\u001b[38;5;241m10\u001b[39m, \u001b[38;5;241m5\u001b[39m, \u001b[38;5;241m-\u001b[39m\u001b[38;5;241m3\u001b[39m, \u001b[38;5;241m3\u001b[39m, \u001b[38;5;241m-\u001b[39m\u001b[38;5;241m5\u001b[39m, \u001b[38;5;241m5\u001b[39m, \u001b[38;5;241m3\u001b[39m)\n\u001b[0;32m----> 2\u001b[0m ys \u001b[38;5;241m=\u001b[39m \u001b[43mindependent_label_gen\u001b[49m\u001b[43m(\u001b[49m\u001b[38;5;241;43m4\u001b[39;49m\u001b[43m,\u001b[49m\u001b[43m \u001b[49m\u001b[43mxs\u001b[49m\u001b[43m,\u001b[49m\u001b[43m \u001b[49m\u001b[38;5;241;43m-\u001b[39;49m\u001b[38;5;241;43m1\u001b[39;49m\u001b[43m,\u001b[49m\u001b[43m \u001b[49m\u001b[38;5;241;43m-\u001b[39;49m\u001b[38;5;241;43m10\u001b[39;49m\u001b[43m,\u001b[49m\u001b[43m \u001b[49m\u001b[38;5;241;43m10\u001b[39;49m\u001b[43m,\u001b[49m\u001b[43m \u001b[49m\u001b[38;5;241;43m0.01\u001b[39;49m\u001b[43m)\u001b[49m\n",
      "Cell \u001b[0;32mIn[77], line 33\u001b[0m, in \u001b[0;36mindependent_label_gen\u001b[0;34m(m, feature_data, cat_index, coeff_min, coeff_max, noise_scale)\u001b[0m\n\u001b[1;32m     30\u001b[0m \u001b[38;5;28;01mfor\u001b[39;00m i \u001b[38;5;129;01min\u001b[39;00m \u001b[38;5;28mrange\u001b[39m(m):\n\u001b[1;32m     32\u001b[0m     coefficients \u001b[38;5;241m=\u001b[39m np\u001b[38;5;241m.\u001b[39mrandom\u001b[38;5;241m.\u001b[39muniform(coeff_min, coeff_max, size\u001b[38;5;241m=\u001b[39mn \u001b[38;5;241m+\u001b[39m \u001b[38;5;241m1\u001b[39m)\n\u001b[0;32m---> 33\u001b[0m     \u001b[43mlabels\u001b[49m\u001b[43m[\u001b[49m\u001b[43m:\u001b[49m\u001b[43m,\u001b[49m\u001b[43mi\u001b[49m\u001b[43m]\u001b[49m \u001b[38;5;241m=\u001b[39m np\u001b[38;5;241m.\u001b[39mpolyval(coefficients[::\u001b[38;5;241m-\u001b[39m\u001b[38;5;241m1\u001b[39m], feature_data[:,i])\n\u001b[1;32m     35\u001b[0m     \u001b[38;5;66;03m# Add some random noise to the labels\u001b[39;00m\n\u001b[1;32m     36\u001b[0m     noise \u001b[38;5;241m=\u001b[39m np\u001b[38;5;241m.\u001b[39mrandom\u001b[38;5;241m.\u001b[39mnormal(loc\u001b[38;5;241m=\u001b[39m\u001b[38;5;241m0\u001b[39m, scale\u001b[38;5;241m=\u001b[39mnoise_scale, size\u001b[38;5;241m=\u001b[39mn)\n",
      "\u001b[0;31mValueError\u001b[0m: could not broadcast input array from shape (10,) into shape (6,)"
     ]
    }
   ],
   "source": [
    "xs = feature_gen(10, 5, -3, 3, -5, 5, 3)\n",
    "ys = independent_label_gen(4, xs, -1, -10, 10, 0.01)"
   ]
  },
  {
   "cell_type": "code",
   "execution_count": 125,
   "metadata": {},
   "outputs": [
    {
     "ename": "ValueError",
     "evalue": "operands could not be broadcast together with shapes (5,2) (3,2) ",
     "output_type": "error",
     "traceback": [
      "\u001b[0;31m---------------------------------------------------------------------------\u001b[0m",
      "\u001b[0;31mValueError\u001b[0m                                Traceback (most recent call last)",
      "Cell \u001b[0;32mIn[125], line 13\u001b[0m\n\u001b[1;32m     10\u001b[0m coefficients \u001b[38;5;241m=\u001b[39m np\u001b[38;5;241m.\u001b[39mrandom\u001b[38;5;241m.\u001b[39mrandn(n_terms)\n\u001b[1;32m     11\u001b[0m powers \u001b[38;5;241m=\u001b[39m np\u001b[38;5;241m.\u001b[39mrandom\u001b[38;5;241m.\u001b[39mrandint(\u001b[38;5;241m0\u001b[39m, \u001b[38;5;241m4\u001b[39m, size\u001b[38;5;241m=\u001b[39m(n_terms, n_features)) \n\u001b[0;32m---> 13\u001b[0m terms \u001b[38;5;241m=\u001b[39m coefficients[:, np\u001b[38;5;241m.\u001b[39mnewaxis] \u001b[38;5;241m*\u001b[39m (\u001b[43mdata\u001b[49m\u001b[43m \u001b[49m\u001b[38;5;241;43m*\u001b[39;49m\u001b[38;5;241;43m*\u001b[39;49m\u001b[43m \u001b[49m\u001b[43mpowers\u001b[49m)\n\u001b[1;32m     14\u001b[0m label \u001b[38;5;241m=\u001b[39m np\u001b[38;5;241m.\u001b[39msum(terms, axis\u001b[38;5;241m=\u001b[39m\u001b[38;5;241m0\u001b[39m)\n",
      "\u001b[0;31mValueError\u001b[0m: operands could not be broadcast together with shapes (5,2) (3,2) "
     ]
    }
   ],
   "source": [
    "# Example usage\n",
    "n_terms = 3  # Number of terms in the polynomial\n",
    "n_features = 2  # Number of features\n",
    "n_samples = 5  # Number of samples\n",
    "\n",
    "mean = (1, 2)\n",
    "cov = [[1, 0], [0, 1]]\n",
    "data = np.random.multivariate_normal(mean, cov, size=n_samples)\n",
    "\n",
    "coefficients = np.random.randn(n_terms)\n",
    "powers = np.random.randint(0, 4, size=(n_terms, n_features)) \n",
    "\n",
    "for i in range(len(data)):\n",
    "    for j in range(len(coefficients)):\n",
    "        coefficients[j] * data[0]\n",
    "\n",
    "\n",
    "terms = coefficients[:, np.newaxis] * (data ** powers)\n",
    "label = np.sum(terms, axis=0)\n",
    "\n"
   ]
  },
  {
   "cell_type": "code",
   "execution_count": 135,
   "metadata": {},
   "outputs": [
    {
     "data": {
      "text/plain": [
       "array([-0.52401524,  1.20156095])"
      ]
     },
     "execution_count": 135,
     "metadata": {},
     "output_type": "execute_result"
    }
   ],
   "source": [
    "data[0]"
   ]
  },
  {
   "cell_type": "code",
   "execution_count": 136,
   "metadata": {},
   "outputs": [
    {
     "data": {
      "text/plain": [
       "array([0, 2])"
      ]
     },
     "execution_count": 136,
     "metadata": {},
     "output_type": "execute_result"
    }
   ],
   "source": [
    "powers[0]"
   ]
  },
  {
   "cell_type": "code",
   "execution_count": 138,
   "metadata": {},
   "outputs": [
    {
     "data": {
      "text/plain": [
       "array([0.60756686, 0.87717388])"
      ]
     },
     "execution_count": 138,
     "metadata": {},
     "output_type": "execute_result"
    }
   ],
   "source": [
    "coefficients[0] * data[0]**powers[0]"
   ]
  },
  {
   "cell_type": "code",
   "execution_count": 137,
   "metadata": {},
   "outputs": [
    {
     "data": {
      "text/plain": [
       "array([ 0.60756686, -1.51917998, -0.00533647])"
      ]
     },
     "execution_count": 137,
     "metadata": {},
     "output_type": "execute_result"
    }
   ],
   "source": [
    "coefficients"
   ]
  },
  {
   "cell_type": "code",
   "execution_count": 132,
   "metadata": {},
   "outputs": [
    {
     "data": {
      "text/plain": [
       "(3, 2)"
      ]
     },
     "execution_count": 132,
     "metadata": {},
     "output_type": "execute_result"
    }
   ],
   "source": [
    "powers.shape"
   ]
  },
  {
   "cell_type": "code",
   "execution_count": null,
   "metadata": {},
   "outputs": [],
   "source": []
  }
 ],
 "metadata": {
  "kernelspec": {
   "display_name": "bb-portfolio",
   "language": "python",
   "name": "python3"
  },
  "language_info": {
   "codemirror_mode": {
    "name": "ipython",
    "version": 3
   },
   "file_extension": ".py",
   "mimetype": "text/x-python",
   "name": "python",
   "nbconvert_exporter": "python",
   "pygments_lexer": "ipython3",
   "version": "3.12.1"
  }
 },
 "nbformat": 4,
 "nbformat_minor": 2
}
