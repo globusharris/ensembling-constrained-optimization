{
 "cells": [
  {
   "cell_type": "markdown",
   "metadata": {},
   "source": [
    "before running an experiment there are exactly 7 cells you need to modify - the config files, the constituent models (this is spread over three cells), the instantiation of the optimization problem, and calling each of the bDebias and maxEnsembleDebias modules with the correct inputs. each cell that needs modifying is tagged at the beginning with a note. plots are saved in results/ directory."
   ]
  },
  {
   "cell_type": "code",
   "execution_count": 1,
   "metadata": {},
   "outputs": [],
   "source": [
    "import sys\n",
    "sys.path.append('../src')\n",
    "\n",
    "import numpy as np\n",
    "import pandas as pd\n",
    "\n",
    "import importlib\n",
    "import pathlib\n",
    "\n",
    "from sklearn.ensemble import GradientBoostingRegressor\n",
    "from sklearn.model_selection import train_test_split\n",
    "from sklearn.metrics import mean_squared_error as mse\n",
    "\n",
    "import policies\n",
    "import bbDebiasing as bbDebias\n",
    "import maxEnsembleDebias as maxDebias\n",
    "\n",
    "import matplotlib.pyplot as plt\n",
    "\n",
    "import time"
   ]
  },
  {
   "cell_type": "code",
   "execution_count": 2,
   "metadata": {},
   "outputs": [],
   "source": [
    "## note: update this cell before each experiment\n",
    "## config\n",
    "dataset = \"options\"\n",
    "initial_model_type = \"gradient boosting\"\n",
    "optimization_type = \"linear max\"\n",
    "summary = \"Target is IV for each of the ~40 options. Eight initial models trained with access to one feature and predict the mean for the rest.\"\n"
   ]
  },
  {
   "cell_type": "code",
   "execution_count": 3,
   "metadata": {},
   "outputs": [],
   "source": [
    "pathlib.Path(\"results/{0}_{1}_{2}\".format(dataset, initial_model_type, optimization_type)).mkdir(parents=True, exist_ok=True)\n",
    "with open(\"results/{0}_{1}_{2}/config\".format(dataset, initial_model_type, optimization_type), \"w\") as text_file:\n",
    "    text_file.write(\"{0}\\n{1}\\n{2}\\n{3}\".format(dataset, initial_model_type, optimization_type, summary))\n",
    "    "
   ]
  },
  {
   "cell_type": "code",
   "execution_count": 4,
   "metadata": {},
   "outputs": [
    {
     "data": {
      "text/plain": [
       "date                           0\n",
       "strikes_spread_OSPN            0\n",
       "calls_contracts_traded_OSPN    0\n",
       "puts_contracts_traded_OSPN     0\n",
       "calls_open_interest_OSPN       0\n",
       "                              ..\n",
       "hv_90_PTCT                     0\n",
       "hv_120_PTCT                    0\n",
       "hv_180_PTCT                    0\n",
       "hv_200_PTCT                    0\n",
       "VIX_PTCT                       0\n",
       "Length: 1036, dtype: int64"
      ]
     },
     "execution_count": 4,
     "metadata": {},
     "output_type": "execute_result"
    }
   ],
   "source": [
    "# reading in the data\n",
    "data = pd.read_csv('../options500', index_col=0)\n",
    "\n",
    "# check for nans\n",
    "data.isna().sum()"
   ]
  },
  {
   "cell_type": "code",
   "execution_count": 5,
   "metadata": {},
   "outputs": [],
   "source": [
    "# handle or drop date column\n",
    "data = data.drop(columns='date')"
   ]
  },
  {
   "cell_type": "code",
   "execution_count": 6,
   "metadata": {},
   "outputs": [],
   "source": [
    "covariates = list(data.columns)\n",
    "targets = []\n",
    "\n",
    "# only including some subset of targets in data\n",
    "# target_names = ['DITM_IV', 'ITM_IV', 'sITM_IV', 'ATM_IV', 'sOTM_IV', 'OTM_IV', 'DOTM_IV']\n",
    "target_names = ['DITM_IV']\n",
    "for name in target_names:\n",
    "    for f in covariates:\n",
    "        if name in f:\n",
    "            targets.append(f)\n",
    "            covariates.remove(f)"
   ]
  },
  {
   "cell_type": "code",
   "execution_count": 7,
   "metadata": {},
   "outputs": [],
   "source": [
    "X = data[covariates].values\n",
    "Y = data[targets].values \n",
    "\n",
    "X_train, X_test, Y_train, Y_test = train_test_split(X, Y, test_size=0.2, random_state=42)"
   ]
  },
  {
   "cell_type": "markdown",
   "metadata": {},
   "source": [
    "Training two gradient boosting regressors, one on for each of the first two (of 315 total) targets."
   ]
  },
  {
   "cell_type": "code",
   "execution_count": 8,
   "metadata": {},
   "outputs": [
    {
     "data": {
      "text/html": [
       "<style>#sk-container-id-1 {\n",
       "  /* Definition of color scheme common for light and dark mode */\n",
       "  --sklearn-color-text: black;\n",
       "  --sklearn-color-line: gray;\n",
       "  /* Definition of color scheme for unfitted estimators */\n",
       "  --sklearn-color-unfitted-level-0: #fff5e6;\n",
       "  --sklearn-color-unfitted-level-1: #f6e4d2;\n",
       "  --sklearn-color-unfitted-level-2: #ffe0b3;\n",
       "  --sklearn-color-unfitted-level-3: chocolate;\n",
       "  /* Definition of color scheme for fitted estimators */\n",
       "  --sklearn-color-fitted-level-0: #f0f8ff;\n",
       "  --sklearn-color-fitted-level-1: #d4ebff;\n",
       "  --sklearn-color-fitted-level-2: #b3dbfd;\n",
       "  --sklearn-color-fitted-level-3: cornflowerblue;\n",
       "\n",
       "  /* Specific color for light theme */\n",
       "  --sklearn-color-text-on-default-background: var(--sg-text-color, var(--theme-code-foreground, var(--jp-content-font-color1, black)));\n",
       "  --sklearn-color-background: var(--sg-background-color, var(--theme-background, var(--jp-layout-color0, white)));\n",
       "  --sklearn-color-border-box: var(--sg-text-color, var(--theme-code-foreground, var(--jp-content-font-color1, black)));\n",
       "  --sklearn-color-icon: #696969;\n",
       "\n",
       "  @media (prefers-color-scheme: dark) {\n",
       "    /* Redefinition of color scheme for dark theme */\n",
       "    --sklearn-color-text-on-default-background: var(--sg-text-color, var(--theme-code-foreground, var(--jp-content-font-color1, white)));\n",
       "    --sklearn-color-background: var(--sg-background-color, var(--theme-background, var(--jp-layout-color0, #111)));\n",
       "    --sklearn-color-border-box: var(--sg-text-color, var(--theme-code-foreground, var(--jp-content-font-color1, white)));\n",
       "    --sklearn-color-icon: #878787;\n",
       "  }\n",
       "}\n",
       "\n",
       "#sk-container-id-1 {\n",
       "  color: var(--sklearn-color-text);\n",
       "}\n",
       "\n",
       "#sk-container-id-1 pre {\n",
       "  padding: 0;\n",
       "}\n",
       "\n",
       "#sk-container-id-1 input.sk-hidden--visually {\n",
       "  border: 0;\n",
       "  clip: rect(1px 1px 1px 1px);\n",
       "  clip: rect(1px, 1px, 1px, 1px);\n",
       "  height: 1px;\n",
       "  margin: -1px;\n",
       "  overflow: hidden;\n",
       "  padding: 0;\n",
       "  position: absolute;\n",
       "  width: 1px;\n",
       "}\n",
       "\n",
       "#sk-container-id-1 div.sk-dashed-wrapped {\n",
       "  border: 1px dashed var(--sklearn-color-line);\n",
       "  margin: 0 0.4em 0.5em 0.4em;\n",
       "  box-sizing: border-box;\n",
       "  padding-bottom: 0.4em;\n",
       "  background-color: var(--sklearn-color-background);\n",
       "}\n",
       "\n",
       "#sk-container-id-1 div.sk-container {\n",
       "  /* jupyter's `normalize.less` sets `[hidden] { display: none; }`\n",
       "     but bootstrap.min.css set `[hidden] { display: none !important; }`\n",
       "     so we also need the `!important` here to be able to override the\n",
       "     default hidden behavior on the sphinx rendered scikit-learn.org.\n",
       "     See: https://github.com/scikit-learn/scikit-learn/issues/21755 */\n",
       "  display: inline-block !important;\n",
       "  position: relative;\n",
       "}\n",
       "\n",
       "#sk-container-id-1 div.sk-text-repr-fallback {\n",
       "  display: none;\n",
       "}\n",
       "\n",
       "div.sk-parallel-item,\n",
       "div.sk-serial,\n",
       "div.sk-item {\n",
       "  /* draw centered vertical line to link estimators */\n",
       "  background-image: linear-gradient(var(--sklearn-color-text-on-default-background), var(--sklearn-color-text-on-default-background));\n",
       "  background-size: 2px 100%;\n",
       "  background-repeat: no-repeat;\n",
       "  background-position: center center;\n",
       "}\n",
       "\n",
       "/* Parallel-specific style estimator block */\n",
       "\n",
       "#sk-container-id-1 div.sk-parallel-item::after {\n",
       "  content: \"\";\n",
       "  width: 100%;\n",
       "  border-bottom: 2px solid var(--sklearn-color-text-on-default-background);\n",
       "  flex-grow: 1;\n",
       "}\n",
       "\n",
       "#sk-container-id-1 div.sk-parallel {\n",
       "  display: flex;\n",
       "  align-items: stretch;\n",
       "  justify-content: center;\n",
       "  background-color: var(--sklearn-color-background);\n",
       "  position: relative;\n",
       "}\n",
       "\n",
       "#sk-container-id-1 div.sk-parallel-item {\n",
       "  display: flex;\n",
       "  flex-direction: column;\n",
       "}\n",
       "\n",
       "#sk-container-id-1 div.sk-parallel-item:first-child::after {\n",
       "  align-self: flex-end;\n",
       "  width: 50%;\n",
       "}\n",
       "\n",
       "#sk-container-id-1 div.sk-parallel-item:last-child::after {\n",
       "  align-self: flex-start;\n",
       "  width: 50%;\n",
       "}\n",
       "\n",
       "#sk-container-id-1 div.sk-parallel-item:only-child::after {\n",
       "  width: 0;\n",
       "}\n",
       "\n",
       "/* Serial-specific style estimator block */\n",
       "\n",
       "#sk-container-id-1 div.sk-serial {\n",
       "  display: flex;\n",
       "  flex-direction: column;\n",
       "  align-items: center;\n",
       "  background-color: var(--sklearn-color-background);\n",
       "  padding-right: 1em;\n",
       "  padding-left: 1em;\n",
       "}\n",
       "\n",
       "\n",
       "/* Toggleable style: style used for estimator/Pipeline/ColumnTransformer box that is\n",
       "clickable and can be expanded/collapsed.\n",
       "- Pipeline and ColumnTransformer use this feature and define the default style\n",
       "- Estimators will overwrite some part of the style using the `sk-estimator` class\n",
       "*/\n",
       "\n",
       "/* Pipeline and ColumnTransformer style (default) */\n",
       "\n",
       "#sk-container-id-1 div.sk-toggleable {\n",
       "  /* Default theme specific background. It is overwritten whether we have a\n",
       "  specific estimator or a Pipeline/ColumnTransformer */\n",
       "  background-color: var(--sklearn-color-background);\n",
       "}\n",
       "\n",
       "/* Toggleable label */\n",
       "#sk-container-id-1 label.sk-toggleable__label {\n",
       "  cursor: pointer;\n",
       "  display: block;\n",
       "  width: 100%;\n",
       "  margin-bottom: 0;\n",
       "  padding: 0.5em;\n",
       "  box-sizing: border-box;\n",
       "  text-align: center;\n",
       "}\n",
       "\n",
       "#sk-container-id-1 label.sk-toggleable__label-arrow:before {\n",
       "  /* Arrow on the left of the label */\n",
       "  content: \"▸\";\n",
       "  float: left;\n",
       "  margin-right: 0.25em;\n",
       "  color: var(--sklearn-color-icon);\n",
       "}\n",
       "\n",
       "#sk-container-id-1 label.sk-toggleable__label-arrow:hover:before {\n",
       "  color: var(--sklearn-color-text);\n",
       "}\n",
       "\n",
       "/* Toggleable content - dropdown */\n",
       "\n",
       "#sk-container-id-1 div.sk-toggleable__content {\n",
       "  max-height: 0;\n",
       "  max-width: 0;\n",
       "  overflow: hidden;\n",
       "  text-align: left;\n",
       "  /* unfitted */\n",
       "  background-color: var(--sklearn-color-unfitted-level-0);\n",
       "}\n",
       "\n",
       "#sk-container-id-1 div.sk-toggleable__content.fitted {\n",
       "  /* fitted */\n",
       "  background-color: var(--sklearn-color-fitted-level-0);\n",
       "}\n",
       "\n",
       "#sk-container-id-1 div.sk-toggleable__content pre {\n",
       "  margin: 0.2em;\n",
       "  border-radius: 0.25em;\n",
       "  color: var(--sklearn-color-text);\n",
       "  /* unfitted */\n",
       "  background-color: var(--sklearn-color-unfitted-level-0);\n",
       "}\n",
       "\n",
       "#sk-container-id-1 div.sk-toggleable__content.fitted pre {\n",
       "  /* unfitted */\n",
       "  background-color: var(--sklearn-color-fitted-level-0);\n",
       "}\n",
       "\n",
       "#sk-container-id-1 input.sk-toggleable__control:checked~div.sk-toggleable__content {\n",
       "  /* Expand drop-down */\n",
       "  max-height: 200px;\n",
       "  max-width: 100%;\n",
       "  overflow: auto;\n",
       "}\n",
       "\n",
       "#sk-container-id-1 input.sk-toggleable__control:checked~label.sk-toggleable__label-arrow:before {\n",
       "  content: \"▾\";\n",
       "}\n",
       "\n",
       "/* Pipeline/ColumnTransformer-specific style */\n",
       "\n",
       "#sk-container-id-1 div.sk-label input.sk-toggleable__control:checked~label.sk-toggleable__label {\n",
       "  color: var(--sklearn-color-text);\n",
       "  background-color: var(--sklearn-color-unfitted-level-2);\n",
       "}\n",
       "\n",
       "#sk-container-id-1 div.sk-label.fitted input.sk-toggleable__control:checked~label.sk-toggleable__label {\n",
       "  background-color: var(--sklearn-color-fitted-level-2);\n",
       "}\n",
       "\n",
       "/* Estimator-specific style */\n",
       "\n",
       "/* Colorize estimator box */\n",
       "#sk-container-id-1 div.sk-estimator input.sk-toggleable__control:checked~label.sk-toggleable__label {\n",
       "  /* unfitted */\n",
       "  background-color: var(--sklearn-color-unfitted-level-2);\n",
       "}\n",
       "\n",
       "#sk-container-id-1 div.sk-estimator.fitted input.sk-toggleable__control:checked~label.sk-toggleable__label {\n",
       "  /* fitted */\n",
       "  background-color: var(--sklearn-color-fitted-level-2);\n",
       "}\n",
       "\n",
       "#sk-container-id-1 div.sk-label label.sk-toggleable__label,\n",
       "#sk-container-id-1 div.sk-label label {\n",
       "  /* The background is the default theme color */\n",
       "  color: var(--sklearn-color-text-on-default-background);\n",
       "}\n",
       "\n",
       "/* On hover, darken the color of the background */\n",
       "#sk-container-id-1 div.sk-label:hover label.sk-toggleable__label {\n",
       "  color: var(--sklearn-color-text);\n",
       "  background-color: var(--sklearn-color-unfitted-level-2);\n",
       "}\n",
       "\n",
       "/* Label box, darken color on hover, fitted */\n",
       "#sk-container-id-1 div.sk-label.fitted:hover label.sk-toggleable__label.fitted {\n",
       "  color: var(--sklearn-color-text);\n",
       "  background-color: var(--sklearn-color-fitted-level-2);\n",
       "}\n",
       "\n",
       "/* Estimator label */\n",
       "\n",
       "#sk-container-id-1 div.sk-label label {\n",
       "  font-family: monospace;\n",
       "  font-weight: bold;\n",
       "  display: inline-block;\n",
       "  line-height: 1.2em;\n",
       "}\n",
       "\n",
       "#sk-container-id-1 div.sk-label-container {\n",
       "  text-align: center;\n",
       "}\n",
       "\n",
       "/* Estimator-specific */\n",
       "#sk-container-id-1 div.sk-estimator {\n",
       "  font-family: monospace;\n",
       "  border: 1px dotted var(--sklearn-color-border-box);\n",
       "  border-radius: 0.25em;\n",
       "  box-sizing: border-box;\n",
       "  margin-bottom: 0.5em;\n",
       "  /* unfitted */\n",
       "  background-color: var(--sklearn-color-unfitted-level-0);\n",
       "}\n",
       "\n",
       "#sk-container-id-1 div.sk-estimator.fitted {\n",
       "  /* fitted */\n",
       "  background-color: var(--sklearn-color-fitted-level-0);\n",
       "}\n",
       "\n",
       "/* on hover */\n",
       "#sk-container-id-1 div.sk-estimator:hover {\n",
       "  /* unfitted */\n",
       "  background-color: var(--sklearn-color-unfitted-level-2);\n",
       "}\n",
       "\n",
       "#sk-container-id-1 div.sk-estimator.fitted:hover {\n",
       "  /* fitted */\n",
       "  background-color: var(--sklearn-color-fitted-level-2);\n",
       "}\n",
       "\n",
       "/* Specification for estimator info (e.g. \"i\" and \"?\") */\n",
       "\n",
       "/* Common style for \"i\" and \"?\" */\n",
       "\n",
       ".sk-estimator-doc-link,\n",
       "a:link.sk-estimator-doc-link,\n",
       "a:visited.sk-estimator-doc-link {\n",
       "  float: right;\n",
       "  font-size: smaller;\n",
       "  line-height: 1em;\n",
       "  font-family: monospace;\n",
       "  background-color: var(--sklearn-color-background);\n",
       "  border-radius: 1em;\n",
       "  height: 1em;\n",
       "  width: 1em;\n",
       "  text-decoration: none !important;\n",
       "  margin-left: 1ex;\n",
       "  /* unfitted */\n",
       "  border: var(--sklearn-color-unfitted-level-1) 1pt solid;\n",
       "  color: var(--sklearn-color-unfitted-level-1);\n",
       "}\n",
       "\n",
       ".sk-estimator-doc-link.fitted,\n",
       "a:link.sk-estimator-doc-link.fitted,\n",
       "a:visited.sk-estimator-doc-link.fitted {\n",
       "  /* fitted */\n",
       "  border: var(--sklearn-color-fitted-level-1) 1pt solid;\n",
       "  color: var(--sklearn-color-fitted-level-1);\n",
       "}\n",
       "\n",
       "/* On hover */\n",
       "div.sk-estimator:hover .sk-estimator-doc-link:hover,\n",
       ".sk-estimator-doc-link:hover,\n",
       "div.sk-label-container:hover .sk-estimator-doc-link:hover,\n",
       ".sk-estimator-doc-link:hover {\n",
       "  /* unfitted */\n",
       "  background-color: var(--sklearn-color-unfitted-level-3);\n",
       "  color: var(--sklearn-color-background);\n",
       "  text-decoration: none;\n",
       "}\n",
       "\n",
       "div.sk-estimator.fitted:hover .sk-estimator-doc-link.fitted:hover,\n",
       ".sk-estimator-doc-link.fitted:hover,\n",
       "div.sk-label-container:hover .sk-estimator-doc-link.fitted:hover,\n",
       ".sk-estimator-doc-link.fitted:hover {\n",
       "  /* fitted */\n",
       "  background-color: var(--sklearn-color-fitted-level-3);\n",
       "  color: var(--sklearn-color-background);\n",
       "  text-decoration: none;\n",
       "}\n",
       "\n",
       "/* Span, style for the box shown on hovering the info icon */\n",
       ".sk-estimator-doc-link span {\n",
       "  display: none;\n",
       "  z-index: 9999;\n",
       "  position: relative;\n",
       "  font-weight: normal;\n",
       "  right: .2ex;\n",
       "  padding: .5ex;\n",
       "  margin: .5ex;\n",
       "  width: min-content;\n",
       "  min-width: 20ex;\n",
       "  max-width: 50ex;\n",
       "  color: var(--sklearn-color-text);\n",
       "  box-shadow: 2pt 2pt 4pt #999;\n",
       "  /* unfitted */\n",
       "  background: var(--sklearn-color-unfitted-level-0);\n",
       "  border: .5pt solid var(--sklearn-color-unfitted-level-3);\n",
       "}\n",
       "\n",
       ".sk-estimator-doc-link.fitted span {\n",
       "  /* fitted */\n",
       "  background: var(--sklearn-color-fitted-level-0);\n",
       "  border: var(--sklearn-color-fitted-level-3);\n",
       "}\n",
       "\n",
       ".sk-estimator-doc-link:hover span {\n",
       "  display: block;\n",
       "}\n",
       "\n",
       "/* \"?\"-specific style due to the `<a>` HTML tag */\n",
       "\n",
       "#sk-container-id-1 a.estimator_doc_link {\n",
       "  float: right;\n",
       "  font-size: 1rem;\n",
       "  line-height: 1em;\n",
       "  font-family: monospace;\n",
       "  background-color: var(--sklearn-color-background);\n",
       "  border-radius: 1rem;\n",
       "  height: 1rem;\n",
       "  width: 1rem;\n",
       "  text-decoration: none;\n",
       "  /* unfitted */\n",
       "  color: var(--sklearn-color-unfitted-level-1);\n",
       "  border: var(--sklearn-color-unfitted-level-1) 1pt solid;\n",
       "}\n",
       "\n",
       "#sk-container-id-1 a.estimator_doc_link.fitted {\n",
       "  /* fitted */\n",
       "  border: var(--sklearn-color-fitted-level-1) 1pt solid;\n",
       "  color: var(--sklearn-color-fitted-level-1);\n",
       "}\n",
       "\n",
       "/* On hover */\n",
       "#sk-container-id-1 a.estimator_doc_link:hover {\n",
       "  /* unfitted */\n",
       "  background-color: var(--sklearn-color-unfitted-level-3);\n",
       "  color: var(--sklearn-color-background);\n",
       "  text-decoration: none;\n",
       "}\n",
       "\n",
       "#sk-container-id-1 a.estimator_doc_link.fitted:hover {\n",
       "  /* fitted */\n",
       "  background-color: var(--sklearn-color-fitted-level-3);\n",
       "}\n",
       "</style><div id=\"sk-container-id-1\" class=\"sk-top-container\"><div class=\"sk-text-repr-fallback\"><pre>GradientBoostingRegressor(max_depth=6, random_state=42)</pre><b>In a Jupyter environment, please rerun this cell to show the HTML representation or trust the notebook. <br />On GitHub, the HTML representation is unable to render, please try loading this page with nbviewer.org.</b></div><div class=\"sk-container\" hidden><div class=\"sk-item\"><div class=\"sk-estimator fitted sk-toggleable\"><input class=\"sk-toggleable__control sk-hidden--visually\" id=\"sk-estimator-id-1\" type=\"checkbox\" checked><label for=\"sk-estimator-id-1\" class=\"sk-toggleable__label fitted sk-toggleable__label-arrow fitted\">&nbsp;&nbsp;GradientBoostingRegressor<a class=\"sk-estimator-doc-link fitted\" rel=\"noreferrer\" target=\"_blank\" href=\"https://scikit-learn.org/1.4/modules/generated/sklearn.ensemble.GradientBoostingRegressor.html\">?<span>Documentation for GradientBoostingRegressor</span></a><span class=\"sk-estimator-doc-link fitted\">i<span>Fitted</span></span></label><div class=\"sk-toggleable__content fitted\"><pre>GradientBoostingRegressor(max_depth=6, random_state=42)</pre></div> </div></div></div></div>"
      ],
      "text/plain": [
       "GradientBoostingRegressor(max_depth=6, random_state=42)"
      ]
     },
     "execution_count": 8,
     "metadata": {},
     "output_type": "execute_result"
    }
   ],
   "source": [
    "## note: update this cell before each experiment\n",
    "\n",
    "gb1 = GradientBoostingRegressor(learning_rate=0.1, max_depth=6, random_state=42)\n",
    "gb1.fit(X_train, Y_train[:,0])\n",
    "\n",
    "gb2 = GradientBoostingRegressor(learning_rate=0.1, max_depth=6, random_state=42)\n",
    "gb2.fit(X_train, Y_train[:,1])\n",
    "\n",
    "gb3 = GradientBoostingRegressor(learning_rate=0.1, max_depth=6, random_state=42)\n",
    "gb3.fit(X_train, Y_train[:,2])\n",
    "\n",
    "gb4 = GradientBoostingRegressor(learning_rate=0.1, max_depth=6, random_state=42)\n",
    "gb4.fit(X_train, Y_train[:,3])\n",
    "\n",
    "gb5 = GradientBoostingRegressor(learning_rate=0.1, max_depth=6, random_state=42)\n",
    "gb5.fit(X_train, Y_train[:,4])\n",
    "\n",
    "gb6 = GradientBoostingRegressor(learning_rate=0.1, max_depth=6, random_state=42)\n",
    "gb6.fit(X_train, Y_train[:,5])\n",
    "\n",
    "gb7 = GradientBoostingRegressor(learning_rate=0.1, max_depth=6, random_state=42)\n",
    "gb7.fit(X_train, Y_train[:,6])\n",
    "\n",
    "gb8 = GradientBoostingRegressor(learning_rate=0.1, max_depth=6, random_state=42)\n",
    "gb8.fit(X_train, Y_train[:,7])\n"
   ]
  },
  {
   "cell_type": "markdown",
   "metadata": {},
   "source": [
    "Verifying that the error is at least sort of on correct scale for the data."
   ]
  },
  {
   "cell_type": "code",
   "execution_count": 12,
   "metadata": {},
   "outputs": [
    {
     "name": "stdout",
     "output_type": "stream",
     "text": [
      "Min OT Value: 8.09\n",
      "Max OT Value: 146.92\n",
      "MSE of predictor on 1st target 46.13378297654146\n",
      "MSE of predictor on 2nd target 11.891566658329332\n"
     ]
    }
   ],
   "source": [
    "print(f\"Min OT Value: {Y_train.min()}\")\n",
    "print(f\"Max OT Value: {Y_train.max()}\")\n",
    "preds1 = gb1.predict(X_test)\n",
    "preds2 = gb2.predict(X_test)\n",
    "print(f\"MSE of predictor on 1st target {mse(Y_test[:,0], preds1)}\")\n",
    "print(f\"MSE of predictor on 2nd target {mse(Y_test[:,1], preds2)}\")"
   ]
  },
  {
   "cell_type": "markdown",
   "metadata": {},
   "source": [
    "Building two composite predictors, which each use gradient boosting for one coordinate of prediction vector and predict label mean for other coordinate.  "
   ]
  },
  {
   "cell_type": "code",
   "execution_count": 10,
   "metadata": {},
   "outputs": [],
   "source": [
    "## note: update this cell before each experiment\n",
    "def h1(xs):\n",
    "    arr = np.full([len(xs), len(Y_train[0])], [Y_train[:,i].mean() for i in range(len(Y_train[0]))])\n",
    "    col1 = gb1.predict(xs)\n",
    "    arr[:,0] = col1\n",
    "    return arr\n",
    "\n",
    "def h2(xs):\n",
    "    arr = np.full([len(xs), len(Y_train[0])], [Y_train[:,i].mean() for i in range(len(Y_train[0]))])\n",
    "    col2 = gb2.predict(xs)\n",
    "    arr[:,1] = col2\n",
    "    return arr\n",
    "\n",
    "def h3(xs):\n",
    "    arr = np.full([len(xs), len(Y_train[0])], [Y_train[:,i].mean() for i in range(len(Y_train[0]))])\n",
    "    col = gb3.predict(xs)\n",
    "    arr[:,2] = col\n",
    "    return arr\n",
    "\n",
    "def h4(xs):\n",
    "    arr = np.full([len(xs), len(Y_train[0])], [Y_train[:,i].mean() for i in range(len(Y_train[0]))])\n",
    "    col = gb4.predict(xs)\n",
    "    arr[:,3] = col\n",
    "    return arr\n",
    "\n",
    "def h5(xs):\n",
    "    arr = np.full([len(xs), len(Y_train[0])], [Y_train[:,i].mean() for i in range(len(Y_train[0]))])\n",
    "    col = gb5.predict(xs)\n",
    "    arr[:,4] = col\n",
    "    return arr\n",
    "\n",
    "def h6(xs):\n",
    "    arr = np.full([len(xs), len(Y_train[0])], [Y_train[:,i].mean() for i in range(len(Y_train[0]))])\n",
    "    col = gb6.predict(xs)\n",
    "    arr[:,5] = col\n",
    "    return arr\n",
    "\n",
    "def h7(xs):\n",
    "    arr = np.full([len(xs), len(Y_train[0])], [Y_train[:,i].mean() for i in range(len(Y_train[0]))])\n",
    "    col = gb7.predict(xs)\n",
    "    arr[:,6] = col\n",
    "    return arr\n",
    "\n",
    "def h8(xs):\n",
    "    arr = np.full([len(xs), len(Y_train[0])], [Y_train[:,i].mean() for i in range(len(Y_train[0]))])\n",
    "    col = gb8.predict(xs)\n",
    "    arr[:,7] = col\n",
    "    return arr"
   ]
  },
  {
   "cell_type": "code",
   "execution_count": 13,
   "metadata": {},
   "outputs": [],
   "source": [
    "## note: update this cell before each experiment\n",
    "\n",
    "# policy1 = policies.Simplex(len(Y_train[0]), h1)\n",
    "# policy2 = policies.Simplex(len(Y_train[0]), h2)\n",
    "# policy3 = policies.Simplex(len(Y_train[0]), h3)\n",
    "# policy4 = policies.Simplex(len(Y_train[0]), h4)\n",
    "# policy5 = policies.Simplex(len(Y_train[0]), h5)\n",
    "# policy6 = policies.Simplex(len(Y_train[0]), h6)\n",
    "# policy7 = policies.Simplex(len(Y_train[0]), h7)\n",
    "# policy8 = policies.Simplex(len(Y_train[0]), h8)\n",
    "\n",
    "policy1 = policies.LinearMax(len(Y_train[0]), h1, .1, Y_train)\n",
    "policy2 = policies.LinearMax(len(Y_train[0]), h2, .1, Y_train)\n",
    "policy3 = policies.LinearMax(len(Y_train[0]), h3, .1, Y_train)\n",
    "policy4 = policies.LinearMax(len(Y_train[0]), h4, .1, Y_train)\n",
    "policy5 = policies.LinearMax(len(Y_train[0]), h5, .1, Y_train)\n",
    "policy6 = policies.LinearMax(len(Y_train[0]), h6, .1, Y_train)\n",
    "policy7 = policies.LinearMax(len(Y_train[0]), h7, .1, Y_train)\n",
    "policy8 = policies.LinearMax(len(Y_train[0]), h8, .1, Y_train)"
   ]
  },
  {
   "cell_type": "code",
   "execution_count": 14,
   "metadata": {},
   "outputs": [],
   "source": [
    "## note: update this cell before each experiment\n",
    "\n",
    "def init_model(xs):\n",
    "    # col1 = np.full(len(xs), Y_train[:,0].mean())\n",
    "    # col2 = np.full(len(xs), Y_train[:,1].mean())\n",
    "    # return np.column_stack((col1, col2))\n",
    "    return np.full([len(xs), len(Y_train[0])], [Y_train[:,i].mean() for i in range(len(Y_train[0]))])\n",
    "    \n",
    "# init_policy = policies.Simplex(len(Y_train[0]), init_model)\n",
    "init_policy = policies.LinearMax(len(Y_train[0]), init_model, .1, Y_train)\n"
   ]
  },
  {
   "cell_type": "markdown",
   "metadata": {},
   "source": [
    "# Bias Bounties Method"
   ]
  },
  {
   "cell_type": "code",
   "execution_count": 15,
   "metadata": {},
   "outputs": [
    {
     "name": "stdout",
     "output_type": "stream",
     "text": [
      "Set parameter Username\n",
      "Academic license - for non-commercial use only - expires 2025-05-09\n"
     ]
    }
   ],
   "source": [
    "max_depth = 2000\n",
    "tolerance = 0.01\n",
    "\n",
    "bbModel = bbDebias.bbDebias(init_model, init_policy, X_train, Y_train, max_depth, tolerance)"
   ]
  },
  {
   "cell_type": "code",
   "execution_count": 16,
   "metadata": {},
   "outputs": [
    {
     "name": "stdout",
     "output_type": "stream",
     "text": [
      "Maximum depth reached.\n"
     ]
    }
   ],
   "source": [
    "## note: update this cell before each experiment\n",
    "\n",
    "bbModel.debias([h1,h2,h3,h4,h5,h6,h7,h8], [policy1, policy2, policy3, policy4, policy5, policy6, policy7, policy8])\n",
    "# bbModel.debias([h1,h2], [policy1, policy2])"
   ]
  },
  {
   "cell_type": "code",
   "execution_count": 17,
   "metadata": {},
   "outputs": [
    {
     "data": {
      "image/png": "[encoded data removed]",
      "text/plain": [
       "<Figure size 640x480 with 1 Axes>"
      ]
     },
     "metadata": {},
     "output_type": "display_data"
    }
   ],
   "source": [
    "mses = np.array([mse(Y_train, pred, multioutput='raw_values') for pred in bbModel.predictions_by_round])\n",
    "\n",
    "coord = 0\n",
    "plt.plot(0,mses[0][coord],'.', label=\"Initial Model\")\n",
    "for i in range(1, bbModel.n_models+1):\n",
    "    indices = list(range(len(bbModel.predictions_by_round)))[i::(bbModel.n_models + 1)]\n",
    "    plt.plot(indices, mses[i::(bbModel.n_models + 1)][:, coord], '.', label=f\"Policy {i}\")\n",
    "indices = list(range(len(bbModel.predictions_by_round)))[(bbModel.n_models+1)::(bbModel.n_models + 1)]\n",
    "plt.plot(indices, mses[(bbModel.n_models+1)::(bbModel.n_models + 1)][:, coord], '.', label=\"Self-Consistency\")\n",
    "plt.legend()\n",
    "plt.title(\"BB Alg: MSE over Rounds, by Policy\");\n",
    "plt.savefig(\"results/{0}_{1}_{2}/{0}_{1}_{2}_single-model-mse\".format(dataset, initial_model_type, optimization_type))"
   ]
  },
  {
   "cell_type": "markdown",
   "metadata": {},
   "source": [
    "Comparison of MSE of our final model vs the MSEs of the original models in the first coordinate:"
   ]
  },
  {
   "cell_type": "code",
   "execution_count": 18,
   "metadata": {},
   "outputs": [
    {
     "name": "stdout",
     "output_type": "stream",
     "text": [
      "(Training) MSE of our model in 1st coordinate: 60.832158300667615\n",
      "(Training) MSE of model 1 in 1st coordinate:  0.4060074991976695\n",
      "(Training) MSE of model 2 in 1st coordinate: 119.4435328078223\n"
     ]
    }
   ],
   "source": [
    "print(f\"(Training) MSE of our model in 1st coordinate: {mses[-1][0]}\")\n",
    "print(f\"(Training) MSE of model 1 in 1st coordinate:  {mse(Y_train, h1(X_train), multioutput='raw_values')[0]}\")\n",
    "print(f\"(Training) MSE of model 2 in 1st coordinate: {mse(Y_train, h2(X_train), multioutput='raw_values')[0]}\")"
   ]
  },
  {
   "cell_type": "markdown",
   "metadata": {},
   "source": [
    "I.e., at least with the naive simplex policy, we don't match performance of the better of the two initial predictors in terms of squared error. \n",
    "\n",
    "Comparison of MSE overall:"
   ]
  },
  {
   "cell_type": "code",
   "execution_count": 19,
   "metadata": {},
   "outputs": [
    {
     "name": "stdout",
     "output_type": "stream",
     "text": [
      "(Training) MSE of our model: 74.99227870924078\n",
      "(Training) MSE of model 1:  104.2000105003891\n",
      "(Training) MSE of model 2: 105.17683686039058\n"
     ]
    }
   ],
   "source": [
    "print(f\"(Training) MSE of our model: {mses[-1].mean()}\")\n",
    "print(f\"(Training) MSE of model 1:  {mse(Y_train, h1(X_train))}\")\n",
    "print(f\"(Training) MSE of model 2: {mse(Y_train, h2(X_train))}\")"
   ]
  },
  {
   "cell_type": "markdown",
   "metadata": {},
   "source": [
    "So, we do better overall than the original models. "
   ]
  },
  {
   "cell_type": "code",
   "execution_count": 20,
   "metadata": {},
   "outputs": [
    {
     "data": {
      "image/png": "[encoded data removed]",
      "text/plain": [
       "<Figure size 640x480 with 1 Axes>"
      ]
     },
     "metadata": {},
     "output_type": "display_data"
    }
   ],
   "source": [
    "# predicted objective of each point per round\n",
    "pred_rev = [np.einsum('ij,ij->i', bbModel.predictions_by_round[i], bbModel.policy_by_round[i]) for i in range(len(bbModel.predictions_by_round))] #fancy vectorized row-wise dot product \n",
    "# realized objective\n",
    "true_rev = [np.einsum('ij,ij->i', Y_train, bbModel.policy_by_round[i]) for i in range(len(bbModel.predictions_by_round))]\n",
    "\n",
    "\n",
    "plt.plot(range(len(bbModel.predictions_by_round)), np.mean(pred_rev, axis=1), 'o', label=\"predicted mean obj of policy\")\n",
    "plt.plot(range(len(bbModel.predictions_by_round)), np.mean(true_rev, axis=1), 'o', label=\"realized mean obj of policy\")\n",
    "plt.legend()\n",
    "plt.title(\"BB Alg: Predicted and Realized Objective over Rounds\")\n",
    "plt.savefig(\"results/{0}_{1}_{2}/{0}_{1}_{2}_single-model-predicted-real objective\".format(dataset, initial_model_type, optimization_type))\n"
   ]
  },
  {
   "cell_type": "markdown",
   "metadata": {},
   "source": [
    "# Max Ensemble Method"
   ]
  },
  {
   "cell_type": "code",
   "execution_count": 21,
   "metadata": {},
   "outputs": [
    {
     "name": "stdout",
     "output_type": "stream",
     "text": [
      "Maximum depth reached.\n"
     ]
    }
   ],
   "source": [
    "## note: update this cell before each experiment\n",
    "\n",
    "max_depth =1000\n",
    "tolerance = 0.1\n",
    "maxModel = maxDebias.EnsembledModel([h1,h2,h3,h4,h5,h6,h7,h8], [policy1, policy2, policy3, policy4, policy5, policy6, policy7, policy8], X_train, Y_train, max_depth, tolerance)\n",
    "maxModel.debias()"
   ]
  },
  {
   "cell_type": "code",
   "execution_count": 22,
   "metadata": {},
   "outputs": [
    {
     "data": {
      "image/png": "[encoded data removed]",
      "text/plain": [
       "<Figure size 640x480 with 1 Axes>"
      ]
     },
     "metadata": {},
     "output_type": "display_data"
    }
   ],
   "source": [
    "preds = np.array(maxModel.predictions_by_round)\n",
    "\n",
    "preds_by_model = [preds[:,i] for i in range(maxModel.n_models)]\n",
    "mses_by_model = np.zeros((len(preds_by_model), len(preds), maxModel.pred_dim))\n",
    "for i in range(maxModel.n_models):\n",
    "    for j in range(len(preds_by_model[i])):\n",
    "        mses_by_model[i][j] = mse(Y_train, preds_by_model[i][j], multioutput='raw_values')\n",
    "\n",
    "coord = 0\n",
    "for i in range(maxModel.n_models):\n",
    "    plt.plot(np.arange(len(maxModel.predictions_by_round)), mses_by_model[i][:,coord], label=f\"Model {i}\")\n",
    "plt.legend()\n",
    "plt.title(\"MaxModel: MSE of Models over Rounds in First Coordinate\");\n",
    "plt.savefig(\"results/{0}_{1}_{2}/{0}_{1}_{2}_maxmodel-constituent-mse-first-coordinate\".format(dataset, initial_model_type, optimization_type))\n"
   ]
  },
  {
   "cell_type": "code",
   "execution_count": 23,
   "metadata": {},
   "outputs": [
    {
     "data": {
      "image/png": "[encoded data removed]",
      "text/plain": [
       "<Figure size 640x480 with 1 Axes>"
      ]
     },
     "metadata": {},
     "output_type": "display_data"
    }
   ],
   "source": [
    "ensemble_mse = np.array([mse(Y_train, maxModel.meta_model_pred_by_round[i]) for i in range(len(maxModel.meta_model_pred_by_round))])\n",
    "coord = 0\n",
    "\n",
    "plt.plot(np.arange(len(ensemble_mse)), ensemble_mse)\n",
    "plt.title(\"MaxModel: MSE of Ensembled Model over Rounds in First Coordinate\");\n",
    "plt.savefig(\"results/{0}_{1}_{2}/{0}_{1}_{2}_maxmodel-ensemble-mse-first-coordinate\".format(dataset, initial_model_type, optimization_type))\n"
   ]
  },
  {
   "cell_type": "markdown",
   "metadata": {},
   "source": [
    "Comparing final MSEs of meta algorithm, BB method, and original models"
   ]
  },
  {
   "cell_type": "code",
   "execution_count": 24,
   "metadata": {},
   "outputs": [
    {
     "name": "stdout",
     "output_type": "stream",
     "text": [
      "(Training) MSE of BB Model in 1st coordinate: 60.832158300667615\n",
      "(Training) MSE of Max Ensemble Model in 1st coordinate: 9.93328748338434\n",
      "(Training) MSE of Model 1 in 1st coordinate:  0.4060074991976695\n",
      "(Training) MSE of Model 2 in 1st coordinate: 119.4435328078223\n"
     ]
    }
   ],
   "source": [
    "print(f\"(Training) MSE of BB Model in 1st coordinate: {mse(Y_train, bbModel.predictions_by_round[-1], multioutput='raw_values')[0]}\")\n",
    "print(f\"(Training) MSE of Max Ensemble Model in 1st coordinate: {mse(Y_train, maxModel.meta_model_pred_by_round[-1], multioutput='raw_values')[0]}\")\n",
    "print(f\"(Training) MSE of Model 1 in 1st coordinate:  {mse(Y_train, h1(X_train), multioutput='raw_values')[0]}\")\n",
    "print(f\"(Training) MSE of Model 2 in 1st coordinate: {mse(Y_train, h2(X_train), multioutput='raw_values')[0]}\")"
   ]
  },
  {
   "cell_type": "markdown",
   "metadata": {},
   "source": [
    "And overall MSE"
   ]
  },
  {
   "cell_type": "code",
   "execution_count": 25,
   "metadata": {},
   "outputs": [
    {
     "name": "stdout",
     "output_type": "stream",
     "text": [
      "(Training) MSE of BB Model: 74.99227870924078\n",
      "(Training) MSE of Max Ensemble Model: 70.114460261278\n",
      "(Training) MSE of Model 1:  104.2000105003891\n",
      "(Training) MSE of Model 2: 105.17683686039058\n"
     ]
    }
   ],
   "source": [
    "print(f\"(Training) MSE of BB Model: {mse(Y_train, bbModel.predictions_by_round[-1])}\")\n",
    "print(f\"(Training) MSE of Max Ensemble Model: {ensemble_mse[-1]}\")\n",
    "print(f\"(Training) MSE of Model 1:  {mse(Y_train, h1(X_train))}\")\n",
    "print(f\"(Training) MSE of Model 2: {mse(Y_train, h2(X_train))}\")"
   ]
  },
  {
   "cell_type": "code",
   "execution_count": 29,
   "metadata": {},
   "outputs": [
    {
     "ename": "IndexError",
     "evalue": "list index out of range",
     "output_type": "error",
     "traceback": [
      "\u001b[0;31m---------------------------------------------------------------------------\u001b[0m",
      "\u001b[0;31mIndexError\u001b[0m                                Traceback (most recent call last)",
      "Cell \u001b[0;32mIn[29], line 3\u001b[0m\n\u001b[1;32m      1\u001b[0m \u001b[38;5;66;03m# predicted objective of each point per round\u001b[39;00m\n\u001b[1;32m      2\u001b[0m \u001b[38;5;66;03m# pred_rev = [np.einsum('ij,ij->i', maxModel.meta_model_pred_by_round[i], maxModel.meta_policy_choice_by_round[i]) for i in range(len(maxModel.predictions_by_round ))] #fancy vectorized row-wise dot product \u001b[39;00m\n\u001b[0;32m----> 3\u001b[0m pred_rev \u001b[38;5;241m=\u001b[39m [np\u001b[38;5;241m.\u001b[39meinsum(\u001b[38;5;124m'\u001b[39m\u001b[38;5;124mij,ij->i\u001b[39m\u001b[38;5;124m'\u001b[39m, maxModel\u001b[38;5;241m.\u001b[39mmeta_model_pred_by_round[i], maxModel\u001b[38;5;241m.\u001b[39mmeta_policy_choice_by_round[i]) \u001b[38;5;28;01mfor\u001b[39;00m i \u001b[38;5;129;01min\u001b[39;00m \u001b[38;5;28mrange\u001b[39m( \u001b[38;5;241m2000\u001b[39m )] \u001b[38;5;66;03m#fancy vectorized row-wise dot product \u001b[39;00m\n\u001b[1;32m      4\u001b[0m \u001b[38;5;66;03m# realized objective\u001b[39;00m\n\u001b[1;32m      5\u001b[0m \u001b[38;5;66;03m# true_rev = [np.einsum('ij,ij->i', Y_train, maxModel.meta_policy_choice_by_round[i]) for i in range(len(maxModel.predictions_by_round ))]\u001b[39;00m\n\u001b[1;32m      6\u001b[0m true_rev \u001b[38;5;241m=\u001b[39m [np\u001b[38;5;241m.\u001b[39meinsum(\u001b[38;5;124m'\u001b[39m\u001b[38;5;124mij,ij->i\u001b[39m\u001b[38;5;124m'\u001b[39m, Y_train, maxModel\u001b[38;5;241m.\u001b[39mmeta_policy_choice_by_round[i]) \u001b[38;5;28;01mfor\u001b[39;00m i \u001b[38;5;129;01min\u001b[39;00m \u001b[38;5;28mrange\u001b[39m( \u001b[38;5;241m2000\u001b[39m )]\n",
      "Cell \u001b[0;32mIn[29], line 3\u001b[0m, in \u001b[0;36m<listcomp>\u001b[0;34m(.0)\u001b[0m\n\u001b[1;32m      1\u001b[0m \u001b[38;5;66;03m# predicted objective of each point per round\u001b[39;00m\n\u001b[1;32m      2\u001b[0m \u001b[38;5;66;03m# pred_rev = [np.einsum('ij,ij->i', maxModel.meta_model_pred_by_round[i], maxModel.meta_policy_choice_by_round[i]) for i in range(len(maxModel.predictions_by_round ))] #fancy vectorized row-wise dot product \u001b[39;00m\n\u001b[0;32m----> 3\u001b[0m pred_rev \u001b[38;5;241m=\u001b[39m [np\u001b[38;5;241m.\u001b[39meinsum(\u001b[38;5;124m'\u001b[39m\u001b[38;5;124mij,ij->i\u001b[39m\u001b[38;5;124m'\u001b[39m, maxModel\u001b[38;5;241m.\u001b[39mmeta_model_pred_by_round[i], maxModel\u001b[38;5;241m.\u001b[39mmeta_policy_choice_by_round[i]) \u001b[38;5;28;01mfor\u001b[39;00m i \u001b[38;5;129;01min\u001b[39;00m \u001b[38;5;28mrange\u001b[39m( \u001b[38;5;241m2000\u001b[39m )] \u001b[38;5;66;03m#fancy vectorized row-wise dot product \u001b[39;00m\n\u001b[1;32m      4\u001b[0m \u001b[38;5;66;03m# realized objective\u001b[39;00m\n\u001b[1;32m      5\u001b[0m \u001b[38;5;66;03m# true_rev = [np.einsum('ij,ij->i', Y_train, maxModel.meta_policy_choice_by_round[i]) for i in range(len(maxModel.predictions_by_round ))]\u001b[39;00m\n\u001b[1;32m      6\u001b[0m true_rev \u001b[38;5;241m=\u001b[39m [np\u001b[38;5;241m.\u001b[39meinsum(\u001b[38;5;124m'\u001b[39m\u001b[38;5;124mij,ij->i\u001b[39m\u001b[38;5;124m'\u001b[39m, Y_train, maxModel\u001b[38;5;241m.\u001b[39mmeta_policy_choice_by_round[i]) \u001b[38;5;28;01mfor\u001b[39;00m i \u001b[38;5;129;01min\u001b[39;00m \u001b[38;5;28mrange\u001b[39m( \u001b[38;5;241m2000\u001b[39m )]\n",
      "\u001b[0;31mIndexError\u001b[0m: list index out of range"
     ]
    }
   ],
   "source": [
    "# predicted objective of each point per round\n",
    "pred_rev = [np.einsum('ij,ij->i', maxModel.meta_model_pred_by_round[i], maxModel.meta_policy_choice_by_round[i]) for i in range( 1000 )] #fancy vectorized row-wise dot product \n",
    "# realized objective\n",
    "# true_rev = [np.einsum('ij,ij->i', Y_train, maxModel.meta_policy_choice_by_round[i]) for i in range(len(maxModel.predictions_by_round ))]\n",
    "true_rev = [np.einsum('ij,ij->i', Y_train, maxModel.meta_policy_choice_by_round[i]) for i in range( 1000 )]\n",
    "\n",
    "\n",
    "# plt.plot(range(len(maxModel.predictions_by_round)), np.mean(pred_rev, axis=1), 'o', label=\"predicted mean obj of policy\")\n",
    "plt.plot(range( 1000 ), np.mean(pred_rev, axis=1), 'o', label=\"predicted mean obj of policy\")\n",
    "# plt.plot(range(len(maxModel.predictions_by_round)), np.mean(true_rev, axis=1), 'o', label=\"realized mean obj of policy\")\n",
    "plt.plot(range( 1000 ), np.mean(true_rev, axis=1), 'o', label=\"realized mean obj of policy\")\n",
    "plt.legend()\n",
    "plt.title(\"MaxModel: Predicted and Realized Objective over Rounds\")\n",
    "# plt.savefig(\"results/{0}_{1}_{2}/{0}_{1}_{2}_maxmodel-ensemble-predicted-real objective\".format(dataset, initial_model_type, optimization_type))\n"
   ]
  },
  {
   "cell_type": "code",
   "execution_count": 28,
   "metadata": {},
   "outputs": [
    {
     "ename": "KeyboardInterrupt",
     "evalue": "",
     "output_type": "error",
     "traceback": [
      "\u001b[0;31m---------------------------------------------------------------------------\u001b[0m",
      "\u001b[0;31mKeyboardInterrupt\u001b[0m                         Traceback (most recent call last)",
      "Cell \u001b[0;32mIn[28], line 5\u001b[0m\n\u001b[1;32m      1\u001b[0m \u001b[38;5;66;03m# note: plotting this is too slow if we need to run the optimization over again for each policy for each round\u001b[39;00m\n\u001b[1;32m      2\u001b[0m \u001b[38;5;66;03m# probably need to scrap this style of plot and thing of something more sensible.\u001b[39;00m\n\u001b[1;32m      3\u001b[0m \n\u001b[1;32m      4\u001b[0m \u001b[38;5;66;03m# predicted objective of each point per round\u001b[39;00m\n\u001b[0;32m----> 5\u001b[0m rev_1 \u001b[38;5;241m=\u001b[39m [np\u001b[38;5;241m.\u001b[39meinsum(\u001b[38;5;124m'\u001b[39m\u001b[38;5;124mij,ij->i\u001b[39m\u001b[38;5;124m'\u001b[39m, maxModel\u001b[38;5;241m.\u001b[39mpredictions_by_round[i][\u001b[38;5;241m0\u001b[39m], policy1\u001b[38;5;241m.\u001b[39mrun_given_preds(maxModel\u001b[38;5;241m.\u001b[39mpredictions_by_round[i][\u001b[38;5;241m0\u001b[39m])) \u001b[38;5;28;01mfor\u001b[39;00m i \u001b[38;5;129;01min\u001b[39;00m \u001b[38;5;28mrange\u001b[39m( \u001b[38;5;241m1000\u001b[39m )] \u001b[38;5;66;03m#fancy vectorized row-wise dot product \u001b[39;00m\n\u001b[1;32m      6\u001b[0m rev_2 \u001b[38;5;241m=\u001b[39m [np\u001b[38;5;241m.\u001b[39meinsum(\u001b[38;5;124m'\u001b[39m\u001b[38;5;124mij,ij->i\u001b[39m\u001b[38;5;124m'\u001b[39m, maxModel\u001b[38;5;241m.\u001b[39mpredictions_by_round[i][\u001b[38;5;241m1\u001b[39m], policy2\u001b[38;5;241m.\u001b[39mrun_given_preds(maxModel\u001b[38;5;241m.\u001b[39mpredictions_by_round[i][\u001b[38;5;241m1\u001b[39m])) \u001b[38;5;28;01mfor\u001b[39;00m i \u001b[38;5;129;01min\u001b[39;00m \u001b[38;5;28mrange\u001b[39m( \u001b[38;5;241m1000\u001b[39m )] \u001b[38;5;66;03m#fancy vectorized row-wise dot product \u001b[39;00m\n\u001b[1;32m      7\u001b[0m rev_3 \u001b[38;5;241m=\u001b[39m [np\u001b[38;5;241m.\u001b[39meinsum(\u001b[38;5;124m'\u001b[39m\u001b[38;5;124mij,ij->i\u001b[39m\u001b[38;5;124m'\u001b[39m, maxModel\u001b[38;5;241m.\u001b[39mpredictions_by_round[i][\u001b[38;5;241m2\u001b[39m], policy3\u001b[38;5;241m.\u001b[39mrun_given_preds(maxModel\u001b[38;5;241m.\u001b[39mpredictions_by_round[i][\u001b[38;5;241m2\u001b[39m])) \u001b[38;5;28;01mfor\u001b[39;00m i \u001b[38;5;129;01min\u001b[39;00m \u001b[38;5;28mrange\u001b[39m( \u001b[38;5;241m1000\u001b[39m )] \u001b[38;5;66;03m#fancy vectorized row-wise dot product \u001b[39;00m\n",
      "Cell \u001b[0;32mIn[28], line 5\u001b[0m, in \u001b[0;36m<listcomp>\u001b[0;34m(.0)\u001b[0m\n\u001b[1;32m      1\u001b[0m \u001b[38;5;66;03m# note: plotting this is too slow if we need to run the optimization over again for each policy for each round\u001b[39;00m\n\u001b[1;32m      2\u001b[0m \u001b[38;5;66;03m# probably need to scrap this style of plot and thing of something more sensible.\u001b[39;00m\n\u001b[1;32m      3\u001b[0m \n\u001b[1;32m      4\u001b[0m \u001b[38;5;66;03m# predicted objective of each point per round\u001b[39;00m\n\u001b[0;32m----> 5\u001b[0m rev_1 \u001b[38;5;241m=\u001b[39m [np\u001b[38;5;241m.\u001b[39meinsum(\u001b[38;5;124m'\u001b[39m\u001b[38;5;124mij,ij->i\u001b[39m\u001b[38;5;124m'\u001b[39m, maxModel\u001b[38;5;241m.\u001b[39mpredictions_by_round[i][\u001b[38;5;241m0\u001b[39m], policy1\u001b[38;5;241m.\u001b[39mrun_given_preds(maxModel\u001b[38;5;241m.\u001b[39mpredictions_by_round[i][\u001b[38;5;241m0\u001b[39m])) \u001b[38;5;28;01mfor\u001b[39;00m i \u001b[38;5;129;01min\u001b[39;00m \u001b[38;5;28mrange\u001b[39m( \u001b[38;5;241m1000\u001b[39m )] \u001b[38;5;66;03m#fancy vectorized row-wise dot product \u001b[39;00m\n\u001b[1;32m      6\u001b[0m rev_2 \u001b[38;5;241m=\u001b[39m [np\u001b[38;5;241m.\u001b[39meinsum(\u001b[38;5;124m'\u001b[39m\u001b[38;5;124mij,ij->i\u001b[39m\u001b[38;5;124m'\u001b[39m, maxModel\u001b[38;5;241m.\u001b[39mpredictions_by_round[i][\u001b[38;5;241m1\u001b[39m], policy2\u001b[38;5;241m.\u001b[39mrun_given_preds(maxModel\u001b[38;5;241m.\u001b[39mpredictions_by_round[i][\u001b[38;5;241m1\u001b[39m])) \u001b[38;5;28;01mfor\u001b[39;00m i \u001b[38;5;129;01min\u001b[39;00m \u001b[38;5;28mrange\u001b[39m( \u001b[38;5;241m1000\u001b[39m )] \u001b[38;5;66;03m#fancy vectorized row-wise dot product \u001b[39;00m\n\u001b[1;32m      7\u001b[0m rev_3 \u001b[38;5;241m=\u001b[39m [np\u001b[38;5;241m.\u001b[39meinsum(\u001b[38;5;124m'\u001b[39m\u001b[38;5;124mij,ij->i\u001b[39m\u001b[38;5;124m'\u001b[39m, maxModel\u001b[38;5;241m.\u001b[39mpredictions_by_round[i][\u001b[38;5;241m2\u001b[39m], policy3\u001b[38;5;241m.\u001b[39mrun_given_preds(maxModel\u001b[38;5;241m.\u001b[39mpredictions_by_round[i][\u001b[38;5;241m2\u001b[39m])) \u001b[38;5;28;01mfor\u001b[39;00m i \u001b[38;5;129;01min\u001b[39;00m \u001b[38;5;28mrange\u001b[39m( \u001b[38;5;241m1000\u001b[39m )] \u001b[38;5;66;03m#fancy vectorized row-wise dot product \u001b[39;00m\n",
      "File \u001b[0;32m~/Dropbox/ensembling-linear-optimization/optimized-ensembling/experiments/../src/policies.py:157\u001b[0m, in \u001b[0;36mLinearMax.run_given_preds\u001b[0;34m(self, preds)\u001b[0m\n\u001b[1;32m    151\u001b[0m     constraints \u001b[38;5;241m=\u001b[39m [x\u001b[38;5;241m<\u001b[39m\u001b[38;5;241m=\u001b[39m\u001b[38;5;241m1\u001b[39m, \u001b[38;5;66;03m# have to allocate between 0 and 1\u001b[39;00m\n\u001b[1;32m    152\u001b[0m                     x\u001b[38;5;241m>\u001b[39m\u001b[38;5;241m=\u001b[39m\u001b[38;5;241m0\u001b[39m, \n\u001b[1;32m    153\u001b[0m                     x \u001b[38;5;241m@\u001b[39m np\u001b[38;5;241m.\u001b[39mones(\u001b[38;5;28mself\u001b[39m\u001b[38;5;241m.\u001b[39mdim) \u001b[38;5;241m==\u001b[39m \u001b[38;5;241m1\u001b[39m \u001b[38;5;66;03m# allocation forms a distribution which sums to 1\u001b[39;00m\n\u001b[1;32m    154\u001b[0m                     \u001b[38;5;66;03m# cp.quad_form(x,self.covariance) <= self.var_limit  # allocation bounded by covariance matrix of ys\u001b[39;00m\n\u001b[1;32m    155\u001b[0m                     ]\n\u001b[1;32m    156\u001b[0m     prob \u001b[38;5;241m=\u001b[39m cp\u001b[38;5;241m.\u001b[39mProblem(objective, constraints)\n\u001b[0;32m--> 157\u001b[0m     prob\u001b[38;5;241m.\u001b[39msolve(solver\u001b[38;5;241m=\u001b[39mcp\u001b[38;5;241m.\u001b[39mGUROBI, verbose\u001b[38;5;241m=\u001b[39m\u001b[38;5;28;01mFalse\u001b[39;00m) \n\u001b[1;32m    158\u001b[0m     allocation[i] \u001b[38;5;241m=\u001b[39m x\u001b[38;5;241m.\u001b[39mvalue\n\u001b[1;32m    159\u001b[0m \u001b[38;5;28;01mreturn\u001b[39;00m allocation\n",
      "File \u001b[0;32m~/miniconda3/envs/ensembling/lib/python3.11/site-packages/cvxpy/problems/problem.py:503\u001b[0m, in \u001b[0;36mProblem.solve\u001b[0;34m(self, *args, **kwargs)\u001b[0m\n\u001b[1;32m    501\u001b[0m \u001b[38;5;28;01melse\u001b[39;00m:\n\u001b[1;32m    502\u001b[0m     solve_func \u001b[38;5;241m=\u001b[39m Problem\u001b[38;5;241m.\u001b[39m_solve\n\u001b[0;32m--> 503\u001b[0m \u001b[38;5;28;01mreturn\u001b[39;00m solve_func(\u001b[38;5;28mself\u001b[39m, \u001b[38;5;241m*\u001b[39margs, \u001b[38;5;241m*\u001b[39m\u001b[38;5;241m*\u001b[39mkwargs)\n",
      "File \u001b[0;32m~/miniconda3/envs/ensembling/lib/python3.11/site-packages/cvxpy/problems/problem.py:1072\u001b[0m, in \u001b[0;36mProblem._solve\u001b[0;34m(self, solver, warm_start, verbose, gp, qcp, requires_grad, enforce_dpp, ignore_dpp, canon_backend, **kwargs)\u001b[0m\n\u001b[1;32m   1069\u001b[0m         \u001b[38;5;28mself\u001b[39m\u001b[38;5;241m.\u001b[39munpack(chain\u001b[38;5;241m.\u001b[39mretrieve(soln))\n\u001b[1;32m   1070\u001b[0m         \u001b[38;5;28;01mreturn\u001b[39;00m \u001b[38;5;28mself\u001b[39m\u001b[38;5;241m.\u001b[39mvalue\n\u001b[0;32m-> 1072\u001b[0m data, solving_chain, inverse_data \u001b[38;5;241m=\u001b[39m \u001b[38;5;28mself\u001b[39m\u001b[38;5;241m.\u001b[39mget_problem_data(\n\u001b[1;32m   1073\u001b[0m     solver, gp, enforce_dpp, ignore_dpp, verbose, canon_backend, kwargs\n\u001b[1;32m   1074\u001b[0m )\n\u001b[1;32m   1076\u001b[0m \u001b[38;5;28;01mif\u001b[39;00m verbose:\n\u001b[1;32m   1077\u001b[0m     \u001b[38;5;28mprint\u001b[39m(_NUM_SOLVER_STR)\n",
      "File \u001b[0;32m~/miniconda3/envs/ensembling/lib/python3.11/site-packages/cvxpy/problems/problem.py:696\u001b[0m, in \u001b[0;36mProblem.get_problem_data\u001b[0;34m(self, solver, gp, enforce_dpp, ignore_dpp, verbose, canon_backend, solver_opts)\u001b[0m\n\u001b[1;32m    693\u001b[0m     s\u001b[38;5;241m.\u001b[39mLOGGER\u001b[38;5;241m.\u001b[39minfo(\n\u001b[1;32m    694\u001b[0m              \u001b[38;5;124m'\u001b[39m\u001b[38;5;124mCompiling problem (target solver=\u001b[39m\u001b[38;5;132;01m%s\u001b[39;00m\u001b[38;5;124m).\u001b[39m\u001b[38;5;124m'\u001b[39m, solver_name)\n\u001b[1;32m    695\u001b[0m     s\u001b[38;5;241m.\u001b[39mLOGGER\u001b[38;5;241m.\u001b[39minfo(\u001b[38;5;124m'\u001b[39m\u001b[38;5;124mReduction chain: \u001b[39m\u001b[38;5;132;01m%s\u001b[39;00m\u001b[38;5;124m'\u001b[39m, reduction_chain_str)\n\u001b[0;32m--> 696\u001b[0m data, inverse_data \u001b[38;5;241m=\u001b[39m solving_chain\u001b[38;5;241m.\u001b[39mapply(\u001b[38;5;28mself\u001b[39m, verbose)\n\u001b[1;32m    697\u001b[0m safe_to_cache \u001b[38;5;241m=\u001b[39m (\n\u001b[1;32m    698\u001b[0m     \u001b[38;5;28misinstance\u001b[39m(data, \u001b[38;5;28mdict\u001b[39m)\n\u001b[1;32m    699\u001b[0m     \u001b[38;5;129;01mand\u001b[39;00m s\u001b[38;5;241m.\u001b[39mPARAM_PROB \u001b[38;5;129;01min\u001b[39;00m data\n\u001b[1;32m    700\u001b[0m     \u001b[38;5;129;01mand\u001b[39;00m \u001b[38;5;129;01mnot\u001b[39;00m \u001b[38;5;28many\u001b[39m(\u001b[38;5;28misinstance\u001b[39m(reduction, EvalParams)\n\u001b[1;32m    701\u001b[0m                 \u001b[38;5;28;01mfor\u001b[39;00m reduction \u001b[38;5;129;01min\u001b[39;00m solving_chain\u001b[38;5;241m.\u001b[39mreductions)\n\u001b[1;32m    702\u001b[0m )\n\u001b[1;32m    703\u001b[0m \u001b[38;5;28mself\u001b[39m\u001b[38;5;241m.\u001b[39m_compilation_time \u001b[38;5;241m=\u001b[39m time\u001b[38;5;241m.\u001b[39mtime() \u001b[38;5;241m-\u001b[39m start\n",
      "File \u001b[0;32m~/miniconda3/envs/ensembling/lib/python3.11/site-packages/cvxpy/reductions/chain.py:76\u001b[0m, in \u001b[0;36mChain.apply\u001b[0;34m(self, problem, verbose)\u001b[0m\n\u001b[1;32m     74\u001b[0m     \u001b[38;5;28;01mif\u001b[39;00m verbose:\n\u001b[1;32m     75\u001b[0m         s\u001b[38;5;241m.\u001b[39mLOGGER\u001b[38;5;241m.\u001b[39minfo(\u001b[38;5;124m'\u001b[39m\u001b[38;5;124mApplying reduction \u001b[39m\u001b[38;5;132;01m%s\u001b[39;00m\u001b[38;5;124m'\u001b[39m, \u001b[38;5;28mtype\u001b[39m(r)\u001b[38;5;241m.\u001b[39m\u001b[38;5;18m__name__\u001b[39m)\n\u001b[0;32m---> 76\u001b[0m     problem, inv \u001b[38;5;241m=\u001b[39m r\u001b[38;5;241m.\u001b[39mapply(problem)\n\u001b[1;32m     77\u001b[0m     inverse_data\u001b[38;5;241m.\u001b[39mappend(inv)\n\u001b[1;32m     78\u001b[0m \u001b[38;5;28;01mreturn\u001b[39;00m problem, inverse_data\n",
      "File \u001b[0;32m~/miniconda3/envs/ensembling/lib/python3.11/site-packages/cvxpy/reductions/solvers/qp_solvers/gurobi_qpif.py:69\u001b[0m, in \u001b[0;36mGUROBI.apply\u001b[0;34m(self, problem)\u001b[0m\n\u001b[1;32m     59\u001b[0m \u001b[38;5;250m\u001b[39m\u001b[38;5;124;03m\"\"\"\u001b[39;00m\n\u001b[1;32m     60\u001b[0m \u001b[38;5;124;03mConstruct QP problem data stored in a dictionary.\u001b[39;00m\n\u001b[1;32m     61\u001b[0m \u001b[38;5;124;03mThe QP has the following form\u001b[39;00m\n\u001b[0;32m   (...)\u001b[0m\n\u001b[1;32m     66\u001b[0m \n\u001b[1;32m     67\u001b[0m \u001b[38;5;124;03m\"\"\"\u001b[39;00m\n\u001b[1;32m     68\u001b[0m \u001b[38;5;28;01mimport\u001b[39;00m \u001b[38;5;21;01mgurobipy\u001b[39;00m \u001b[38;5;28;01mas\u001b[39;00m \u001b[38;5;21;01mgrb\u001b[39;00m\n\u001b[0;32m---> 69\u001b[0m data, inv_data \u001b[38;5;241m=\u001b[39m \u001b[38;5;28msuper\u001b[39m(GUROBI, \u001b[38;5;28mself\u001b[39m)\u001b[38;5;241m.\u001b[39mapply(problem)\n\u001b[1;32m     70\u001b[0m \u001b[38;5;66;03m# Add initial guess.\u001b[39;00m\n\u001b[1;32m     71\u001b[0m data[\u001b[38;5;124m'\u001b[39m\u001b[38;5;124minit_value\u001b[39m\u001b[38;5;124m'\u001b[39m] \u001b[38;5;241m=\u001b[39m utilities\u001b[38;5;241m.\u001b[39mstack_vals(problem\u001b[38;5;241m.\u001b[39mvariables, grb\u001b[38;5;241m.\u001b[39mGRB\u001b[38;5;241m.\u001b[39mUNDEFINED)\n",
      "File \u001b[0;32m~/miniconda3/envs/ensembling/lib/python3.11/site-packages/cvxpy/reductions/solvers/qp_solvers/qp_solver.py:78\u001b[0m, in \u001b[0;36mQpSolver.apply\u001b[0;34m(self, problem)\u001b[0m\n\u001b[1;32m     67\u001b[0m \u001b[38;5;250m\u001b[39m\u001b[38;5;124;03m\"\"\"\u001b[39;00m\n\u001b[1;32m     68\u001b[0m \u001b[38;5;124;03mConstruct QP problem data stored in a dictionary.\u001b[39;00m\n\u001b[1;32m     69\u001b[0m \u001b[38;5;124;03mThe QP has the following form\u001b[39;00m\n\u001b[0;32m   (...)\u001b[0m\n\u001b[1;32m     74\u001b[0m \n\u001b[1;32m     75\u001b[0m \u001b[38;5;124;03m\"\"\"\u001b[39;00m\n\u001b[1;32m     76\u001b[0m problem, data, inv_data \u001b[38;5;241m=\u001b[39m \u001b[38;5;28mself\u001b[39m\u001b[38;5;241m.\u001b[39m_prepare_data_and_inv_data(problem)\n\u001b[0;32m---> 78\u001b[0m P, q, d, AF, bg \u001b[38;5;241m=\u001b[39m problem\u001b[38;5;241m.\u001b[39mapply_parameters()\n\u001b[1;32m     79\u001b[0m inv_data[s\u001b[38;5;241m.\u001b[39mOFFSET] \u001b[38;5;241m=\u001b[39m d\n\u001b[1;32m     81\u001b[0m \u001b[38;5;66;03m# Get number of variables\u001b[39;00m\n",
      "File \u001b[0;32m~/miniconda3/envs/ensembling/lib/python3.11/site-packages/cvxpy/reductions/qp2quad_form/qp_matrix_stuffing.py:173\u001b[0m, in \u001b[0;36mParamQuadProg.apply_parameters\u001b[0;34m(self, id_to_param_value, zero_offset, keep_zeros)\u001b[0m\n\u001b[1;32m    164\u001b[0m     \u001b[38;5;28;01mreturn\u001b[39;00m (np\u001b[38;5;241m.\u001b[39marray(\u001b[38;5;28mself\u001b[39m\u001b[38;5;241m.\u001b[39mid_to_param[idx]\u001b[38;5;241m.\u001b[39mvalue) \u001b[38;5;28;01mif\u001b[39;00m id_to_param_value\n\u001b[1;32m    165\u001b[0m             \u001b[38;5;129;01mis\u001b[39;00m \u001b[38;5;28;01mNone\u001b[39;00m \u001b[38;5;28;01melse\u001b[39;00m id_to_param_value[idx])\n\u001b[1;32m    166\u001b[0m param_vec \u001b[38;5;241m=\u001b[39m canonInterface\u001b[38;5;241m.\u001b[39mget_parameter_vector(\n\u001b[1;32m    167\u001b[0m     \u001b[38;5;28mself\u001b[39m\u001b[38;5;241m.\u001b[39mtotal_param_size,\n\u001b[1;32m    168\u001b[0m     \u001b[38;5;28mself\u001b[39m\u001b[38;5;241m.\u001b[39mparam_id_to_col,\n\u001b[1;32m    169\u001b[0m     \u001b[38;5;28mself\u001b[39m\u001b[38;5;241m.\u001b[39mparam_id_to_size,\n\u001b[1;32m    170\u001b[0m     param_value,\n\u001b[1;32m    171\u001b[0m     zero_offset\u001b[38;5;241m=\u001b[39mzero_offset)\n\u001b[0;32m--> 173\u001b[0m \u001b[38;5;28mself\u001b[39m\u001b[38;5;241m.\u001b[39mreduced_P\u001b[38;5;241m.\u001b[39mcache(keep_zeros)\n\u001b[1;32m    174\u001b[0m P, _ \u001b[38;5;241m=\u001b[39m \u001b[38;5;28mself\u001b[39m\u001b[38;5;241m.\u001b[39mreduced_P\u001b[38;5;241m.\u001b[39mget_matrix_from_tensor(param_vec, with_offset\u001b[38;5;241m=\u001b[39m\u001b[38;5;28;01mFalse\u001b[39;00m)\n\u001b[1;32m    176\u001b[0m q, d \u001b[38;5;241m=\u001b[39m canonInterface\u001b[38;5;241m.\u001b[39mget_matrix_from_tensor(\n\u001b[1;32m    177\u001b[0m     \u001b[38;5;28mself\u001b[39m\u001b[38;5;241m.\u001b[39mq, param_vec, \u001b[38;5;28mself\u001b[39m\u001b[38;5;241m.\u001b[39mx\u001b[38;5;241m.\u001b[39msize, with_offset\u001b[38;5;241m=\u001b[39m\u001b[38;5;28;01mTrue\u001b[39;00m)\n",
      "File \u001b[0;32m~/miniconda3/envs/ensembling/lib/python3.11/site-packages/cvxpy/reductions/utilities.py:141\u001b[0m, in \u001b[0;36mReducedMat.cache\u001b[0;34m(self, keep_zeros)\u001b[0m\n\u001b[1;32m    136\u001b[0m \u001b[38;5;28;01mif\u001b[39;00m \u001b[38;5;28mself\u001b[39m\u001b[38;5;241m.\u001b[39mreduced_mat \u001b[38;5;129;01mis\u001b[39;00m \u001b[38;5;28;01mNone\u001b[39;00m:\n\u001b[1;32m    137\u001b[0m     \u001b[38;5;66;03m# Form a reduced representation of the mapping,\u001b[39;00m\n\u001b[1;32m    138\u001b[0m     \u001b[38;5;66;03m# for faster application of parameters.\u001b[39;00m\n\u001b[1;32m    139\u001b[0m     \u001b[38;5;28;01mif\u001b[39;00m np\u001b[38;5;241m.\u001b[39mprod(\u001b[38;5;28mself\u001b[39m\u001b[38;5;241m.\u001b[39mmatrix_data\u001b[38;5;241m.\u001b[39mshape) \u001b[38;5;241m!=\u001b[39m \u001b[38;5;241m0\u001b[39m:\n\u001b[1;32m    140\u001b[0m         reduced_mat, indices, indptr, shape \u001b[38;5;241m=\u001b[39m (\n\u001b[0;32m--> 141\u001b[0m             canonInterface\u001b[38;5;241m.\u001b[39mreduce_problem_data_tensor(\n\u001b[1;32m    142\u001b[0m                 \u001b[38;5;28mself\u001b[39m\u001b[38;5;241m.\u001b[39mmatrix_data, \u001b[38;5;28mself\u001b[39m\u001b[38;5;241m.\u001b[39mvar_len, \u001b[38;5;28mself\u001b[39m\u001b[38;5;241m.\u001b[39mquad_form))\n\u001b[1;32m    143\u001b[0m         \u001b[38;5;28mself\u001b[39m\u001b[38;5;241m.\u001b[39mreduced_mat \u001b[38;5;241m=\u001b[39m reduced_mat\n\u001b[1;32m    144\u001b[0m         \u001b[38;5;28mself\u001b[39m\u001b[38;5;241m.\u001b[39mproblem_data_index \u001b[38;5;241m=\u001b[39m (indices, indptr, shape)\n",
      "File \u001b[0;32m~/miniconda3/envs/ensembling/lib/python3.11/site-packages/cvxpy/cvxcore/python/canonInterface.py:121\u001b[0m, in \u001b[0;36mreduce_problem_data_tensor\u001b[0;34m(A, var_length, quad_form)\u001b[0m\n\u001b[1;32m    118\u001b[0m reduced_A_shape \u001b[38;5;241m=\u001b[39m (unique_old_row\u001b[38;5;241m.\u001b[39msize, A_coo\u001b[38;5;241m.\u001b[39mshape[\u001b[38;5;241m1\u001b[39m])\n\u001b[1;32m    120\u001b[0m \u001b[38;5;66;03m# remap the rows\u001b[39;00m\n\u001b[0;32m--> 121\u001b[0m reduced_A \u001b[38;5;241m=\u001b[39m sp\u001b[38;5;241m.\u001b[39mcoo_matrix(\n\u001b[1;32m    122\u001b[0m     (A_coo\u001b[38;5;241m.\u001b[39mdata, (reduced_row, A_coo\u001b[38;5;241m.\u001b[39mcol)), shape\u001b[38;5;241m=\u001b[39mreduced_A_shape)\n\u001b[1;32m    124\u001b[0m \u001b[38;5;66;03m# convert reduced_A to csr\u001b[39;00m\n\u001b[1;32m    125\u001b[0m reduced_A \u001b[38;5;241m=\u001b[39m reduced_A\u001b[38;5;241m.\u001b[39mtocsr()\n",
      "File \u001b[0;32m~/miniconda3/envs/ensembling/lib/python3.11/site-packages/scipy/sparse/_coo.py:56\u001b[0m, in \u001b[0;36m_coo_base.__init__\u001b[0;34m(self, arg1, shape, dtype, copy)\u001b[0m\n\u001b[1;32m     53\u001b[0m     M, N \u001b[38;5;241m=\u001b[39m shape\n\u001b[1;32m     54\u001b[0m     \u001b[38;5;28mself\u001b[39m\u001b[38;5;241m.\u001b[39m_shape \u001b[38;5;241m=\u001b[39m check_shape((M, N))\n\u001b[0;32m---> 56\u001b[0m idx_dtype \u001b[38;5;241m=\u001b[39m \u001b[38;5;28mself\u001b[39m\u001b[38;5;241m.\u001b[39m_get_index_dtype((row, col),\n\u001b[1;32m     57\u001b[0m                                   maxval\u001b[38;5;241m=\u001b[39m\u001b[38;5;28mmax\u001b[39m(\u001b[38;5;28mself\u001b[39m\u001b[38;5;241m.\u001b[39mshape),\n\u001b[1;32m     58\u001b[0m                                   check_contents\u001b[38;5;241m=\u001b[39m\u001b[38;5;28;01mTrue\u001b[39;00m)\n\u001b[1;32m     59\u001b[0m \u001b[38;5;28mself\u001b[39m\u001b[38;5;241m.\u001b[39mrow \u001b[38;5;241m=\u001b[39m np\u001b[38;5;241m.\u001b[39marray(row, copy\u001b[38;5;241m=\u001b[39mcopy, dtype\u001b[38;5;241m=\u001b[39midx_dtype)\n\u001b[1;32m     60\u001b[0m \u001b[38;5;28mself\u001b[39m\u001b[38;5;241m.\u001b[39mcol \u001b[38;5;241m=\u001b[39m np\u001b[38;5;241m.\u001b[39marray(col, copy\u001b[38;5;241m=\u001b[39mcopy, dtype\u001b[38;5;241m=\u001b[39midx_dtype)\n",
      "File \u001b[0;32m~/miniconda3/envs/ensembling/lib/python3.11/site-packages/scipy/sparse/_base.py:1309\u001b[0m, in \u001b[0;36m_spbase._get_index_dtype\u001b[0;34m(self, arrays, maxval, check_contents)\u001b[0m\n\u001b[1;32m   1306\u001b[0m \u001b[38;5;28;01mfrom\u001b[39;00m \u001b[38;5;21;01m.\u001b[39;00m\u001b[38;5;21;01m_sputils\u001b[39;00m \u001b[38;5;28;01mimport\u001b[39;00m get_index_dtype\n\u001b[1;32m   1308\u001b[0m \u001b[38;5;66;03m# Don't check contents for array API\u001b[39;00m\n\u001b[0;32m-> 1309\u001b[0m \u001b[38;5;28;01mreturn\u001b[39;00m get_index_dtype(arrays,\n\u001b[1;32m   1310\u001b[0m                        maxval,\n\u001b[1;32m   1311\u001b[0m                        (check_contents \u001b[38;5;129;01mand\u001b[39;00m \u001b[38;5;129;01mnot\u001b[39;00m \u001b[38;5;28misinstance\u001b[39m(\u001b[38;5;28mself\u001b[39m, sparray)))\n",
      "File \u001b[0;32m~/miniconda3/envs/ensembling/lib/python3.11/site-packages/scipy/sparse/_sputils.py:170\u001b[0m, in \u001b[0;36mget_index_dtype\u001b[0;34m(arrays, maxval, check_contents)\u001b[0m\n\u001b[1;32m    148\u001b[0m \u001b[38;5;28;01mdef\u001b[39;00m \u001b[38;5;21mget_index_dtype\u001b[39m(arrays\u001b[38;5;241m=\u001b[39m(), maxval\u001b[38;5;241m=\u001b[39m\u001b[38;5;28;01mNone\u001b[39;00m, check_contents\u001b[38;5;241m=\u001b[39m\u001b[38;5;28;01mFalse\u001b[39;00m):\n\u001b[1;32m    149\u001b[0m \u001b[38;5;250m    \u001b[39m\u001b[38;5;124;03m\"\"\"\u001b[39;00m\n\u001b[1;32m    150\u001b[0m \u001b[38;5;124;03m    Based on input (integer) arrays `a`, determine a suitable index data\u001b[39;00m\n\u001b[1;32m    151\u001b[0m \u001b[38;5;124;03m    type that can hold the data in the arrays.\u001b[39;00m\n\u001b[0;32m   (...)\u001b[0m\n\u001b[1;32m    167\u001b[0m \n\u001b[1;32m    168\u001b[0m \u001b[38;5;124;03m    \"\"\"\u001b[39;00m\n\u001b[0;32m--> 170\u001b[0m     int32min \u001b[38;5;241m=\u001b[39m np\u001b[38;5;241m.\u001b[39mint32(np\u001b[38;5;241m.\u001b[39miinfo(np\u001b[38;5;241m.\u001b[39mint32)\u001b[38;5;241m.\u001b[39mmin)\n\u001b[1;32m    171\u001b[0m     int32max \u001b[38;5;241m=\u001b[39m np\u001b[38;5;241m.\u001b[39mint32(np\u001b[38;5;241m.\u001b[39miinfo(np\u001b[38;5;241m.\u001b[39mint32)\u001b[38;5;241m.\u001b[39mmax)\n\u001b[1;32m    173\u001b[0m     \u001b[38;5;66;03m# not using intc directly due to misinteractions with pythran\u001b[39;00m\n",
      "File \u001b[0;32m~/miniconda3/envs/ensembling/lib/python3.11/site-packages/numpy/core/getlimits.py:655\u001b[0m, in \u001b[0;36miinfo.__init__\u001b[0;34m(self, int_type)\u001b[0m\n\u001b[1;32m    653\u001b[0m \u001b[38;5;28mself\u001b[39m\u001b[38;5;241m.\u001b[39mkind \u001b[38;5;241m=\u001b[39m \u001b[38;5;28mself\u001b[39m\u001b[38;5;241m.\u001b[39mdtype\u001b[38;5;241m.\u001b[39mkind\n\u001b[1;32m    654\u001b[0m \u001b[38;5;28mself\u001b[39m\u001b[38;5;241m.\u001b[39mbits \u001b[38;5;241m=\u001b[39m \u001b[38;5;28mself\u001b[39m\u001b[38;5;241m.\u001b[39mdtype\u001b[38;5;241m.\u001b[39mitemsize \u001b[38;5;241m*\u001b[39m \u001b[38;5;241m8\u001b[39m\n\u001b[0;32m--> 655\u001b[0m \u001b[38;5;28mself\u001b[39m\u001b[38;5;241m.\u001b[39mkey \u001b[38;5;241m=\u001b[39m \u001b[38;5;124m\"\u001b[39m\u001b[38;5;132;01m%s\u001b[39;00m\u001b[38;5;132;01m%d\u001b[39;00m\u001b[38;5;124m\"\u001b[39m \u001b[38;5;241m%\u001b[39m (\u001b[38;5;28mself\u001b[39m\u001b[38;5;241m.\u001b[39mkind, \u001b[38;5;28mself\u001b[39m\u001b[38;5;241m.\u001b[39mbits)\n\u001b[1;32m    656\u001b[0m \u001b[38;5;28;01mif\u001b[39;00m \u001b[38;5;28mself\u001b[39m\u001b[38;5;241m.\u001b[39mkind \u001b[38;5;129;01mnot\u001b[39;00m \u001b[38;5;129;01min\u001b[39;00m \u001b[38;5;124m'\u001b[39m\u001b[38;5;124miu\u001b[39m\u001b[38;5;124m'\u001b[39m:\n\u001b[1;32m    657\u001b[0m     \u001b[38;5;28;01mraise\u001b[39;00m \u001b[38;5;167;01mValueError\u001b[39;00m(\u001b[38;5;124m\"\u001b[39m\u001b[38;5;124mInvalid integer data type \u001b[39m\u001b[38;5;132;01m%r\u001b[39;00m\u001b[38;5;124m.\u001b[39m\u001b[38;5;124m\"\u001b[39m \u001b[38;5;241m%\u001b[39m (\u001b[38;5;28mself\u001b[39m\u001b[38;5;241m.\u001b[39mkind,))\n",
      "\u001b[0;31mKeyboardInterrupt\u001b[0m: "
     ]
    }
   ],
   "source": [
    "# note: plotting this is too slow if we need to run the optimization over again for each policy for each round\n",
    "# probably need to scrap this style of plot and thing of something more sensible.\n",
    "\n",
    "# predicted objective of each point per round\n",
    "rev_1 = [np.einsum('ij,ij->i', maxModel.predictions_by_round[i][0], policy1.run_given_preds(maxModel.predictions_by_round[i][0])) for i in range( 1000 )] #fancy vectorized row-wise dot product \n",
    "rev_2 = [np.einsum('ij,ij->i', maxModel.predictions_by_round[i][1], policy2.run_given_preds(maxModel.predictions_by_round[i][1])) for i in range( 1000 )] #fancy vectorized row-wise dot product \n",
    "rev_3 = [np.einsum('ij,ij->i', maxModel.predictions_by_round[i][2], policy3.run_given_preds(maxModel.predictions_by_round[i][2])) for i in range( 1000 )] #fancy vectorized row-wise dot product \n",
    "rev_4 = [np.einsum('ij,ij->i', maxModel.predictions_by_round[i][3], policy4.run_given_preds(maxModel.predictions_by_round[i][3])) for i in range( 1000 )] #fancy vectorized row-wise dot product \n",
    "rev_5 = [np.einsum('ij,ij->i', maxModel.predictions_by_round[i][4], policy5.run_given_preds(maxModel.predictions_by_round[i][4])) for i in range( 1000 )] #fancy vectorized row-wise dot product \n",
    "rev_6 = [np.einsum('ij,ij->i', maxModel.predictions_by_round[i][5], policy6.run_given_preds(maxModel.predictions_by_round[i][5])) for i in range( 1000 )] #fancy vectorized row-wise dot product \n",
    "rev_7 = [np.einsum('ij,ij->i', maxModel.predictions_by_round[i][6], policy7.run_given_preds(maxModel.predictions_by_round[i][6])) for i in range( 1000 )] #fancy vectorized row-wise dot product \n",
    "rev_8 = [np.einsum('ij,ij->i', maxModel.predictions_by_round[i][7], policy8.run_given_preds(maxModel.predictions_by_round[i][7])) for i in range( 1000 )] #fancy vectorized row-wise dot product \n",
    "rev_meta = [np.einsum('ij,ij->i', Y_train, maxModel.meta_policy_choice_by_round[i]) for i in range( 1000 )]\n",
    "\n",
    "# self.predictions_by_round = [np.copy(self.curr_preds)] # shape self.curr_depth * k + 1; entry (i,j) is predictions on training data of model j after i rounds of debiasing\n",
    "\n",
    "# plt.plot(range(len(maxModel.predictions_by_round)), np.mean(pred_rev, axis=1), 'o', label=\"predicted mean obj of policy\")\n",
    "plt.plot(range( 1000 ), np.mean(rev_1, axis=1), 'o', label=\"realized obj of model 1\")\n",
    "plt.plot(range( 1000 ), np.mean(rev_2, axis=1), 'o', label=\"realized obj of model 2\")\n",
    "plt.plot(range( 1000 ), np.mean(rev_3, axis=1), 'o', label=\"realized obj of model 3\")\n",
    "plt.plot(range( 1000 ), np.mean(rev_4, axis=1), 'o', label=\"realized obj of model 4\")\n",
    "plt.plot(range( 1000 ), np.mean(rev_5, axis=1), 'o', label=\"realized obj of model 5\")\n",
    "plt.plot(range( 1000 ), np.mean(rev_6, axis=1), 'o', label=\"realized obj of model 6\")\n",
    "plt.plot(range( 1000 ), np.mean(rev_7, axis=1), 'o', label=\"realized obj of model 7\")\n",
    "plt.plot(range( 1000 ), np.mean(rev_8, axis=1), 'o', label=\"realized obj of model 8\")\n",
    "# plt.plot(range(len(maxModel.predictions_by_round)), np.mean(true_rev, axis=1), 'o', label=\"realized mean obj of policy\")\n",
    "plt.plot(range( 1000 ), np.mean(rev_meta, axis=1), 'o', label=\"realized obj of ensembled model\")\n",
    "plt.legend()\n",
    "plt.title(\"MaxModel: Per Model Realized Objective over Rounds\")\n",
    "plt.savefig(\"results/{0}_{1}_{2}/{0}_{1}_{2}_maxmodel-constituent-ensemble-real objective\".format(dataset, initial_model_type, optimization_type))"
   ]
  },
  {
   "cell_type": "code",
   "execution_count": null,
   "metadata": {},
   "outputs": [],
   "source": [
    "# # predicted objective of each point per round\n",
    "# rev_1 = [np.einsum('ij,ij->i', maxModel.predictions_by_round[i][0], policy1.run_given_preds(maxModel.predictions_by_round[i][0])) for i in range( 1 )] #fancy vectorized row-wise dot product \n",
    "# rev_2 = [np.einsum('ij,ij->i', maxModel.predictions_by_round[i][1], policy2.run_given_preds(maxModel.predictions_by_round[i][1])) for i in range( 1 )] #fancy vectorized row-wise dot product \n",
    "# rev_3 = [np.einsum('ij,ij->i', maxModel.predictions_by_round[i][2], policy3.run_given_preds(maxModel.predictions_by_round[i][2])) for i in range( 1 )] #fancy vectorized row-wise dot product \n",
    "# rev_4 = [np.einsum('ij,ij->i', maxModel.predictions_by_round[i][3], policy4.run_given_preds(maxModel.predictions_by_round[i][3])) for i in range( 1 )] #fancy vectorized row-wise dot product \n",
    "# rev_5 = [np.einsum('ij,ij->i', maxModel.predictions_by_round[i][4], policy5.run_given_preds(maxModel.predictions_by_round[i][4])) for i in range( 1 )] #fancy vectorized row-wise dot product \n",
    "# rev_6 = [np.einsum('ij,ij->i', maxModel.predictions_by_round[i][5], policy6.run_given_preds(maxModel.predictions_by_round[i][5])) for i in range( 1 )] #fancy vectorized row-wise dot product \n",
    "# rev_7 = [np.einsum('ij,ij->i', maxModel.predictions_by_round[i][6], policy7.run_given_preds(maxModel.predictions_by_round[i][6])) for i in range( 1 )] #fancy vectorized row-wise dot product \n",
    "# rev_8 = [np.einsum('ij,ij->i', maxModel.predictions_by_round[i][7], policy8.run_given_preds(maxModel.predictions_by_round[i][7])) for i in range( 1 )] #fancy vectorized row-wise dot product \n",
    "# rev_meta = [np.einsum('ij,ij->i', Y_train, maxModel.meta_policy_choice_by_round[i]) for i in range( 1 )]\n",
    "# plt.savefig(\"results/{0}_{1}_{2}/{0}_{1}_{2}_maxmodel-ensemble-predicted-real objective_start\".format(dataset, initial_model_type, optimization_type))"
   ]
  },
  {
   "cell_type": "code",
   "execution_count": null,
   "metadata": {},
   "outputs": [],
   "source": [
    "time.ctime()"
   ]
  },
  {
   "cell_type": "code",
   "execution_count": null,
   "metadata": {},
   "outputs": [],
   "source": []
  }
 ],
 "metadata": {
  "kernelspec": {
   "display_name": "Python 3 (ipykernel)",
   "language": "python",
   "name": "python3"
  },
  "language_info": {
   "codemirror_mode": {
    "name": "ipython",
    "version": 3
   },
   "file_extension": ".py",
   "mimetype": "text/x-python",
   "name": "python",
   "nbconvert_exporter": "python",
   "pygments_lexer": "ipython3",
   "version": "3.11.0"
  }
 },
 "nbformat": 4,
 "nbformat_minor": 4
}
