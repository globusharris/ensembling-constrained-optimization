{
 "cells": [
  {
   "cell_type": "code",
   "execution_count": 2,
   "metadata": {},
   "outputs": [],
   "source": [
    "import importlib\n",
    "import numpy as np"
   ]
  },
  {
   "cell_type": "code",
   "execution_count": 76,
   "metadata": {},
   "outputs": [
    {
     "name": "stdout",
     "output_type": "stream",
     "text": [
      "0\n",
      "3\n",
      "0\n",
      "3\n",
      "0\n",
      "3\n",
      "0\n",
      "3\n",
      "0\n",
      "3\n",
      "1\n",
      "3\n",
      "2\n",
      "3\n",
      "Halting early at round  6\n"
     ]
    }
   ],
   "source": [
    "import debiasedModel2 as db\n",
    "import policies\n",
    "importlib.reload(db)\n",
    "importlib.reload(policies)\n",
    "\n",
    "n_rows = 5\n",
    "n_features = 3\n",
    "pred_dim = n_features \n",
    "max_depth = 10\n",
    "\n",
    "xs = np.random.normal(size=(n_rows, n_features))\n",
    "slopes = np.random.uniform(size = n_features)\n",
    "errs = np.random.normal(scale=0.01, size = (n_rows, n_features))\n",
    "ys = np.multiply(xs, slopes) + errs\n",
    "\n",
    "# just predicts label mean\n",
    "def h1(xs):\n",
    "    # calculate label mean and duplicate it for each of xs\n",
    "    return np.tile(np.average(ys, axis=0), (len(xs),1))\n",
    "\n",
    "def h2(xs):\n",
    "    preds = np.zeros((len(xs), n_features), dtype='float64')\n",
    "    preds[:,0] = ys[:,0]\n",
    "    return preds\n",
    "\n",
    "h1_policy = policies.Simplex(pred_dim, h1)\n",
    "h2_policy = policies.Simplex(pred_dim, h2)\n",
    "\n",
    "init_model = h1\n",
    "max_depth = 10\n",
    "\n",
    "model = db.Debiased_model(max_depth, h1_policy, pred_dim, h2, xs)\n",
    "model.debias(ys, h2_policy)"
   ]
  },
  {
   "cell_type": "code",
   "execution_count": 31,
   "metadata": {},
   "outputs": [
    {
     "data": {
      "text/plain": [
       "[array([ 0.        , -0.3312291 , -0.00090232]),\n",
       " array([0.        , 0.21355704, 0.02601576]),\n",
       " array([ 0.        ,  0.55861456, -0.22349648]),\n",
       " array([ 0.        , -0.08205657, -0.30154375]),\n",
       " array([ 0.        , -0.18620485,  0.07449883]),\n",
       " array([0., 0., 0.]),\n",
       " array([0., 0., 0.]),\n",
       " array([0., 0., 0.]),\n",
       " array([0., 0., 0.]),\n",
       " array([0., 0., 0.])]"
      ]
     },
     "execution_count": 31,
     "metadata": {},
     "output_type": "execute_result"
    }
   ],
   "source": [
    "model.bias_array"
   ]
  },
  {
   "cell_type": "code",
   "execution_count": 73,
   "metadata": {},
   "outputs": [],
   "source": [
    "importlib.reload(db)\n",
    "\n",
    "xs = np.array([[1],[2],[3]]) \n",
    "ys = np.array([[1,10], [1,0], [1,0]])\n",
    "\n",
    "def h(xs):\n",
    "    preds = []\n",
    "    for x in xs:\n",
    "        if x==1:\n",
    "            preds.append([5.,10.])\n",
    "        if x==2:\n",
    "            preds.append([1,0])\n",
    "        if x==3:\n",
    "            preds.append([9,0])\n",
    "    return np.array(preds)\n",
    "\n",
    "max_depth = 8\n",
    "pred_dim = 2\n",
    "simp = policies.Simplex(pred_dim, h)\n",
    "model = db.Debiased_model(max_depth, simp, pred_dim, h, xs)\n",
    "model.debias(ys, simp);"
   ]
  },
  {
   "cell_type": "code",
   "execution_count": 74,
   "metadata": {},
   "outputs": [
    {
     "data": {
      "text/plain": [
       "[array([[ 5., 10.],\n",
       "        [-3.,  0.],\n",
       "        [ 1.,  0.]]),\n",
       " array([[ 5., 10.],\n",
       "        [-3.,  0.],\n",
       "        [ 5.,  0.]]),\n",
       " array([[ 5., 10.],\n",
       "        [-3.,  0.],\n",
       "        [ 5.,  0.]]),\n",
       " array([[ 5., 10.],\n",
       "        [-3.,  0.],\n",
       "        [ 1.,  0.]]),\n",
       " array([[ 5., 10.],\n",
       "        [-3.,  0.],\n",
       "        [ 1.,  0.]]),\n",
       " array([[ 5., 10.],\n",
       "        [-3.,  0.],\n",
       "        [ 1.,  0.]]),\n",
       " array([[ 5., 10.],\n",
       "        [-3.,  0.],\n",
       "        [ 1.,  0.]]),\n",
       " array([[ 5., 10.],\n",
       "        [-3.,  0.],\n",
       "        [ 1.,  0.]]),\n",
       " array([[ 5., 10.],\n",
       "        [-3.,  0.],\n",
       "        [ 1.,  0.]])]"
      ]
     },
     "execution_count": 74,
     "metadata": {},
     "output_type": "execute_result"
    }
   ],
   "source": [
    "model.predictions_by_round"
   ]
  },
  {
   "cell_type": "code",
   "execution_count": null,
   "metadata": {},
   "outputs": [],
   "source": []
  }
 ],
 "metadata": {
  "kernelspec": {
   "display_name": "bb-portfolio",
   "language": "python",
   "name": "python3"
  },
  "language_info": {
   "codemirror_mode": {
    "name": "ipython",
    "version": 3
   },
   "file_extension": ".py",
   "mimetype": "text/x-python",
   "name": "python",
   "nbconvert_exporter": "python",
   "pygments_lexer": "ipython3",
   "version": "3.12.1"
  }
 },
 "nbformat": 4,
 "nbformat_minor": 2
}
