{
 "cells": [
  {
   "cell_type": "code",
   "execution_count": 2,
   "metadata": {},
   "outputs": [],
   "source": [
    "import sys\n",
    "sys.path.append('../src')\n",
    "\n",
    "import importlib\n",
    "import numpy as np\n",
    "from sklearn.covariance import empirical_covariance\n",
    "\n",
    "import policies "
   ]
  },
  {
   "cell_type": "markdown",
   "metadata": {},
   "source": [
    "# Covariance Constrained Policy Testing\n",
    "\n",
    "Testing the covariance constrained policy. Initially, this was giving a lot of violations. Initially thought that the problem might just not be feasible but after inspection it was. I switched the solver being used by cvxpy to Gurobi, which resolved the issue. \n",
    "\n",
    "The initial line in this, %%capture, redirects stdout from printing out the output. This is much nicer than redirecting the stdout manually, which doesn't work as anticipated inside of jupyter notebooks. Note: if your code is multithreaded, this no longer works for some reason. "
   ]
  },
  {
   "cell_type": "code",
   "execution_count": 24,
   "metadata": {},
   "outputs": [],
   "source": [
    "%%capture\n",
    "\n",
    "importlib.reload(policies)\n",
    "\n",
    "n = 50\n",
    "n_features = 6\n",
    "pred_dim = 6\n",
    "\n",
    "np.random.seed(30)\n",
    "\n",
    "# Gaussian xs, with true labels having a different linear relationship with xs in each coordinate\n",
    "xs = np.random.normal(size=(n, n_features))\n",
    "slopes = np.random.uniform(size = n_features)\n",
    "ys = np.multiply(xs, slopes)\n",
    "\n",
    "def meta_model(coord, slopes):\n",
    "    def model(xs):\n",
    "        preds = np.random.normal(size=(n, pred_dim))\n",
    "        true_ys = np.multiply(xs, slopes)\n",
    "        preds[:,coord] = true_ys[:,coord]\n",
    "        return preds\n",
    "    return model\n",
    "\n",
    "model = meta_model(0, slopes)\n",
    "\n",
    "alpha = 0.9\n",
    "policy = policies.VarianceConstrained(pred_dim, model, 0.1, alpha, ys)\n",
    "out = policy.run_given_preds(ys);"
   ]
  },
  {
   "cell_type": "code",
   "execution_count": 25,
   "metadata": {},
   "outputs": [
    {
     "data": {
      "text/plain": [
       "array([[3.45055097e-11, 2.99907272e-08, 4.77199150e-09, 9.99999948e-01,\n",
       "        3.56356876e-09, 1.35077245e-08],\n",
       "       [1.28539306e-09, 6.14705503e-02, 2.94406680e-07, 1.01343087e-08,\n",
       "        9.38524038e-01, 5.10582094e-06],\n",
       "       [5.58357438e-11, 7.56213593e-09, 3.61906979e-08, 9.99999937e-01,\n",
       "        1.26381807e-09, 1.78635919e-08],\n",
       "       [2.06121910e-11, 6.02228732e-08, 6.61801531e-09, 2.96357864e-10,\n",
       "        1.81954442e-11, 9.99999933e-01],\n",
       "       [3.57604655e-11, 1.68143012e-07, 6.12813941e-02, 4.88329329e-09,\n",
       "        9.38718407e-01, 2.62891145e-08],\n",
       "       [1.29919379e-11, 1.43779487e-09, 9.99999998e-01, 3.49842770e-11,\n",
       "        1.21126657e-11, 9.97018835e-10],\n",
       "       [5.92512938e-02, 6.55174358e-11, 6.68072187e-11, 9.54043725e-11,\n",
       "        9.40748706e-01, 6.70293772e-11],\n",
       "       [3.39062932e-07, 3.09978744e-08, 3.57435341e-08, 5.99839219e-02,\n",
       "        9.40015635e-01, 3.71567871e-08],\n",
       "       [1.27595341e-09, 5.19147844e-08, 1.16907101e-07, 5.99840042e-02,\n",
       "        9.40015787e-01, 3.89545112e-08],\n",
       "       [9.99998894e-01, 3.68445886e-07, 3.43325920e-07, 1.35261949e-07,\n",
       "        2.66405342e-09, 2.56795728e-07],\n",
       "       [6.28612929e-12, 2.47878208e-07, 9.99999747e-01, 7.94383987e-11,\n",
       "        9.45034327e-12, 4.81421959e-09],\n",
       "       [9.99998885e-01, 1.55308294e-07, 2.45121028e-07, 5.98635301e-09,\n",
       "        5.57014118e-07, 1.51499457e-07],\n",
       "       [8.66744979e-10, 1.20611768e-09, 1.18788396e-09, 5.99847673e-02,\n",
       "        9.40015228e-01, 1.13554629e-09],\n",
       "       [9.99999618e-01, 6.66633427e-08, 1.19558239e-07, 9.48984490e-08,\n",
       "        1.19502262e-08, 8.84975393e-08],\n",
       "       [5.92450457e-02, 1.92032327e-10, 1.79067765e-10, 2.05235404e-09,\n",
       "        9.40754952e-01, 1.72404870e-10],\n",
       "       [2.08582106e-10, 1.46589445e-08, 1.04776237e-07, 5.99842897e-02,\n",
       "        9.40015579e-01, 1.16543277e-08],\n",
       "       [9.99999997e-01, 1.75691479e-10, 2.11488894e-10, 3.06604075e-10,\n",
       "        1.89253043e-09, 1.34798604e-10],\n",
       "       [9.99999998e-01, 6.53855125e-10, 8.41653198e-10, 4.31162200e-11,\n",
       "        4.61643474e-12, 5.50767568e-10],\n",
       "       [4.62979807e-11, 1.68781449e-08, 2.60856188e-08, 9.99999938e-01,\n",
       "        4.06368799e-10, 1.85058400e-08],\n",
       "       [5.92448974e-02, 8.12208347e-09, 4.42533631e-09, 2.03193281e-09,\n",
       "        9.40755079e-01, 8.78976375e-09],\n",
       "       [2.08359400e-09, 6.45921486e-08, 7.18731846e-07, 1.13975995e-08,\n",
       "        9.39567690e-01, 6.04315127e-02],\n",
       "       [9.99999977e-01, 2.97074872e-10, 2.12600122e-10, 4.64806899e-10,\n",
       "        2.16953369e-08, 3.23862458e-10],\n",
       "       [5.92450603e-02, 8.35326198e-09, 8.17409925e-09, 2.56761734e-09,\n",
       "        9.40754911e-01, 9.85523841e-09],\n",
       "       [5.92445470e-02, 1.73299306e-07, 2.55909201e-08, 5.21712090e-09,\n",
       "        9.40754591e-01, 6.57944965e-07],\n",
       "       [1.56193431e-09, 2.14537263e-08, 3.10577627e-08, 8.95450715e-08,\n",
       "        9.39567524e-01, 6.04323324e-02],\n",
       "       [2.99877993e-10, 1.85666388e-09, 2.01692262e-09, 9.99999994e-01,\n",
       "        2.07248212e-10, 1.36807877e-09],\n",
       "       [9.99999995e-01, 1.17686001e-09, 3.06807440e-10, 3.03364722e-09,\n",
       "        7.79881731e-12, 6.68094095e-10],\n",
       "       [1.32598221e-08, 6.14519189e-02, 7.13592917e-07, 2.24053985e-05,\n",
       "        9.38524605e-01, 3.44367934e-07],\n",
       "       [6.50487801e-11, 1.58654471e-08, 5.67393669e-09, 2.81505399e-10,\n",
       "        9.21189626e-09, 9.99999969e-01],\n",
       "       [9.99999914e-01, 2.17151554e-08, 1.56745901e-08, 1.80456939e-08,\n",
       "        1.33322347e-11, 3.06715127e-08],\n",
       "       [3.31172890e-08, 4.02353078e-08, 2.46222444e-08, 5.99841029e-02,\n",
       "        9.40015751e-01, 4.85922891e-08],\n",
       "       [9.99999279e-01, 1.88283571e-07, 1.85368127e-07, 1.77038356e-07,\n",
       "        5.42644310e-09, 1.65359186e-07],\n",
       "       [1.04914606e-09, 6.37964866e-08, 3.01085385e-08, 1.48722233e-09,\n",
       "        9.39567662e-01, 6.04322420e-02],\n",
       "       [9.32909865e-11, 9.03325620e-09, 3.04113733e-08, 9.99999946e-01,\n",
       "        4.36777313e-11, 1.48063421e-08],\n",
       "       [9.99999978e-01, 3.29699832e-11, 3.71017443e-11, 2.74802828e-11,\n",
       "        2.14291723e-08, 3.37068895e-11],\n",
       "       [1.31630289e-09, 4.87583179e-07, 6.10827143e-02, 1.93617036e-04,\n",
       "        9.38723148e-01, 3.15610290e-08],\n",
       "       [1.23399808e-11, 9.99999768e-01, 4.66327195e-08, 1.61510173e-10,\n",
       "        1.32678176e-11, 1.85205667e-07],\n",
       "       [9.99999900e-01, 2.94633520e-08, 1.45141418e-08, 2.12148208e-08,\n",
       "        1.49828358e-08, 2.01636672e-08],\n",
       "       [2.07165369e-11, 6.22858439e-08, 1.30372840e-09, 9.99999920e-01,\n",
       "        2.47103975e-11, 1.65398137e-08],\n",
       "       [1.38793909e-08, 7.53141009e-07, 6.12823997e-02, 4.48833206e-08,\n",
       "        9.38716581e-01, 2.07289021e-07],\n",
       "       [5.92437654e-02, 6.72238890e-09, 1.02399685e-08, 1.61067782e-06,\n",
       "        9.40754597e-01, 9.46419454e-09],\n",
       "       [1.33834439e-08, 3.62978756e-07, 5.99606300e-07, 5.99831366e-02,\n",
       "        9.40015727e-01, 1.60158925e-07],\n",
       "       [9.99999998e-01, 5.50371815e-10, 5.17819374e-10, 4.76649199e-11,\n",
       "        5.20320712e-11, 4.85738800e-10],\n",
       "       [6.79697995e-08, 9.19185125e-09, 9.45487126e-09, 9.99999900e-01,\n",
       "        4.62333024e-09, 8.71472848e-09],\n",
       "       [5.92364168e-02, 5.08604345e-08, 2.91081448e-07, 4.99551333e-09,\n",
       "        9.40754706e-01, 8.53016617e-06],\n",
       "       [5.92455236e-02, 5.38293814e-09, 5.04363080e-09, 9.22129975e-10,\n",
       "        9.40754461e-01, 3.52380515e-09],\n",
       "       [5.40997526e-09, 3.78378553e-06, 6.66571278e-07, 1.53608646e-08,\n",
       "        5.28303060e-09, 9.99995524e-01],\n",
       "       [9.99998875e-01, 1.83285439e-07, 2.67554521e-07, 4.97168462e-07,\n",
       "        2.22599121e-09, 1.74634234e-07],\n",
       "       [4.18448586e-09, 8.67907144e-09, 9.14177189e-09, 9.99999969e-01,\n",
       "        5.65994826e-10, 8.67867189e-09],\n",
       "       [9.67985633e-09, 7.78202453e-09, 7.48350567e-09, 9.99999967e-01,\n",
       "        9.34781339e-10, 6.96911226e-09]])"
      ]
     },
     "execution_count": 25,
     "metadata": {},
     "output_type": "execute_result"
    }
   ],
   "source": [
    "out"
   ]
  },
  {
   "cell_type": "markdown",
   "metadata": {},
   "source": [
    "Sanity check: \n",
    "\n",
    "1. Does each row sum to 1? Yes! Or at least, up to a tolerance, since there will be small floating point errors."
   ]
  },
  {
   "cell_type": "code",
   "execution_count": 26,
   "metadata": {},
   "outputs": [
    {
     "name": "stdout",
     "output_type": "stream",
     "text": [
      "[1. 1. 1. 1. 1. 1. 1. 1. 1. 1. 1. 1. 1. 1. 1. 1. 1. 1. 1. 1. 1. 1. 1. 1.\n",
      " 1. 1. 1. 1. 1. 1. 1. 1. 1. 1. 1. 1. 1. 1. 1. 1. 1. 1. 1. 1. 1. 1. 1. 1.\n",
      " 1. 1.]\n",
      "Violations:  0\n"
     ]
    }
   ],
   "source": [
    "tolerance = 1e-3\n",
    "\n",
    "print(np.sum(out, axis=1))\n",
    "print(\"Violations: \", n-sum((np.isclose(np.sum(out, axis=1), np.ones(50), atol=tolerance))))"
   ]
  },
  {
   "cell_type": "markdown",
   "metadata": {},
   "source": [
    "2. Is each constraint bounded by 0 and 1?"
   ]
  },
  {
   "cell_type": "code",
   "execution_count": 27,
   "metadata": {},
   "outputs": [
    {
     "name": "stdout",
     "output_type": "stream",
     "text": [
      "Number of allocations greater than 1: 0\n",
      "Number of allocations less than 0: 0\n"
     ]
    }
   ],
   "source": [
    "print(f\"Number of allocations greater than 1: {np.sum(out - tolerance > 1)}\")\n",
    "print(f\"Number of allocations less than 0: {np.sum(out+tolerance < 0)}\")"
   ]
  },
  {
   "cell_type": "markdown",
   "metadata": {},
   "source": [
    "3. Are the variance conditions being approx satisfied? I wrote yes here before but it seems like no?"
   ]
  },
  {
   "cell_type": "code",
   "execution_count": 28,
   "metadata": {},
   "outputs": [
    {
     "name": "stdout",
     "output_type": "stream",
     "text": [
      "Max violation: 0.9\n",
      "Number of variance constraints which violate the max allowed variance: 0\n"
     ]
    }
   ],
   "source": [
    "cov = empirical_covariance(ys, assume_centered=False)\n",
    "\n",
    "viol = np.zeros(len(out))\n",
    "for i in range(len(out)):\n",
    "    viol[i] = np.matmul(np.matmul(out[i], cov), np.transpose(out[i]))\n",
    "\n",
    "print(f\"Max violation: {alpha}\")\n",
    "print(f\"Number of variance constraints which violate the max allowed variance: {sum(viol > alpha+0.1)}\")"
   ]
  },
  {
   "cell_type": "markdown",
   "metadata": {},
   "source": [
    "3. Is the covariance matrix actually measuring the correct thing? A sanity check that the diagonal of the matrix is equal to empirical variance.\n"
   ]
  },
  {
   "cell_type": "code",
   "execution_count": 29,
   "metadata": {},
   "outputs": [
    {
     "name": "stdout",
     "output_type": "stream",
     "text": [
      "Variances of each coordinate of the ys: \n",
      " [0.82798883 0.00104122 0.00179195 0.10912913 1.02202326 0.00313415]\n",
      "Diagonal of the covariance matrix: \n",
      " [0.82798883 0.00104122 0.00179195 0.10912913 1.02202326 0.00313415]\n"
     ]
    }
   ],
   "source": [
    "print(f\"Variances of each coordinate of the ys: \\n {np.var(ys, axis=0)}\")\n",
    "\n",
    "print(f\"Diagonal of the covariance matrix: \\n {np.diagonal(cov)}\")"
   ]
  },
  {
   "cell_type": "markdown",
   "metadata": {},
   "source": [
    "4. Are all the constraints convex and are things feasible?\n",
    "\n",
    "If C is positive semi-definite, then xCx^T <= val is a convex constraint on R^n. Maybe something went wrong in calculation of C? \n",
    "\n",
    "If the eigenvalues of C are positive, then C must be positive semi-definite. Here we see this is the case:"
   ]
  },
  {
   "cell_type": "code",
   "execution_count": 30,
   "metadata": {},
   "outputs": [
    {
     "data": {
      "text/plain": [
       "array([ True,  True,  True,  True,  True,  True])"
      ]
     },
     "execution_count": 30,
     "metadata": {},
     "output_type": "execute_result"
    }
   ],
   "source": [
    "np.linalg.eigvals(cov) > 0"
   ]
  },
  {
   "cell_type": "markdown",
   "metadata": {},
   "source": [
    "If the only constraint was covariance, xCx^T will be bounded by the eigenvalues of covariance matrix, so this is a good spot check for how feasible things are"
   ]
  },
  {
   "cell_type": "code",
   "execution_count": 31,
   "metadata": {},
   "outputs": [
    {
     "data": {
      "text/plain": [
       "array([1.04541420e+00, 8.10321387e-01, 1.04229047e-01, 2.73097313e-03,\n",
       "       8.41962782e-04, 1.57097101e-03])"
      ]
     },
     "execution_count": 31,
     "metadata": {},
     "output_type": "execute_result"
    }
   ],
   "source": [
    "np.linalg.eigvals(cov)"
   ]
  },
  {
   "cell_type": "code",
   "execution_count": null,
   "metadata": {},
   "outputs": [],
   "source": []
  }
 ],
 "metadata": {
  "kernelspec": {
   "display_name": "bb-portfolio",
   "language": "python",
   "name": "python3"
  },
  "language_info": {
   "codemirror_mode": {
    "name": "ipython",
    "version": 3
   },
   "file_extension": ".py",
   "mimetype": "text/x-python",
   "name": "python",
   "nbconvert_exporter": "python",
   "pygments_lexer": "ipython3",
   "version": "3.12.1"
  }
 },
 "nbformat": 4,
 "nbformat_minor": 2
}
