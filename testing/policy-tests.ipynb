{
 "cells": [
  {
   "cell_type": "code",
   "execution_count": 1,
   "metadata": {},
   "outputs": [],
   "source": [
    "import sys\n",
    "sys.path.append('../src')\n",
    "\n",
    "import importlib\n",
    "import numpy as np\n",
    "from sklearn.covariance import empirical_covariance\n",
    "\n",
    "import policies "
   ]
  },
  {
   "cell_type": "markdown",
   "metadata": {},
   "source": [
    "# Covariance Constrained Policy Testing\n",
    "\n",
    "Testing the covariance constrained policy. Initially, this was giving a lot of violations. Initially thought that the problem might just not be feasible but after inspection it was. I switched the solver being used by cvxpy to Gurobi, which resolved the issue. \n",
    "\n",
    "The initial line in this, %%capture, redirects stdout from printing out the output. This is much nicer than redirecting the stdout manually, which doesn't work as anticipated inside of jupyter notebooks. Note: if your code is multithreaded, this no longer works for some reason. "
   ]
  },
  {
   "cell_type": "code",
   "execution_count": 21,
   "metadata": {},
   "outputs": [],
   "source": [
    "%%capture\n",
    "\n",
    "importlib.reload(policies)\n",
    "\n",
    "n = 100\n",
    "n_features = 6\n",
    "pred_dim = 6\n",
    "\n",
    "np.random.seed(30)\n",
    "\n",
    "# Gaussian xs, with true labels having a different linear relationship with xs in each coordinate\n",
    "xs = np.random.normal(size=(n, n_features))\n",
    "slopes = np.random.uniform(size = n_features)\n",
    "ys = np.multiply(xs, slopes)\n",
    "\n",
    "def meta_model(coord, slopes):\n",
    "    def model(xs):\n",
    "        preds = np.random.normal(size=(n, pred_dim))\n",
    "        true_ys = np.multiply(xs, slopes)\n",
    "        preds[:,coord] = true_ys[:,coord]\n",
    "        return preds\n",
    "    return model\n",
    "\n",
    "model = meta_model(0, slopes)\n",
    "\n",
    "alpha = 0.9\n",
    "policy = policies.VarianceConstrained(pred_dim, model, 0.1, alpha, ys)\n",
    "out = policy.run_given_preds(ys);"
   ]
  },
  {
   "cell_type": "code",
   "execution_count": 22,
   "metadata": {},
   "outputs": [
    {
     "data": {
      "text/plain": [
       "array([[9.60852781e-10, 9.99999997e-01, 2.55313001e-11, 9.00783916e-10,\n",
       "        3.07819780e-10, 5.00705747e-10],\n",
       "       [7.54686652e-12, 8.77117848e-08, 8.77443274e-12, 7.50539889e-12,\n",
       "        9.99999912e-01, 8.20039187e-12],\n",
       "       [1.91751937e-10, 2.53293148e-12, 9.99999999e-01, 7.38496930e-10,\n",
       "        4.77996752e-11, 4.52196993e-10],\n",
       "       ...,\n",
       "       [1.04077839e-08, 1.53514710e-09, 9.99999949e-01, 1.41299553e-08,\n",
       "        1.33785896e-08, 1.17086987e-08],\n",
       "       [1.29970266e-07, 1.69285051e-08, 2.31114975e-08, 1.23471479e-07,\n",
       "        9.99999693e-01, 1.31613885e-08],\n",
       "       [2.12553512e-09, 9.99999671e-01, 8.34060607e-10, 1.59162518e-08,\n",
       "        3.10161634e-07, 2.80261627e-10]])"
      ]
     },
     "execution_count": 22,
     "metadata": {},
     "output_type": "execute_result"
    }
   ],
   "source": [
    "out"
   ]
  },
  {
   "cell_type": "markdown",
   "metadata": {},
   "source": [
    "Sanity check: \n",
    "\n",
    "1. Does each row sum to 1? Yes! Or at least, up to a tolerance, since there will be small floating point errors."
   ]
  },
  {
   "cell_type": "code",
   "execution_count": 13,
   "metadata": {},
   "outputs": [],
   "source": [
    "tolerance = 1e-3\n",
    "\n",
    "print(np.sum(out, axis=1))\n",
    "print(\"Violations: \", n-sum((np.isclose(np.sum(out, axis=1), np.ones(50), atol=tolerance))))"
   ]
  },
  {
   "cell_type": "markdown",
   "metadata": {},
   "source": [
    "2. Is each constraint bounded by 0 and 1?"
   ]
  },
  {
   "cell_type": "code",
   "execution_count": 52,
   "metadata": {},
   "outputs": [],
   "source": [
    "print(f\"Number of allocations greater than 1: {np.sum(out - tolerance > 1)}\")\n",
    "print(f\"Number of allocations less than 0: {np.sum(out+tolerance < 0)}\")"
   ]
  },
  {
   "cell_type": "markdown",
   "metadata": {},
   "source": [
    "3. Are the variance conditions being approx satisfied? I wrote yes here before but it seems like no?"
   ]
  },
  {
   "cell_type": "code",
   "execution_count": 53,
   "metadata": {},
   "outputs": [],
   "source": [
    "cov = empirical_covariance(ys, assume_centered=False)\n",
    "\n",
    "viol = np.zeros(len(out))\n",
    "for i in range(len(out)):\n",
    "    viol[i] = np.matmul(np.matmul(out[i], cov), np.transpose(out[i]))\n",
    "\n",
    "print(f\"Max violation: {alpha}\")\n",
    "print(f\"Number of variance constraints which violate the max allowed variance: {sum(viol > alpha+0.1)}\")"
   ]
  },
  {
   "cell_type": "markdown",
   "metadata": {},
   "source": [
    "3. Is the covariance matrix actually measuring the correct thing? A sanity check that the diagonal of the matrix is equal to empirical variance.\n"
   ]
  },
  {
   "cell_type": "code",
   "execution_count": 54,
   "metadata": {},
   "outputs": [],
   "source": [
    "print(f\"Variances of each coordinate of the ys: \\n {np.var(ys, axis=0)}\")\n",
    "\n",
    "print(f\"Diagonal of the covariance matrix: \\n {np.diagonal(cov)}\")"
   ]
  },
  {
   "cell_type": "markdown",
   "metadata": {},
   "source": [
    "4. Are all the constraints convex and are things feasible?\n",
    "\n",
    "If C is positive semi-definite, then xCx^T <= val is a convex constraint on R^n. Maybe something went wrong in calculation of C? \n",
    "\n",
    "If the eigenvalues of C are positive, then C must be positive semi-definite. Here we see this is the case:"
   ]
  },
  {
   "cell_type": "code",
   "execution_count": 55,
   "metadata": {},
   "outputs": [
    {
     "data": {
      "text/plain": [
       "array([ True,  True,  True,  True,  True,  True])"
      ]
     },
     "execution_count": 55,
     "metadata": {},
     "output_type": "execute_result"
    }
   ],
   "source": [
    "np.linalg.eigvals(cov) > 0"
   ]
  },
  {
   "cell_type": "markdown",
   "metadata": {},
   "source": [
    "If the only constraint was covariance, xCx^T will be bounded by the eigenvalues of covariance matrix, so this is a good spot check for how feasible things are"
   ]
  },
  {
   "cell_type": "code",
   "execution_count": 40,
   "metadata": {},
   "outputs": [
    {
     "data": {
      "text/plain": [
       "array([1.04541420e+00, 8.10321387e-01, 1.04229047e-01, 2.73097313e-03,\n",
       "       8.41962782e-04, 1.57097101e-03])"
      ]
     },
     "execution_count": 40,
     "metadata": {},
     "output_type": "execute_result"
    }
   ],
   "source": [
    "np.linalg.eigvals(cov)"
   ]
  },
  {
   "cell_type": "code",
   "execution_count": 4,
   "metadata": {},
   "outputs": [],
   "source": [
    "%%capture\n",
    "print('hi, stdout')\n",
    "print('hi, stderr', file=sys.stderr)"
   ]
  },
  {
   "cell_type": "code",
   "execution_count": 5,
   "metadata": {},
   "outputs": [
    {
     "name": "stdout",
     "output_type": "stream",
     "text": [
      "5\n"
     ]
    }
   ],
   "source": [
    "print(5)"
   ]
  },
  {
   "cell_type": "code",
   "execution_count": null,
   "metadata": {},
   "outputs": [],
   "source": []
  }
 ],
 "metadata": {
  "kernelspec": {
   "display_name": "bb-portfolio",
   "language": "python",
   "name": "python3"
  },
  "language_info": {
   "codemirror_mode": {
    "name": "ipython",
    "version": 3
   },
   "file_extension": ".py",
   "mimetype": "text/x-python",
   "name": "python",
   "nbconvert_exporter": "python",
   "pygments_lexer": "ipython3",
   "version": "3.12.1"
  }
 },
 "nbformat": 4,
 "nbformat_minor": 2
}
