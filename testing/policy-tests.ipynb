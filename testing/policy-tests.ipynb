{
 "cells": [
  {
   "cell_type": "code",
   "execution_count": 2,
   "metadata": {},
   "outputs": [],
   "source": [
    "import sys\n",
    "sys.path.append('../src')\n",
    "\n",
    "import importlib\n",
    "import numpy as np\n",
    "from sklearn.covariance import empirical_covariance\n",
    "\n",
    "import policies "
   ]
  },
  {
   "cell_type": "markdown",
   "metadata": {},
   "source": [
    "# Covariance Constrained Policy Testing\n",
    "\n",
    "Testing the covariance constrained policy. Initially, this was giving a lot of violations. Initially thought that the problem might just not be feasible but after inspection it was. I switched the solver being used by cvxpy to Gurobi, which resolved the issue. \n",
    "\n",
    "The initial line in this, %%capture, redirects stdout from printing out the output. This is much nicer than redirecting the stdout manually, which doesn't work as anticipated inside of jupyter notebooks. Note: if your code is multithreaded, this no longer works for some reason. "
   ]
  },
  {
   "cell_type": "code",
   "execution_count": 24,
   "metadata": {},
   "outputs": [],
   "source": [
    "%%capture\n",
    "\n",
    "importlib.reload(policies)\n",
    "\n",
    "n = 50\n",
    "n_features = 6\n",
    "pred_dim = 6\n",
    "\n",
    "np.random.seed(30)\n",
    "\n",
    "# Gaussian xs, with true labels having a different linear relationship with xs in each coordinate\n",
    "xs = np.random.normal(size=(n, n_features))\n",
    "slopes = np.random.uniform(size = n_features)\n",
    "ys = np.multiply(xs, slopes)\n",
    "\n",
    "def meta_model(coord, slopes):\n",
    "    def model(xs):\n",
    "        preds = np.random.normal(size=(n, pred_dim))\n",
    "        true_ys = np.multiply(xs, slopes)\n",
    "        preds[:,coord] = true_ys[:,coord]\n",
    "        return preds\n",
    "    return model\n",
    "\n",
    "model = meta_model(0, slopes)\n",
    "\n",
    "alpha = 0.5\n",
    "policy = policies.VarianceConstrained(pred_dim, model, 0.1, alpha, ys)\n",
    "out = policy.run_given_preds(ys);"
   ]
  },
  {
   "cell_type": "code",
   "execution_count": 25,
   "metadata": {},
   "outputs": [
    {
     "data": {
      "text/plain": [
       "array([[5.15141811e-11, 3.51809664e-08, 5.18379737e-09, 9.99999931e-01,\n",
       "        1.22299442e-08, 1.59185196e-08],\n",
       "       [3.35132570e-09, 3.00032070e-01, 2.10536594e-07, 4.45967594e-08,\n",
       "        6.99966277e-01, 1.39371189e-06],\n",
       "       [1.54675785e-10, 8.08830045e-09, 3.70902685e-08, 9.99999933e-01,\n",
       "        2.79591850e-09, 1.86735786e-08],\n",
       "       [3.82132833e-11, 1.64369476e-07, 2.74086899e-08, 5.87678114e-10,\n",
       "        5.85162433e-11, 9.99999808e-01],\n",
       "       [2.63960873e-09, 5.79476935e-06, 2.99116728e-01, 7.89413007e-08,\n",
       "        7.00877231e-01, 1.64842111e-07],\n",
       "       [1.31010820e-11, 3.33703153e-09, 9.99999994e-01, 9.36494767e-11,\n",
       "        1.77207184e-11, 2.48174225e-09],\n",
       "       [3.53814336e-01, 4.64776875e-10, 4.74456930e-10, 6.88193260e-10,\n",
       "        6.46185662e-01, 4.75952183e-10],\n",
       "       [2.09143389e-08, 1.68772738e-07, 8.53274549e-08, 2.98305681e-01,\n",
       "        7.01693923e-01, 1.20439127e-07],\n",
       "       [1.61385505e-10, 5.98201381e-10, 1.04287676e-09, 2.98306046e-01,\n",
       "        7.01693951e-01, 5.21221774e-10],\n",
       "       [7.78806736e-01, 2.21183144e-01, 8.33133888e-06, 1.21601678e-07,\n",
       "        3.49416368e-09, 1.66397604e-06],\n",
       "       [3.86691797e-12, 3.20219191e-07, 9.99999676e-01, 5.20264150e-11,\n",
       "        8.77502628e-12, 3.28055428e-09],\n",
       "       [7.63981641e-01, 2.64980988e-07, 4.64462371e-02, 3.41604452e-09,\n",
       "        1.89571591e-01, 2.63064385e-07],\n",
       "       [1.36973749e-08, 4.81936801e-08, 4.36555723e-08, 2.98305934e-01,\n",
       "        7.01693918e-01, 4.17001121e-08],\n",
       "       [7.79416723e-01, 1.21971230e-07, 2.20582612e-01, 3.48713331e-07,\n",
       "        1.38584792e-08, 1.80791455e-07],\n",
       "       [3.53678419e-01, 9.73035421e-09, 8.60188569e-09, 6.40670373e-05,\n",
       "        6.46257488e-01, 7.94940469e-09],\n",
       "       [2.16546326e-09, 2.30191567e-09, 1.17324175e-08, 2.98306033e-01,\n",
       "        7.01693948e-01, 2.47518093e-09],\n",
       "       [7.47156755e-01, 2.02051676e-09, 4.08586490e-09, 7.07930165e-03,\n",
       "        2.45763935e-01, 1.36754768e-09],\n",
       "       [7.79416159e-01, 7.34564998e-06, 2.20551240e-01, 1.53073030e-07,\n",
       "        1.72660783e-08, 2.50856656e-05],\n",
       "       [2.07312499e-10, 9.63807569e-09, 1.62455001e-08, 9.99999963e-01,\n",
       "        4.07585231e-10, 1.04421782e-08],\n",
       "       [1.55835313e-01, 4.09423143e-06, 5.44025640e-08, 2.95965234e-08,\n",
       "        6.97898076e-01, 1.46262432e-01],\n",
       "       [6.46731007e-08, 1.90370109e-06, 6.68193760e-06, 9.33649577e-07,\n",
       "        7.04975250e-01, 2.95015166e-01],\n",
       "       [7.44060408e-01, 3.09806280e-08, 8.70085814e-09, 4.15852426e-08,\n",
       "        2.55939472e-01, 3.79560862e-08],\n",
       "       [2.83709846e-01, 3.66869861e-09, 7.78332591e-09, 4.49999045e-10,\n",
       "        6.70571557e-01, 4.57185848e-02],\n",
       "       [2.70898249e-01, 7.96816220e-07, 4.39938455e-07, 1.06359290e-08,\n",
       "        6.74263796e-01, 5.48367077e-02],\n",
       "       [8.14909069e-09, 5.06810729e-07, 5.43634219e-07, 6.08581673e-07,\n",
       "        7.04975356e-01, 2.95022977e-01],\n",
       "       [1.69181339e-09, 2.28304527e-09, 2.42337960e-09, 9.99999990e-01,\n",
       "        1.98351585e-09, 1.59069416e-09],\n",
       "       [7.55736675e-01, 6.20093335e-06, 1.13667793e-06, 2.44254264e-01,\n",
       "        6.74502585e-08, 1.65629548e-06],\n",
       "       [1.58429799e-08, 3.00025782e-01, 2.40760141e-06, 4.57916466e-06,\n",
       "        6.99966345e-01, 8.70657284e-07],\n",
       "       [1.67311796e-09, 6.95292392e-08, 2.85814537e-08, 3.32523668e-09,\n",
       "        4.05446468e-08, 9.99999856e-01],\n",
       "       [7.73740281e-01, 1.70381627e-07, 8.79781227e-08, 1.89461372e-07,\n",
       "        7.70912908e-10, 2.26259270e-01],\n",
       "       [2.54383084e-07, 3.52959724e-07, 2.09387660e-07, 2.98304654e-01,\n",
       "        7.01693984e-01, 5.45219273e-07],\n",
       "       [7.73740308e-01, 6.14445779e-07, 3.60860628e-07, 1.04811069e-07,\n",
       "        2.87120017e-08, 2.26258584e-01],\n",
       "       [8.75061610e-09, 1.00627842e-06, 8.11741868e-07, 6.50804470e-08,\n",
       "        7.04975350e-01, 2.95022758e-01],\n",
       "       [2.91455942e-10, 2.95078678e-09, 5.23493762e-09, 9.99999988e-01,\n",
       "        8.27726717e-11, 3.43515428e-09],\n",
       "       [7.44054316e-01, 1.35295124e-07, 2.20157447e-07, 4.23981604e-08,\n",
       "        2.55945150e-01, 1.36706542e-07],\n",
       "       [3.31508718e-10, 9.70196648e-09, 2.99122358e-01, 4.93808902e-07,\n",
       "        7.00877136e-01, 1.86143940e-09],\n",
       "       [1.05786141e-11, 9.99999143e-01, 1.86291555e-07, 1.69736774e-10,\n",
       "        1.03076119e-11, 6.70225579e-07],\n",
       "       [7.78806961e-01, 2.21190190e-01, 4.91149633e-09, 1.21957075e-08,\n",
       "        2.82390104e-06, 7.44660286e-09],\n",
       "       [2.63285767e-11, 1.01230257e-07, 1.10996536e-09, 9.99999861e-01,\n",
       "        3.11786464e-11, 3.65286911e-08],\n",
       "       [2.18316327e-10, 1.03356265e-08, 2.99122735e-01, 7.18199928e-10,\n",
       "        7.00877251e-01, 3.15093467e-09],\n",
       "       [1.04347967e-01, 1.86017644e-09, 2.36952279e-09, 1.94277263e-01,\n",
       "        7.01374763e-01, 2.32650775e-09],\n",
       "       [1.69430658e-10, 1.09772184e-05, 1.36573476e-07, 2.98294769e-01,\n",
       "        7.01694115e-01, 1.94727417e-09],\n",
       "       [7.73740205e-01, 1.83607115e-06, 8.36675931e-07, 3.67125586e-08,\n",
       "        1.62775480e-08, 2.26257069e-01],\n",
       "       [2.61192537e-07, 6.83490926e-08, 6.98036171e-08, 9.99999524e-01,\n",
       "        1.64952265e-08, 5.99481688e-08],\n",
       "       [8.44935058e-02, 1.41733253e-07, 4.10456643e-07, 1.34192738e-09,\n",
       "        7.04544992e-01, 2.10960948e-01],\n",
       "       [3.53783754e-01, 1.68060195e-08, 1.68893881e-08, 9.68577085e-09,\n",
       "        6.46216184e-01, 1.87874665e-08],\n",
       "       [5.99128829e-12, 6.59947963e-08, 3.71402281e-09, 3.57824050e-11,\n",
       "        3.55047754e-12, 9.99999930e-01],\n",
       "       [7.55735793e-01, 5.50780664e-07, 9.80166142e-07, 2.44262162e-01,\n",
       "        3.65137196e-09, 5.09896227e-07],\n",
       "       [5.21133345e-08, 1.45142045e-08, 9.39537826e-09, 9.99999908e-01,\n",
       "        5.01907193e-09, 1.13670636e-08],\n",
       "       [2.30504584e-08, 2.25509342e-09, 3.15209044e-09, 9.99999966e-01,\n",
       "        2.21436915e-09, 3.33634970e-09]])"
      ]
     },
     "execution_count": 25,
     "metadata": {},
     "output_type": "execute_result"
    }
   ],
   "source": [
    "out"
   ]
  },
  {
   "cell_type": "markdown",
   "metadata": {},
   "source": [
    "Sanity check: \n",
    "\n",
    "1. Does each row sum to 1? Yes! Or at least, up to a tolerance, since there will be small floating point errors."
   ]
  },
  {
   "cell_type": "code",
   "execution_count": 26,
   "metadata": {},
   "outputs": [
    {
     "name": "stdout",
     "output_type": "stream",
     "text": [
      "[1. 1. 1. 1. 1. 1. 1. 1. 1. 1. 1. 1. 1. 1. 1. 1. 1. 1. 1. 1. 1. 1. 1. 1.\n",
      " 1. 1. 1. 1. 1. 1. 1. 1. 1. 1. 1. 1. 1. 1. 1. 1. 1. 1. 1. 1. 1. 1. 1. 1.\n",
      " 1. 1.]\n",
      "Violations:  0\n"
     ]
    }
   ],
   "source": [
    "tolerance = 1e-3\n",
    "\n",
    "print(np.sum(out, axis=1))\n",
    "print(\"Violations: \", n-sum((np.isclose(np.sum(out, axis=1), np.ones(50), atol=tolerance))))"
   ]
  },
  {
   "cell_type": "markdown",
   "metadata": {},
   "source": [
    "2. Is each constraint bounded by 0 and 1?"
   ]
  },
  {
   "cell_type": "code",
   "execution_count": 27,
   "metadata": {},
   "outputs": [
    {
     "name": "stdout",
     "output_type": "stream",
     "text": [
      "Number of allocations greater than 1: 0\n",
      "Number of allocations less than 0: 0\n"
     ]
    }
   ],
   "source": [
    "print(f\"Number of allocations greater than 1: {np.sum(out - tolerance > 1)}\")\n",
    "print(f\"Number of allocations less than 0: {np.sum(out+tolerance < 0)}\")"
   ]
  },
  {
   "cell_type": "markdown",
   "metadata": {},
   "source": [
    "3. Are the variance conditions being approx satisfied? I wrote yes here before but it seems like no?"
   ]
  },
  {
   "cell_type": "code",
   "execution_count": 28,
   "metadata": {},
   "outputs": [
    {
     "name": "stdout",
     "output_type": "stream",
     "text": [
      "Max violation: 0.5\n",
      "Number of variance constraints which violate the max allowed variance: 0\n"
     ]
    }
   ],
   "source": [
    "cov = empirical_covariance(ys, assume_centered=False)\n",
    "\n",
    "viol = np.zeros(len(out))\n",
    "for i in range(len(out)):\n",
    "    viol[i] = np.matmul(np.matmul(out[i], cov), np.transpose(out[i]))\n",
    "\n",
    "print(f\"Max violation: {alpha}\")\n",
    "print(f\"Number of variance constraints which violate the max allowed variance: {sum(viol > alpha+0.1)}\")"
   ]
  },
  {
   "cell_type": "markdown",
   "metadata": {},
   "source": [
    "3. Is the covariance matrix actually measuring the correct thing? A sanity check that the diagonal of the matrix is equal to empirical variance.\n"
   ]
  },
  {
   "cell_type": "code",
   "execution_count": 29,
   "metadata": {},
   "outputs": [
    {
     "name": "stdout",
     "output_type": "stream",
     "text": [
      "Variances of each coordinate of the ys: \n",
      " [0.82798883 0.00104122 0.00179195 0.10912913 1.02202326 0.00313415]\n",
      "Diagonal of the covariance matrix: \n",
      " [0.82798883 0.00104122 0.00179195 0.10912913 1.02202326 0.00313415]\n"
     ]
    }
   ],
   "source": [
    "print(f\"Variances of each coordinate of the ys: \\n {np.var(ys, axis=0)}\")\n",
    "\n",
    "print(f\"Diagonal of the covariance matrix: \\n {np.diagonal(cov)}\")"
   ]
  },
  {
   "cell_type": "markdown",
   "metadata": {},
   "source": [
    "4. Are all the constraints convex and are things feasible?\n",
    "\n",
    "If C is positive semi-definite, then xCx^T <= val is a convex constraint on R^n. Maybe something went wrong in calculation of C? \n",
    "\n",
    "If the eigenvalues of C are positive, then C must be positive semi-definite. Here we see this is the case:"
   ]
  },
  {
   "cell_type": "code",
   "execution_count": 30,
   "metadata": {},
   "outputs": [
    {
     "data": {
      "text/plain": [
       "array([ True,  True,  True,  True,  True,  True])"
      ]
     },
     "execution_count": 30,
     "metadata": {},
     "output_type": "execute_result"
    }
   ],
   "source": [
    "np.linalg.eigvals(cov) > 0"
   ]
  },
  {
   "cell_type": "markdown",
   "metadata": {},
   "source": [
    "If the only constraint was covariance, xCx^T will be bounded by the eigenvalues of covariance matrix, so this is a good spot check for how feasible things are"
   ]
  },
  {
   "cell_type": "code",
   "execution_count": 31,
   "metadata": {},
   "outputs": [
    {
     "data": {
      "text/plain": [
       "array([1.04541420e+00, 8.10321387e-01, 1.04229047e-01, 2.73097313e-03,\n",
       "       8.41962782e-04, 1.57097101e-03])"
      ]
     },
     "execution_count": 31,
     "metadata": {},
     "output_type": "execute_result"
    }
   ],
   "source": [
    "np.linalg.eigvals(cov)"
   ]
  },
  {
   "cell_type": "markdown",
   "metadata": {},
   "source": [
    "# Linear Constraint Policy Testing"
   ]
  },
  {
   "cell_type": "code",
   "execution_count": 10,
   "metadata": {},
   "outputs": [],
   "source": [
    "importlib.reload(policies)\n",
    "\n",
    "n = 50\n",
    "n_features = 6\n",
    "pred_dim = 6\n",
    "\n",
    "np.random.seed(30)\n",
    "\n",
    "# Gaussian xs, with true labels having a different linear relationship with xs in each coordinate\n",
    "xs = np.random.normal(size=(n, n_features))\n",
    "slopes = np.random.uniform(size = n_features)\n",
    "ys = np.multiply(xs, slopes)\n",
    "\n",
    "def meta_model(coord, slopes):\n",
    "    def model(xs):\n",
    "        preds = np.random.normal(size=(n, pred_dim))\n",
    "        true_ys = np.multiply(xs, slopes)\n",
    "        preds[:,coord] = true_ys[:,coord]\n",
    "        return preds\n",
    "    return model\n",
    "\n",
    "model = meta_model(0, slopes)\n",
    "\n",
    "linear_constraint = np.array([[1,1,1,0,0,0], [0,0,1,1,0,0]])\n",
    "max_val = np.array([0.5,0.2])\n",
    "gran = 0.1\n",
    "\n",
    "policy = policies.Linear(pred_dim, model, gran, linear_constraint, max_val)\n",
    "out = policy.run_given_preds(ys);"
   ]
  },
  {
   "cell_type": "code",
   "execution_count": 11,
   "metadata": {},
   "outputs": [
    {
     "data": {
      "text/plain": [
       "array([ True,  True,  True,  True,  True,  True,  True,  True,  True,\n",
       "        True,  True,  True,  True,  True,  True,  True,  True,  True,\n",
       "        True,  True,  True,  True,  True,  True,  True,  True,  True,\n",
       "        True,  True,  True,  True,  True,  True,  True,  True,  True,\n",
       "        True,  True,  True,  True,  True,  True,  True,  True,  True,\n",
       "        True,  True,  True,  True,  True])"
      ]
     },
     "execution_count": 11,
     "metadata": {},
     "output_type": "execute_result"
    }
   ],
   "source": [
    "np.sum(np.multiply(out, linear_constraint[0])[:,[0,1,2]], axis=1) <= max_val[0]"
   ]
  },
  {
   "cell_type": "code",
   "execution_count": 12,
   "metadata": {},
   "outputs": [
    {
     "data": {
      "text/plain": [
       "array([ True,  True,  True,  True,  True,  True,  True,  True,  True,\n",
       "        True,  True,  True,  True,  True,  True,  True,  True,  True,\n",
       "        True,  True,  True,  True,  True,  True,  True,  True,  True,\n",
       "        True,  True,  True,  True,  True,  True,  True,  True,  True,\n",
       "        True,  True,  True,  True,  True,  True,  True,  True,  True,\n",
       "        True,  True,  True,  True,  True])"
      ]
     },
     "execution_count": 12,
     "metadata": {},
     "output_type": "execute_result"
    }
   ],
   "source": [
    "np.sum(np.multiply(out, linear_constraint[0])[:,[2,3]], axis=1) <= max_val[1]"
   ]
  },
  {
   "cell_type": "code",
   "execution_count": 8,
   "metadata": {},
   "outputs": [
    {
     "data": {
      "text/plain": [
       "array([0, 0, 1, 1, 0, 0])"
      ]
     },
     "execution_count": 8,
     "metadata": {},
     "output_type": "execute_result"
    }
   ],
   "source": [
    "linear_constraint[1]"
   ]
  },
  {
   "cell_type": "code",
   "execution_count": null,
   "metadata": {},
   "outputs": [],
   "source": []
  }
 ],
 "metadata": {
  "kernelspec": {
   "display_name": "bb-portfolio",
   "language": "python",
   "name": "python3"
  },
  "language_info": {
   "codemirror_mode": {
    "name": "ipython",
    "version": 3
   },
   "file_extension": ".py",
   "mimetype": "text/x-python",
   "name": "python",
   "nbconvert_exporter": "python",
   "pygments_lexer": "ipython3",
   "version": "3.12.1"
  }
 },
 "nbformat": 4,
 "nbformat_minor": 2
}
