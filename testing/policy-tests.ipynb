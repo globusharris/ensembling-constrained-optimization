{
 "cells": [
  {
   "cell_type": "code",
   "execution_count": 119,
   "metadata": {},
   "outputs": [
    {
     "data": {
      "text/plain": [
       "<module 'policies' from '/Users/ira/Desktop/BB-portfolios/optimized-ensembling/testing/../src/policies.py'>"
      ]
     },
     "execution_count": 119,
     "metadata": {},
     "output_type": "execute_result"
    }
   ],
   "source": [
    "import sys\n",
    "sys.path.append('../src')\n",
    "\n",
    "import importlib\n",
    "import numpy as np\n",
    "from sklearn.covariance import empirical_covariance\n",
    "\n",
    "import policies\n",
    "importlib.reload(policies)"
   ]
  },
  {
   "cell_type": "markdown",
   "metadata": {},
   "source": [
    "# Variance Constrained Policy Testing"
   ]
  },
  {
   "cell_type": "code",
   "execution_count": 120,
   "metadata": {},
   "outputs": [],
   "source": [
    "n = 50\n",
    "n_features = 6\n",
    "pred_dim = 6\n",
    "\n",
    "np.random.seed(30)\n",
    "\n",
    "# Gaussian xs, with true labels having a different linear relationship with xs in each coordinate\n",
    "xs = np.random.normal(size=(n, n_features))\n",
    "slopes = np.random.uniform(size = n_features)\n",
    "ys = np.multiply(xs, slopes)\n",
    "\n",
    "def meta_model(coord, slopes):\n",
    "    def model(xs):\n",
    "        preds = np.random.normal(size=(n, pred_dim))\n",
    "        true_ys = np.multiply(xs, slopes)\n",
    "        preds[:,coord] = true_ys[:,coord]\n",
    "        return preds\n",
    "    return model\n",
    "\n",
    "model = meta_model(0, slopes)\n",
    "\n",
    "alpha = 0.5\n",
    "policy = policies.VarianceConstrained(pred_dim, model, 0.1, alpha, ys)\n",
    "out = policy.run_given_preds(ys)"
   ]
  },
  {
   "cell_type": "code",
   "execution_count": 121,
   "metadata": {},
   "outputs": [
    {
     "data": {
      "text/plain": [
       "array([[ 2.00000000e+00, -2.66666667e+01,  3.43333333e+01,\n",
       "        -2.66666667e+00,  3.33333333e-01, -6.33333333e+00],\n",
       "       [-3.93700787e-02,  6.37795276e-01,  1.18110236e-01,\n",
       "        -3.93700787e-02,  3.14960630e-02,  2.91338583e-01],\n",
       "       [-4.59770115e-02, -1.17241379e+00,  1.17241379e+00,\n",
       "         1.03448276e-01,  1.14942529e-02,  9.31034483e-01],\n",
       "       [-2.66666667e-01, -4.66666667e-01, -9.00000000e-01,\n",
       "         3.33333333e-02, -3.33333333e-02,  2.63333333e+00],\n",
       "       [-5.55555556e-02,  9.66666667e-01,  6.22222222e-01,\n",
       "        -3.33333333e-02,  1.11111111e-02, -5.11111111e-01],\n",
       "       [ 2.51572327e-02,  7.73584906e-01, -1.63522013e-01,\n",
       "         6.91823899e-02,  2.51572327e-02,  2.70440252e-01],\n",
       "       [-5.31914894e-03,  7.65957447e-01,  2.76595745e-01,\n",
       "        -3.19148936e-02, -1.06382979e-02,  5.31914894e-03],\n",
       "       [ 0.00000000e+00,  8.97058824e-01, -4.41176471e-02,\n",
       "         7.35294118e-02,  3.67647059e-02,  3.67647059e-02],\n",
       "       [ 1.18343195e-02,  7.81065089e-01, -9.46745562e-02,\n",
       "        -4.14201183e-02, -0.00000000e+00,  3.43195266e-01],\n",
       "       [ 4.91803279e-02,  1.29508197e+00,  3.36065574e-01,\n",
       "        -9.01639344e-02, -3.27868852e-02, -5.57377049e-01],\n",
       "       [ 1.96850394e-02,  3.93700787e-01,  2.91338583e-01,\n",
       "         3.14960630e-02,  1.96850394e-02,  2.44094488e-01],\n",
       "       [-2.46913580e-02,  7.71604938e-01, -9.25925926e-02,\n",
       "         6.79012346e-02,  6.17283951e-03,  2.71604938e-01],\n",
       "       [ 2.81690141e-02,  3.52112676e-01,  6.19718310e-01,\n",
       "        -1.69014085e-01, -7.04225352e-02,  2.39436620e-01],\n",
       "       [ 3.66300366e-03,  7.50915751e-01,  9.52380952e-02,\n",
       "         1.46520147e-02,  7.32600733e-03,  1.28205128e-01],\n",
       "       [-5.40540541e-03, -1.08108108e-02,  5.51351351e-01,\n",
       "        -3.24324324e-02, -0.00000000e+00,  4.97297297e-01],\n",
       "       [-1.29870130e-02, -7.01298701e-01,  1.67532468e+00,\n",
       "         9.09090909e-02,  3.89610390e-02, -9.09090909e-02],\n",
       "       [ 7.86516854e-02,  5.16853933e-01,  8.53932584e-01,\n",
       "         1.12359551e-02,  2.24719101e-02, -4.83146067e-01],\n",
       "       [ 4.12371134e-02, -5.15463918e-02,  1.04123711e+00,\n",
       "        -1.64948454e-01, -2.06185567e-02,  1.54639175e-01],\n",
       "       [-1.80995475e-02,  2.80542986e-01,  4.07239819e-01,\n",
       "         4.97737557e-02,  0.00000000e+00,  2.80542986e-01],\n",
       "       [-1.66666667e-01, -6.33333333e+00,  9.50000000e+00,\n",
       "         5.00000000e-01, -1.00000000e+00, -1.50000000e+00],\n",
       "       [-3.33333333e-01, -9.86666667e+00,  4.40000000e+00,\n",
       "        -1.33333333e-01,  2.00000000e-01,  6.73333333e+00],\n",
       "       [-0.00000000e+00, -1.23595506e-01,  1.61797753e+00,\n",
       "        -5.61797753e-02, -1.12359551e-02, -4.26966292e-01],\n",
       "       [ 3.44827586e-02, -7.41379310e-01,  9.48275862e-01,\n",
       "        -1.89655172e-01,  8.62068966e-02,  8.62068966e-01],\n",
       "       [-2.94117647e-02, -8.82352941e-02,  1.88235294e+00,\n",
       "         4.41176471e-01, -5.88235294e-02, -1.14705882e+00],\n",
       "       [ 1.36363636e-01,  3.02272727e+00,  5.68181818e-01,\n",
       "        -6.81818182e-02, -9.09090909e-02, -2.56818182e+00],\n",
       "       [-4.00000000e-01, -3.60000000e+00, -7.00000000e-01,\n",
       "         1.90000000e+00, -2.00000000e-01,  4.00000000e+00],\n",
       "       [ 1.43540670e-02,  1.03349282e+00,  8.13397129e-02,\n",
       "         1.43540670e-02, -9.56937799e-03, -1.33971292e-01],\n",
       "       [ 1.76991150e-02,  2.65486726e-02,  5.57522124e-01,\n",
       "         8.84955752e-03, -3.53982301e-02,  4.24778761e-01],\n",
       "       [-5.45454545e-02,  1.63636364e-01, -8.36363636e-01,\n",
       "        -1.63636364e-01,  1.81818182e-02,  1.87272727e+00],\n",
       "       [-1.66666667e-01,  1.50000000e+00, -1.01666667e+01,\n",
       "         0.00000000e+00, -8.33333333e-01,  1.06666667e+01],\n",
       "       [ 9.09090909e-02,  2.72727273e-01,  1.90909091e+00,\n",
       "        -2.72727273e-01, -2.72727273e-01, -7.27272727e-01],\n",
       "       [-4.91803279e-02,  1.04918033e+00,  1.08196721e+00,\n",
       "         1.63934426e-02,  1.63934426e-02, -1.11475410e+00],\n",
       "       [ 4.85436893e-02,  7.86407767e-01,  7.66990291e-01,\n",
       "         7.76699029e-02, -2.91262136e-02, -6.50485437e-01],\n",
       "       [-2.18579235e-02,  6.55737705e-02,  5.95628415e-01,\n",
       "         4.37158470e-02, -1.09289617e-02,  3.27868852e-01],\n",
       "       [-1.03626943e-02,  8.60103627e-01, -1.08808290e-01,\n",
       "         5.18134715e-02, -0.00000000e+00,  2.07253886e-01],\n",
       "       [-7.69230769e-02,  2.03846154e+00,  1.69230769e+00,\n",
       "         0.00000000e+00,  1.15384615e-01, -2.76923077e+00],\n",
       "       [-3.17460317e-02,  8.09523810e-01,  1.98412698e-01,\n",
       "        -3.17460317e-02, -3.17460317e-02,  8.73015873e-02],\n",
       "       [-7.63358779e-03, -7.17557252e-01,  1.04580153e+00,\n",
       "         1.52671756e-02,  2.29007634e-02,  6.41221374e-01],\n",
       "       [ 2.25563910e-02,  3.12030075e-01,  5.97744361e-01,\n",
       "        -3.75939850e-03,  1.12781955e-02,  6.01503759e-02],\n",
       "       [-1.15384615e-01,  7.30769231e-01,  2.84615385e+00,\n",
       "        -4.61538462e-01,  0.00000000e+00, -2.00000000e+00],\n",
       "       [ 2.70270270e-02,  3.67567568e+00, -8.37837838e-01,\n",
       "        -1.62162162e-01, -1.62162162e-01, -1.54054054e+00],\n",
       "       [ 2.54237288e-02, -2.37288136e-01,  3.81355932e-01,\n",
       "        -8.47457627e-03, -8.47457627e-03,  8.47457627e-01],\n",
       "       [-5.88235294e-02,  4.50980392e-01,  1.05882353e+00,\n",
       "         2.74509804e-01,  3.92156863e-02, -7.64705882e-01],\n",
       "       [ 0.00000000e+00, -7.44186047e-01,  5.58139535e-01,\n",
       "         4.65116279e-01, -2.32558140e-02,  7.44186047e-01],\n",
       "       [ 4.01606426e-03,  1.36546185e-01,  4.69879518e-01,\n",
       "        -2.00803213e-02,  1.60642570e-02,  3.93574297e-01],\n",
       "       [ 7.46268657e-02,  1.94029851e+00,  6.56716418e-01,\n",
       "        -1.49253731e-01,  1.49253731e-02, -1.53731343e+00],\n",
       "       [ 2.53164557e-02,  4.38818565e-01,  4.59915612e-01,\n",
       "         2.53164557e-02,  2.10970464e-02,  2.95358650e-02],\n",
       "       [ 1.06382979e-01, -5.10638298e-01,  1.89361702e+00,\n",
       "         1.27659574e-01, -4.25531915e-02, -5.74468085e-01],\n",
       "       [-1.92307692e-02,  2.28846154e+00, -1.38461538e+00,\n",
       "         3.07692308e-01, -1.92307692e-02, -1.73076923e-01],\n",
       "       [ 2.30769231e-01,  1.18461538e+01, -3.00000000e+00,\n",
       "        -1.00000000e+00, -7.69230769e-02, -7.00000000e+00]])"
      ]
     },
     "execution_count": 121,
     "metadata": {},
     "output_type": "execute_result"
    }
   ],
   "source": [
    "out"
   ]
  },
  {
   "cell_type": "markdown",
   "metadata": {},
   "source": [
    "Sanity check: \n",
    "\n",
    "1. Does each row sum to 1? Yes! Or at least, up to a tolerance, since there will be small floating point errors."
   ]
  },
  {
   "cell_type": "code",
   "execution_count": 122,
   "metadata": {},
   "outputs": [
    {
     "name": "stdout",
     "output_type": "stream",
     "text": [
      "[1. 1. 1. 1. 1. 1. 1. 1. 1. 1. 1. 1. 1. 1. 1. 1. 1. 1. 1. 1. 1. 1. 1. 1.\n",
      " 1. 1. 1. 1. 1. 1. 1. 1. 1. 1. 1. 1. 1. 1. 1. 1. 1. 1. 1. 1. 1. 1. 1. 1.\n",
      " 1. 1.]\n",
      "Violations:  0\n"
     ]
    }
   ],
   "source": [
    "tolerance = 1e-2\n",
    "\n",
    "print(np.sum(out, axis=1))\n",
    "print(\"Violations: \", n-sum((np.isclose(np.sum(out, axis=1), np.ones(50), atol=tolerance))))"
   ]
  },
  {
   "cell_type": "markdown",
   "metadata": {},
   "source": [
    "2. Is each constraint bounded by 0 and 1?"
   ]
  },
  {
   "cell_type": "code",
   "execution_count": 123,
   "metadata": {},
   "outputs": [
    {
     "name": "stdout",
     "output_type": "stream",
     "text": [
      "Number of allocations greater than 1: 32\n",
      "Number of allocations less than 0: 119\n"
     ]
    }
   ],
   "source": [
    "print(f\"Number of allocations greater than 1: {np.sum(out > 1)}\")\n",
    "print(f\"Number of allocations less than 0: {np.sum(out < 0)}\")"
   ]
  },
  {
   "cell_type": "markdown",
   "metadata": {},
   "source": [
    "3. Are the variance conditions being approx satisfied? I wrote yes here before but it seems like no?"
   ]
  },
  {
   "cell_type": "code",
   "execution_count": 124,
   "metadata": {},
   "outputs": [
    {
     "name": "stdout",
     "output_type": "stream",
     "text": [
      "Max violation: 0.5\n",
      "Number of variance constraints which violate the max allowed variance: 3\n"
     ]
    }
   ],
   "source": [
    "cov = empirical_covariance(ys, assume_centered=False)\n",
    "\n",
    "viol = np.zeros(len(out))\n",
    "for i in range(len(out)):\n",
    "    viol[i] = np.matmul(np.matmul(out[i], cov), np.transpose(out[i]))\n",
    "\n",
    "print(f\"Max violation: {alpha}\")\n",
    "print(f\"Number of variance constraints which violate the max allowed variance: {sum(viol > alpha+0.1)}\")"
   ]
  },
  {
   "cell_type": "code",
   "execution_count": 125,
   "metadata": {},
   "outputs": [
    {
     "data": {
      "text/plain": [
       "array([5.90277217e+00, 3.45375229e-03, 6.52381936e-03, 6.20591131e-02,\n",
       "       7.33311250e-03, 2.32557623e-03, 1.12167752e-03, 2.39094049e-03,\n",
       "       1.64164384e-03, 3.62638985e-03, 9.01418019e-04, 1.72940982e-03,\n",
       "       9.83451594e-03, 6.74652724e-04, 1.32391550e-03, 8.47784902e-03,\n",
       "       5.34736714e-03, 5.50606872e-03, 1.05763037e-03, 1.36306857e+00,\n",
       "       2.38895244e-01, 6.03575267e-03, 1.30669188e-02, 4.07206275e-02,\n",
       "       2.64042382e-02, 4.95406780e-01, 1.10866891e-03, 3.43341354e-03,\n",
       "       1.77089529e-02, 1.54385357e+00, 8.74903684e-02, 1.24683626e-02,\n",
       "       4.84222391e-03, 1.74230498e-03, 1.35275432e-03, 6.98323751e-02,\n",
       "       3.38975614e-03, 2.91195247e-03, 8.02566323e-04, 7.77480595e-02,\n",
       "       3.61118861e-02, 3.57101361e-03, 1.88513976e-02, 2.73846574e-02,\n",
       "       8.15617250e-04, 1.06935202e-02, 1.05440427e-03, 2.05008741e-02,\n",
       "       1.82680649e-02, 2.87008289e-01])"
      ]
     },
     "execution_count": 125,
     "metadata": {},
     "output_type": "execute_result"
    }
   ],
   "source": [
    "viol = np.zeros(len(out))\n",
    "for i in range(len(out)):\n",
    "    viol[i] = np.matmul(np.matmul(out[i], cov), np.transpose(out[i]))\n",
    "viol"
   ]
  },
  {
   "cell_type": "markdown",
   "metadata": {},
   "source": [
    "3. Is the covariance matrix actually measuring the correct thing? A sanity check that the diagonal of the matrix is equal to empirical variance.\n"
   ]
  },
  {
   "cell_type": "code",
   "execution_count": 113,
   "metadata": {},
   "outputs": [
    {
     "name": "stdout",
     "output_type": "stream",
     "text": [
      "Variances of each coordinate of the ys: \n",
      " [0.82798883 0.00104122 0.00179195 0.10912913 1.02202326 0.00313415]\n",
      "Diagonal of the covariance matrix: \n",
      " [0.82798883 0.00104122 0.00179195 0.10912913 1.02202326 0.00313415]\n"
     ]
    }
   ],
   "source": [
    "print(f\"Variances of each coordinate of the ys: \\n {np.var(ys, axis=0)}\")\n",
    "\n",
    "print(f\"Diagonal of the covariance matrix: \\n {np.diagonal(cov)}\")"
   ]
  },
  {
   "cell_type": "markdown",
   "metadata": {},
   "source": [
    "4. Are all the constraints convex?\n",
    "\n",
    "If C is positive semi-definite, then xCx^T <= val is a convex constraint on R^n. Maybe something went wrong in calculation of C? \n",
    "\n",
    "If the eigenvalues of C are positive, then C must be positive semi-definite. Here we see this is the case:"
   ]
  },
  {
   "cell_type": "code",
   "execution_count": 118,
   "metadata": {},
   "outputs": [
    {
     "data": {
      "text/plain": [
       "array([ True,  True,  True,  True,  True,  True])"
      ]
     },
     "execution_count": 118,
     "metadata": {},
     "output_type": "execute_result"
    }
   ],
   "source": [
    "np.linalg.eigvals(cov) > 0"
   ]
  },
  {
   "cell_type": "code",
   "execution_count": null,
   "metadata": {},
   "outputs": [],
   "source": []
  }
 ],
 "metadata": {
  "kernelspec": {
   "display_name": "bb-portfolio",
   "language": "python",
   "name": "python3"
  },
  "language_info": {
   "codemirror_mode": {
    "name": "ipython",
    "version": 3
   },
   "file_extension": ".py",
   "mimetype": "text/x-python",
   "name": "python",
   "nbconvert_exporter": "python",
   "pygments_lexer": "ipython3",
   "version": "3.12.1"
  }
 },
 "nbformat": 4,
 "nbformat_minor": 2
}
