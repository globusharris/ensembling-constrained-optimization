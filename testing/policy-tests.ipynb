{
 "cells": [
  {
   "cell_type": "code",
   "execution_count": 119,
   "metadata": {},
   "outputs": [
    {
     "data": {
      "text/plain": [
       "<module 'policies' from '/Users/ira/Desktop/BB-portfolios/optimized-ensembling/testing/../src/policies.py'>"
      ]
     },
     "execution_count": 119,
     "metadata": {},
     "output_type": "execute_result"
    }
   ],
   "source": [
    "import sys\n",
    "sys.path.append('../src')\n",
    "\n",
    "import importlib\n",
    "import numpy as np\n",
    "from sklearn.covariance import empirical_covariance\n",
    "\n",
    "import policies\n",
    "importlib.reload(policies)"
   ]
  },
  {
   "cell_type": "markdown",
   "metadata": {},
   "source": [
    "# Variance Constrained Policy Testing"
   ]
  },
  {
   "cell_type": "code",
   "execution_count": 142,
   "metadata": {},
   "outputs": [
    {
     "name": "stdout",
     "output_type": "stream",
     "text": [
      "Solver status: optimal\n",
      "Solver status: optimal\n",
      "Solver status: optimal\n",
      "Solver status: optimal\n",
      "Solver status: optimal\n",
      "Solver status: optimal\n",
      "Solver status: optimal\n",
      "Solver status: optimal\n",
      "Solver status: optimal\n",
      "Solver status: optimal\n",
      "Solver status: optimal\n",
      "Solver status: optimal\n",
      "Solver status: optimal\n",
      "Solver status: optimal\n",
      "Solver status: optimal\n",
      "Solver status: optimal\n",
      "Solver status: optimal\n",
      "Solver status: optimal\n",
      "Solver status: optimal\n",
      "Solver status: optimal\n",
      "Solver status: optimal\n",
      "Solver status: optimal\n",
      "Solver status: optimal\n",
      "Solver status: optimal\n",
      "Solver status: optimal\n",
      "Solver status: optimal\n",
      "Solver status: optimal\n",
      "Solver status: optimal\n",
      "Solver status: optimal\n",
      "Solver status: optimal\n",
      "Solver status: optimal\n",
      "Solver status: optimal\n",
      "Solver status: optimal\n",
      "Solver status: optimal\n",
      "Solver status: optimal\n",
      "Solver status: optimal\n",
      "Solver status: optimal\n",
      "Solver status: optimal\n",
      "Solver status: optimal\n",
      "Solver status: optimal\n",
      "Solver status: optimal\n",
      "Solver status: optimal\n",
      "Solver status: optimal\n",
      "Solver status: optimal\n",
      "Solver status: optimal\n",
      "Solver status: optimal\n",
      "Solver status: optimal\n",
      "Solver status: optimal\n",
      "Solver status: optimal\n",
      "Solver status: optimal\n"
     ]
    }
   ],
   "source": [
    "importlib.reload(policies)\n",
    "\n",
    "n = 50\n",
    "n_features = 6\n",
    "pred_dim = 6\n",
    "\n",
    "np.random.seed(30)\n",
    "\n",
    "# Gaussian xs, with true labels having a different linear relationship with xs in each coordinate\n",
    "xs = np.random.normal(size=(n, n_features))\n",
    "slopes = np.random.uniform(size = n_features)\n",
    "ys = np.multiply(xs, slopes)\n",
    "\n",
    "def meta_model(coord, slopes):\n",
    "    def model(xs):\n",
    "        preds = np.random.normal(size=(n, pred_dim))\n",
    "        true_ys = np.multiply(xs, slopes)\n",
    "        preds[:,coord] = true_ys[:,coord]\n",
    "        return preds\n",
    "    return model\n",
    "\n",
    "model = meta_model(0, slopes)\n",
    "\n",
    "alpha = 0.5\n",
    "policy = policies.VarianceConstrained(pred_dim, model, 0.1, alpha, ys)\n",
    "out = policy.run_given_preds(ys)"
   ]
  },
  {
   "cell_type": "code",
   "execution_count": 143,
   "metadata": {},
   "outputs": [
    {
     "data": {
      "text/plain": [
       "array([[-3.56096043e-11,  7.92948256e-12,  5.46953307e-11,\n",
       "         1.00000000e+00,  3.57434830e-11,  3.76119421e-11],\n",
       "       [-1.10052815e-12,  3.00033748e-01,  5.07196620e-11,\n",
       "         5.67460337e-12,  6.99966251e-01,  4.67568846e-11],\n",
       "       [-1.33751588e-11,  1.57964162e-11, -2.41439631e-12,\n",
       "         1.00000000e+00,  2.27760864e-12,  1.15550828e-11],\n",
       "       [-5.50824162e-11,  6.87246943e-10,  6.99209456e-11,\n",
       "         1.83253271e-10,  6.17781419e-11,  9.99999998e-01],\n",
       "       [-7.85965307e-12,  2.62328809e-10,  2.99122747e-01,\n",
       "         3.90756480e-11,  7.00877252e-01,  7.20699841e-11],\n",
       "       [-2.55596373e-11,  3.66679151e-12,  9.99999998e-01,\n",
       "         2.09990877e-11, -6.20617770e-12,  5.16110491e-11],\n",
       "       [ 3.53783837e-01, -3.75538648e-11, -3.70005387e-11,\n",
       "        -2.49109547e-11,  6.46216163e-01, -3.67859080e-11],\n",
       "       [ 4.70903707e-11,  4.57901267e-11,  3.45737673e-11,\n",
       "         2.98306045e-01,  7.01693954e-01,  3.86707159e-11],\n",
       "       [ 3.58888767e-12,  2.48898955e-11,  4.20149831e-11,\n",
       "         2.98306046e-01,  7.01693954e-01,  1.88648949e-11],\n",
       "       [ 7.78806791e-01,  2.21193207e-01,  3.86761397e-10,\n",
       "         8.81859587e-11, -3.00143475e-11,  6.75718113e-10],\n",
       "       [-5.06224191e-11,  6.27782493e-10,  1.70732647e-09,\n",
       "         1.15109103e-10, -1.48817895e-11,  5.26035375e-11],\n",
       "       [ 7.64084250e-01,  8.01217543e-10,  4.67723077e-02,\n",
       "         1.23398443e-10,  1.89143437e-01,  7.92649776e-10],\n",
       "       [ 8.35499397e-12,  1.14822664e-11,  1.10707750e-11,\n",
       "         2.98306046e-01,  7.01693954e-01,  1.06731183e-11],\n",
       "       [ 7.79416879e-01,  4.44941163e-12,  2.20583120e-01,\n",
       "         7.27634742e-12,  6.47427327e-12,  4.84094863e-12],\n",
       "       [ 3.53783835e-01,  1.86740565e-12,  1.36214548e-12,\n",
       "         1.07532630e-10,  6.46216165e-01,  1.07080324e-12],\n",
       "       [ 2.88330112e-11,  7.09771836e-11,  1.46302627e-10,\n",
       "         2.98306045e-01,  7.01693954e-01,  6.51590814e-11],\n",
       "       [ 7.47121581e-01,  1.71896550e-10,  2.53223923e-10,\n",
       "         6.99438901e-03,  2.45884029e-01,  1.25144755e-10],\n",
       "       [ 7.79416879e-01,  3.45231076e-10,  2.20583120e-01,\n",
       "         4.88021524e-12,  9.38754268e-12,  2.04136782e-10],\n",
       "       [-1.53764931e-11,  9.03507052e-12,  1.67607332e-13,\n",
       "         1.00000000e+00, -5.66257531e-13,  6.68031199e-12],\n",
       "       [ 1.55856410e-01,  3.61004903e-09,  2.82943478e-10,\n",
       "         1.40874324e-10,  6.97895296e-01,  1.46248290e-01],\n",
       "       [ 1.36189568e-11,  9.66423917e-10,  8.49336832e-09,\n",
       "         3.30813437e-10,  7.04975406e-01,  2.95024582e-01],\n",
       "       [ 7.44060367e-01,  1.57068934e-11,  6.90738755e-12,\n",
       "         3.31411471e-11,  2.55939633e-01,  1.96975968e-11],\n",
       "       [ 2.83620298e-01,  1.05617307e-09,  2.68272606e-09,\n",
       "         5.99784719e-11,  6.70598168e-01,  4.57815286e-02],\n",
       "       [ 2.70710047e-01,  1.09076961e-09,  4.66683406e-10,\n",
       "         2.99909278e-11,  6.74316403e-01,  5.49735472e-02],\n",
       "       [-1.58814342e-12,  1.20062759e-10,  1.38931454e-10,\n",
       "         1.77245836e-10,  7.04975406e-01,  2.95024593e-01],\n",
       "       [-7.77435427e-12, -9.04639702e-13,  3.63313804e-12,\n",
       "         1.00000000e+00, -7.00109794e-11,  9.35669308e-12],\n",
       "       [ 7.55735820e-01,  1.05897415e-09,  4.59498185e-10,\n",
       "         2.44264177e-01, -1.22401211e-11,  5.47584146e-10],\n",
       "       [ 3.88288238e-10,  1.38778791e-07,  5.22971209e-09,\n",
       "         9.50134184e-09,  6.99446681e-01,  3.65955286e-09],\n",
       "       [ 1.00786711e-11,  1.41425695e-10,  1.20933738e-10,\n",
       "        -2.01096176e-11,  4.73099223e-10,  9.99999999e-01],\n",
       "       [ 7.73740291e-01,  1.65603259e-10,  1.31010824e-10,\n",
       "         1.38892989e-10, -2.18024451e-11,  2.26259708e-01],\n",
       "       [ 3.98876183e-10,  9.55807241e-10,  7.42636031e-10,\n",
       "         2.98306041e-01,  7.01693955e-01,  1.02436340e-09],\n",
       "       [ 7.73740292e-01,  2.25452095e-11,  2.19092207e-10,\n",
       "         3.33771765e-10,  6.20934990e-11,  2.26259707e-01],\n",
       "       [ 1.52016079e-12,  1.34250540e-10,  9.57817913e-11,\n",
       "         9.77756817e-12,  7.04975406e-01,  2.95024593e-01],\n",
       "       [-1.24862605e-11,  4.27163296e-11,  2.69349531e-12,\n",
       "         1.00000000e+00, -1.46187607e-11,  3.02017871e-11],\n",
       "       [ 7.44060367e-01,  4.25623002e-12,  1.08158597e-11,\n",
       "        -4.68688163e-12,  2.55939633e-01,  4.99075055e-12],\n",
       "       [ 7.69527261e-12,  4.65166727e-10,  2.99122746e-01,\n",
       "         1.04586330e-09,  7.00877252e-01,  1.04844168e-10],\n",
       "       [-6.55614488e-13,  1.00000000e+00,  4.65450016e-11,\n",
       "         4.44267967e-12, -6.30053249e-13,  4.28318381e-11],\n",
       "       [ 7.78806791e-01,  2.21193205e-01,  2.11365977e-10,\n",
       "         4.37370219e-10,  2.04463136e-09,  2.93786096e-10],\n",
       "       [-1.79480049e-11,  9.03926192e-10,  3.04786612e-10,\n",
       "         2.42434683e-09,  7.13869602e-11,  8.76828089e-10],\n",
       "       [-7.25198087e-12,  2.88761124e-10,  2.99122747e-01,\n",
       "         1.35921283e-11,  7.00877252e-01,  1.15005991e-10],\n",
       "       [ 1.04495899e-01,  1.74627501e-10,  2.82453067e-10,\n",
       "         1.94138917e-01,  7.01365183e-01,  2.83973628e-10],\n",
       "       [-2.46065565e-11,  6.85491092e-08,  8.50829793e-09,\n",
       "         2.98305952e-01,  7.01693956e-01,  8.89455924e-10],\n",
       "       [ 7.73740292e-01,  5.84297045e-10,  4.48433943e-10,\n",
       "         2.63644940e-11,  1.10815616e-10,  2.26259706e-01],\n",
       "       [ 7.43001401e-11, -1.39678096e-12,  2.07579961e-14,\n",
       "         1.00000000e+00, -1.21155414e-11, -1.39273664e-14],\n",
       "       [ 8.38693155e-02,  2.85398316e-11,  5.84689648e-11,\n",
       "         1.77836858e-12,  7.04577579e-01,  2.11553106e-01],\n",
       "       [ 3.53783835e-01,  3.91241699e-11,  3.81762515e-11,\n",
       "         8.14327505e-12,  6.46216165e-01,  2.27455216e-11],\n",
       "       [-3.59787486e-12,  4.15473821e-10,  1.79506265e-10,\n",
       "         1.91005375e-11, -3.10302079e-12,  9.99998999e-01],\n",
       "       [ 7.55735820e-01,  3.01777928e-10,  4.52764919e-10,\n",
       "         2.44264179e-01,  5.46362741e-11,  2.88732032e-10],\n",
       "       [ 8.22893782e-11, -1.36496795e-11, -2.44627110e-11,\n",
       "         1.00000000e+00, -4.12437671e-11, -1.76972694e-11],\n",
       "       [ 5.96863391e-12, -9.17547721e-13,  2.42707060e-13,\n",
       "         1.00000000e+00,  2.44906959e-13,  5.18736149e-13]])"
      ]
     },
     "execution_count": 143,
     "metadata": {},
     "output_type": "execute_result"
    }
   ],
   "source": [
    "out"
   ]
  },
  {
   "cell_type": "markdown",
   "metadata": {},
   "source": [
    "Sanity check: \n",
    "\n",
    "1. Does each row sum to 1? Yes! Or at least, up to a tolerance, since there will be small floating point errors."
   ]
  },
  {
   "cell_type": "code",
   "execution_count": 166,
   "metadata": {},
   "outputs": [
    {
     "name": "stdout",
     "output_type": "stream",
     "text": [
      "[1.00000000e+00 1.00000000e+00 1.00000000e+00 9.99999999e-01\n",
      " 1.00000000e+00 9.99999998e-01 1.00000000e+00 1.00000000e+00\n",
      " 1.00000000e+00 9.99999999e-01 2.43731740e-09 9.99999997e-01\n",
      " 1.00000000e+00 9.99999999e-01 1.00000000e+00 1.00000000e+00\n",
      " 1.00000000e+00 1.00000000e+00 1.00000000e+00 9.99999999e-01\n",
      " 9.99999998e-01 1.00000000e+00 9.99999999e-01 9.99999999e-01\n",
      " 1.00000000e+00 1.00000000e+00 1.00000000e+00 6.99446838e-01\n",
      " 1.00000000e+00 1.00000000e+00 9.99999999e-01 9.99999999e-01\n",
      " 1.00000000e+00 1.00000000e+00 1.00000000e+00 1.00000000e+00\n",
      " 1.00000000e+00 9.99999999e-01 4.56332668e-09 1.00000000e+00\n",
      " 1.00000000e+00 9.99999986e-01 9.99999999e-01 1.00000000e+00\n",
      " 1.00000000e+00 1.00000000e+00 9.99999000e-01 1.00000000e+00\n",
      " 1.00000000e+00 1.00000000e+00]\n",
      "Violations:  3\n"
     ]
    }
   ],
   "source": [
    "tolerance = 1e-3\n",
    "\n",
    "print(np.sum(out, axis=1))\n",
    "print(\"Violations: \", n-sum((np.isclose(np.sum(out, axis=1), np.ones(50), atol=tolerance))))"
   ]
  },
  {
   "cell_type": "markdown",
   "metadata": {},
   "source": [
    "2. Is each constraint bounded by 0 and 1?"
   ]
  },
  {
   "cell_type": "code",
   "execution_count": 167,
   "metadata": {},
   "outputs": [
    {
     "name": "stdout",
     "output_type": "stream",
     "text": [
      "Number of allocations greater than 1: 0\n",
      "Number of allocations less than 0: 0\n"
     ]
    }
   ],
   "source": [
    "print(f\"Number of allocations greater than 1: {np.sum(out - tolerance > 1)}\")\n",
    "print(f\"Number of allocations less than 0: {np.sum(out+tolerance < 0)}\")"
   ]
  },
  {
   "cell_type": "markdown",
   "metadata": {},
   "source": [
    "3. Are the variance conditions being approx satisfied? I wrote yes here before but it seems like no?"
   ]
  },
  {
   "cell_type": "code",
   "execution_count": 168,
   "metadata": {},
   "outputs": [
    {
     "name": "stdout",
     "output_type": "stream",
     "text": [
      "Max violation: 0.5\n",
      "Number of variance constraints which violate the max allowed variance: 0\n"
     ]
    }
   ],
   "source": [
    "cov = empirical_covariance(ys, assume_centered=False)\n",
    "\n",
    "viol = np.zeros(len(out))\n",
    "for i in range(len(out)):\n",
    "    viol[i] = np.matmul(np.matmul(out[i], cov), np.transpose(out[i]))\n",
    "\n",
    "print(f\"Max violation: {alpha}\")\n",
    "print(f\"Number of variance constraints which violate the max allowed variance: {sum(viol > alpha+0.1)}\")"
   ]
  },
  {
   "cell_type": "code",
   "execution_count": 169,
   "metadata": {},
   "outputs": [
    {
     "data": {
      "text/plain": [
       "array([1.09129128e-01, 5.00000000e-01, 1.09129128e-01, 3.13415176e-03,\n",
       "       5.00000000e-01, 1.79194875e-03, 4.99999998e-01, 5.00000000e-01,\n",
       "       5.00000000e-01, 5.00000001e-01, 1.08558548e-20, 5.00000000e-01,\n",
       "       5.00000000e-01, 5.00000000e-01, 5.00000000e-01, 5.00000000e-01,\n",
       "       5.00000000e-01, 5.00000000e-01, 1.09129128e-01, 5.00000000e-01,\n",
       "       5.00000000e-01, 5.00000000e-01, 5.00000000e-01, 5.00000000e-01,\n",
       "       5.00000000e-01, 1.09129128e-01, 5.00000000e-01, 5.00000001e-01,\n",
       "       3.13415176e-03, 5.00000000e-01, 5.00000000e-01, 5.00000000e-01,\n",
       "       5.00000000e-01, 1.09129128e-01, 5.00000000e-01, 5.00000000e-01,\n",
       "       1.04122387e-03, 5.00000000e-01, 6.21221982e-19, 5.00000000e-01,\n",
       "       5.00000000e-01, 5.00000000e-01, 5.00000000e-01, 1.09129128e-01,\n",
       "       5.00000000e-01, 5.00000000e-01, 3.13414551e-03, 5.00000000e-01,\n",
       "       1.09129128e-01, 1.09129128e-01])"
      ]
     },
     "execution_count": 169,
     "metadata": {},
     "output_type": "execute_result"
    }
   ],
   "source": [
    "viol = np.zeros(len(out))\n",
    "for i in range(len(out)):\n",
    "    viol[i] = np.matmul(np.matmul(out[i], cov), np.transpose(out[i]))\n",
    "viol"
   ]
  },
  {
   "cell_type": "markdown",
   "metadata": {},
   "source": [
    "3. Is the covariance matrix actually measuring the correct thing? A sanity check that the diagonal of the matrix is equal to empirical variance.\n"
   ]
  },
  {
   "cell_type": "code",
   "execution_count": 161,
   "metadata": {},
   "outputs": [
    {
     "name": "stdout",
     "output_type": "stream",
     "text": [
      "Variances of each coordinate of the ys: \n",
      " [0.82798883 0.00104122 0.00179195 0.10912913 1.02202326 0.00313415]\n",
      "Diagonal of the covariance matrix: \n",
      " [0.82798883 0.00104122 0.00179195 0.10912913 1.02202326 0.00313415]\n"
     ]
    }
   ],
   "source": [
    "print(f\"Variances of each coordinate of the ys: \\n {np.var(ys, axis=0)}\")\n",
    "\n",
    "print(f\"Diagonal of the covariance matrix: \\n {np.diagonal(cov)}\")"
   ]
  },
  {
   "cell_type": "markdown",
   "metadata": {},
   "source": [
    "4. Are all the constraints convex?\n",
    "\n",
    "If C is positive semi-definite, then xCx^T <= val is a convex constraint on R^n. Maybe something went wrong in calculation of C? \n",
    "\n",
    "If the eigenvalues of C are positive, then C must be positive semi-definite. Here we see this is the case:"
   ]
  },
  {
   "cell_type": "code",
   "execution_count": 162,
   "metadata": {},
   "outputs": [
    {
     "data": {
      "text/plain": [
       "array([ True,  True,  True,  True,  True,  True])"
      ]
     },
     "execution_count": 162,
     "metadata": {},
     "output_type": "execute_result"
    }
   ],
   "source": [
    "np.linalg.eigvals(cov) > 0"
   ]
  },
  {
   "cell_type": "code",
   "execution_count": 170,
   "metadata": {},
   "outputs": [
    {
     "data": {
      "text/plain": [
       "0.0008419627816976109"
      ]
     },
     "execution_count": 170,
     "metadata": {},
     "output_type": "execute_result"
    }
   ],
   "source": [
    "min(np.linalg.eigvals(cov))\n"
   ]
  },
  {
   "cell_type": "code",
   "execution_count": 151,
   "metadata": {},
   "outputs": [
    {
     "data": {
      "text/plain": [
       "array([[ 8.27988830e-01, -6.55756916e-03, -8.96512812e-03,\n",
       "         5.57804785e-02, -6.65418545e-02,  1.18359051e-02],\n",
       "       [-6.55756916e-03,  1.04122387e-03, -1.09939826e-04,\n",
       "        -8.67002703e-04, -1.99234699e-03,  4.18234486e-04],\n",
       "       [-8.96512812e-03, -1.09939826e-04,  1.79194876e-03,\n",
       "         6.11696668e-04, -5.26528595e-03, -3.28803440e-04],\n",
       "       [ 5.57804785e-02, -8.67002703e-04,  6.11696668e-04,\n",
       "         1.09129128e-01, -3.08836710e-02, -1.93356657e-03],\n",
       "       [-6.65418545e-02, -1.99234699e-03, -5.26528595e-03,\n",
       "        -3.08836710e-02,  1.02202326e+00, -1.97332997e-02],\n",
       "       [ 1.18359051e-02,  4.18234486e-04, -3.28803440e-04,\n",
       "        -1.93356657e-03, -1.97332997e-02,  3.13415178e-03]])"
      ]
     },
     "execution_count": 151,
     "metadata": {},
     "output_type": "execute_result"
    }
   ],
   "source": [
    "cov"
   ]
  },
  {
   "cell_type": "code",
   "execution_count": null,
   "metadata": {},
   "outputs": [],
   "source": []
  }
 ],
 "metadata": {
  "kernelspec": {
   "display_name": "bb-portfolio",
   "language": "python",
   "name": "python3"
  },
  "language_info": {
   "codemirror_mode": {
    "name": "ipython",
    "version": 3
   },
   "file_extension": ".py",
   "mimetype": "text/x-python",
   "name": "python",
   "nbconvert_exporter": "python",
   "pygments_lexer": "ipython3",
   "version": "3.12.1"
  }
 },
 "nbformat": 4,
 "nbformat_minor": 2
}
