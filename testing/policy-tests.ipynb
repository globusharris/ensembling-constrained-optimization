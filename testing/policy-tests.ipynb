{
 "cells": [
  {
   "cell_type": "code",
   "execution_count": 1,
   "metadata": {},
   "outputs": [],
   "source": [
    "import sys\n",
    "sys.path.append('../src')\n",
    "\n",
    "import importlib\n",
    "import numpy as np\n",
    "from sklearn.covariance import empirical_covariance\n",
    "\n",
    "import policies "
   ]
  },
  {
   "cell_type": "markdown",
   "metadata": {},
   "source": [
    "# Covariance Constrained Policy Testing\n",
    "\n",
    "Testing the covariance constrained policy. Initially, this was giving a lot of violations. Initially thought that the problem might just not be feasible but after inspection it was. I switched the solver being used by cvxpy to Gurobi, which resolved the issue. \n",
    "\n",
    "The initial line in this, %%capture, redirects stdout from printing out the output. This is much nicer than redirecting the stdout manually, which doesn't work as anticipated inside of jupyter notebooks. Note: if your code is multithreaded, this no longer works for some reason. "
   ]
  },
  {
   "cell_type": "code",
   "execution_count": 6,
   "metadata": {},
   "outputs": [],
   "source": [
    "%%capture\n",
    "\n",
    "importlib.reload(policies)\n",
    "\n",
    "n = 50\n",
    "n_features = 6\n",
    "pred_dim = 6\n",
    "\n",
    "np.random.seed(30)\n",
    "\n",
    "# Gaussian xs, with true labels having a different linear relationship with xs in each coordinate\n",
    "xs = np.random.normal(size=(n, n_features))\n",
    "slopes = np.random.uniform(size = n_features)\n",
    "ys = np.multiply(xs, slopes)\n",
    "\n",
    "def meta_model(coord, slopes):\n",
    "    def model(xs):\n",
    "        preds = np.random.normal(size=(n, pred_dim))\n",
    "        true_ys = np.multiply(xs, slopes)\n",
    "        preds[:,coord] = true_ys[:,coord]\n",
    "        return preds\n",
    "    return model\n",
    "\n",
    "model = meta_model(0, slopes)\n",
    "\n",
    "alpha = 0.5\n",
    "policy = policies.VarianceConstrained(pred_dim, model, 0.1, alpha, ys)\n",
    "out = policy.run_given_preds(ys);"
   ]
  },
  {
   "cell_type": "code",
   "execution_count": 7,
   "metadata": {},
   "outputs": [
    {
     "data": {
      "text/plain": [
       "array([[1.00002772e-10, 1.01898587e-07, 7.38446508e-09, 9.99999815e-01,\n",
       "        3.53529912e-08, 4.01164393e-08],\n",
       "       [2.96881002e-11, 3.00033367e-01, 5.42156947e-08, 1.19107103e-09,\n",
       "        6.99966253e-01, 3.24739202e-07],\n",
       "       [1.85415371e-10, 1.34218179e-08, 8.82189287e-08, 9.99999848e-01,\n",
       "        7.75098790e-09, 4.27674899e-08],\n",
       "       [2.12656567e-11, 6.87291825e-08, 8.73373638e-09, 3.82770249e-10,\n",
       "        2.80138361e-11, 9.99999922e-01],\n",
       "       [6.43062758e-11, 9.84896418e-09, 2.99122905e-01, 1.05979690e-09,\n",
       "        7.00877082e-01, 2.14731828e-09],\n",
       "       [3.03638175e-12, 1.36254688e-09, 9.99999998e-01, 2.71606920e-11,\n",
       "        6.38004950e-12, 8.79946302e-10],\n",
       "       [3.53786621e-01, 1.25668874e-11, 1.27909305e-11, 6.18090997e-11,\n",
       "        6.46213379e-01, 1.29075415e-11],\n",
       "       [4.34172094e-08, 2.72069579e-08, 1.79701650e-08, 2.98305972e-01,\n",
       "        7.01693918e-01, 2.13061344e-08],\n",
       "       [8.94744143e-10, 4.75937405e-08, 5.46548664e-08, 2.98306681e-01,\n",
       "        7.01693176e-01, 4.04543555e-08],\n",
       "       [7.78806770e-01, 2.21193210e-01, 1.76408909e-08, 1.95065941e-10,\n",
       "        4.97138588e-11, 2.34667982e-09],\n",
       "       [3.73999953e-12, 2.18503419e-07, 9.99999777e-01, 6.34808684e-11,\n",
       "        8.85537559e-12, 4.72454100e-09],\n",
       "       [7.64081198e-01, 2.86362202e-08, 4.67626250e-02, 1.08333649e-09,\n",
       "        1.89156118e-01, 2.87662904e-08],\n",
       "       [3.83892898e-09, 1.58571336e-08, 1.51269088e-08, 2.98306027e-01,\n",
       "        7.01693925e-01, 1.30858961e-08],\n",
       "       [7.79416835e-01, 7.26663514e-08, 2.20582716e-01, 2.36199915e-07,\n",
       "        2.36423768e-08, 1.16431612e-07],\n",
       "       [3.53758513e-01, 6.04211699e-09, 5.37810568e-09, 1.55149990e-05,\n",
       "        6.46225955e-01, 4.99268508e-09],\n",
       "       [5.40094215e-10, 2.28182242e-09, 4.23874417e-08, 2.98306003e-01,\n",
       "        7.01693949e-01, 2.97722808e-09],\n",
       "       [7.47118329e-01, 2.18325685e-09, 1.13356304e-08, 6.98654172e-03,\n",
       "        2.45895115e-01, 8.54255419e-10],\n",
       "       [7.79416672e-01, 5.15623434e-07, 2.20582552e-01, 5.78744844e-08,\n",
       "        2.24500255e-08, 1.80005748e-07],\n",
       "       [1.59447974e-10, 2.17194644e-08, 3.80272355e-08, 9.99999911e-01,\n",
       "        2.20404565e-09, 2.64728780e-08],\n",
       "       [1.55985318e-01, 1.75035119e-06, 1.24834553e-07, 1.70194271e-07,\n",
       "        6.97877896e-01, 1.46134740e-01],\n",
       "       [1.91126838e-11, 1.05639774e-09, 2.03259452e-07, 3.81665178e-10,\n",
       "        7.04975398e-01, 2.95024397e-01],\n",
       "       [7.44060383e-01, 3.61485308e-09, 2.60033093e-09, 4.49995970e-08,\n",
       "        2.55939562e-01, 3.55481180e-09],\n",
       "       [2.83673547e-01, 1.93770374e-07, 7.34877662e-06, 1.20491166e-09,\n",
       "        6.70582154e-01, 4.57367548e-02],\n",
       "       [2.70681402e-01, 9.21577856e-08, 2.79534803e-08, 3.42957455e-10,\n",
       "        6.74324372e-01, 5.49941059e-02],\n",
       "       [5.95316388e-09, 4.73804365e-07, 7.30068264e-07, 4.00667680e-06,\n",
       "        7.04975309e-01, 2.95019474e-01],\n",
       "       [7.58531632e-10, 2.16911887e-09, 2.35846012e-09, 9.99999993e-01,\n",
       "        6.84941744e-11, 1.57887504e-09],\n",
       "       [7.55735800e-01, 6.78028695e-09, 5.98154680e-09, 2.44264178e-01,\n",
       "        2.98290812e-10, 8.60909257e-09],\n",
       "       [9.63430948e-08, 3.00011176e-01, 1.36654037e-06, 1.97377570e-05,\n",
       "        6.99966790e-01, 8.33515251e-07],\n",
       "       [2.64674033e-10, 1.04018600e-08, 3.68608490e-09, 4.07923650e-10,\n",
       "        2.54315746e-08, 9.99999960e-01],\n",
       "       [7.73740184e-01, 4.72062574e-08, 2.22535309e-08, 8.06109381e-08,\n",
       "        3.95891709e-10, 2.26259666e-01],\n",
       "       [2.56352213e-09, 6.27832521e-08, 2.53814301e-08, 2.98305866e-01,\n",
       "        7.01693952e-01, 9.05789844e-08],\n",
       "       [7.73740283e-01, 2.28402350e-08, 1.38669143e-08, 2.69572320e-09,\n",
       "        1.06453533e-10, 2.26259677e-01],\n",
       "       [4.03412991e-09, 1.36611577e-06, 8.81051672e-07, 3.26932080e-08,\n",
       "        7.04975326e-01, 2.95022391e-01],\n",
       "       [1.85513156e-10, 1.79962300e-08, 8.26675389e-08, 9.99999860e-01,\n",
       "        1.71956633e-10, 3.88626648e-08],\n",
       "       [7.44055358e-01, 5.20082636e-09, 3.29699131e-09, 8.82195484e-10,\n",
       "        2.55944627e-01, 5.19287521e-09],\n",
       "       [5.55510967e-10, 1.95668695e-08, 2.99122206e-01, 5.12338625e-07,\n",
       "        7.00877257e-01, 4.54408561e-09],\n",
       "       [6.21235266e-12, 9.99999672e-01, 7.14711005e-08, 1.06166993e-10,\n",
       "        8.32312597e-12, 2.56455494e-07],\n",
       "       [7.78808219e-01, 2.21158325e-01, 2.34026960e-08, 3.78341165e-08,\n",
       "        3.33485811e-05, 4.59560001e-08],\n",
       "       [2.80426672e-11, 3.17662018e-07, 1.49300123e-09, 9.99999555e-01,\n",
       "        7.33855117e-11, 1.25384754e-07],\n",
       "       [2.94042369e-09, 4.09693136e-06, 2.99117516e-01, 2.79093617e-08,\n",
       "        7.00877242e-01, 1.11372338e-06],\n",
       "       [1.04496127e-01, 3.99888877e-10, 1.37278457e-09, 1.94138703e-01,\n",
       "        7.01365166e-01, 1.41557583e-09],\n",
       "       [1.27929518e-09, 3.23943645e-05, 1.43312843e-07, 2.98272914e-01,\n",
       "        7.01694534e-01, 1.38908835e-08],\n",
       "       [7.73739868e-01, 1.99858259e-06, 9.08958899e-07, 7.68776171e-09,\n",
       "        2.97139939e-09, 2.26257214e-01],\n",
       "       [1.45501396e-07, 8.68539284e-09, 9.36622096e-09, 9.99999816e-01,\n",
       "        9.01793474e-09, 1.12979759e-08],\n",
       "       [8.44707291e-02, 4.09571617e-08, 1.68948530e-07, 1.93294619e-09,\n",
       "        7.04546239e-01, 2.10982820e-01],\n",
       "       [3.53782476e-01, 4.39095284e-07, 4.21123227e-07, 3.06741715e-08,\n",
       "        6.46216458e-01, 1.75051829e-07],\n",
       "       [5.38233136e-12, 4.92799194e-09, 8.29073417e-10, 1.53151628e-11,\n",
       "        4.84602076e-12, 9.99999994e-01],\n",
       "       [7.55735327e-01, 2.54109237e-07, 6.36899975e-07, 2.44263543e-01,\n",
       "        5.37776990e-09, 2.33874206e-07],\n",
       "       [1.12282918e-08, 1.86717932e-08, 1.35627146e-08, 9.99999938e-01,\n",
       "        2.96452730e-09, 1.59990460e-08],\n",
       "       [1.13029191e-08, 1.06197762e-08, 9.94658064e-09, 9.99999957e-01,\n",
       "        2.32542349e-09, 8.91433890e-09]])"
      ]
     },
     "execution_count": 7,
     "metadata": {},
     "output_type": "execute_result"
    }
   ],
   "source": [
    "out"
   ]
  },
  {
   "cell_type": "markdown",
   "metadata": {},
   "source": [
    "Sanity check: \n",
    "\n",
    "1. Does each row sum to 1? Yes! Or at least, up to a tolerance, since there will be small floating point errors."
   ]
  },
  {
   "cell_type": "code",
   "execution_count": 8,
   "metadata": {},
   "outputs": [
    {
     "name": "stdout",
     "output_type": "stream",
     "text": [
      "[1. 1. 1. 1. 1. 1. 1. 1. 1. 1. 1. 1. 1. 1. 1. 1. 1. 1. 1. 1. 1. 1. 1. 1.\n",
      " 1. 1. 1. 1. 1. 1. 1. 1. 1. 1. 1. 1. 1. 1. 1. 1. 1. 1. 1. 1. 1. 1. 1. 1.\n",
      " 1. 1.]\n",
      "Violations:  0\n"
     ]
    }
   ],
   "source": [
    "tolerance = 1e-3\n",
    "\n",
    "print(np.sum(out, axis=1))\n",
    "print(\"Violations: \", n-sum((np.isclose(np.sum(out, axis=1), np.ones(50), atol=tolerance))))"
   ]
  },
  {
   "cell_type": "markdown",
   "metadata": {},
   "source": [
    "2. Is each constraint bounded by 0 and 1?"
   ]
  },
  {
   "cell_type": "code",
   "execution_count": 9,
   "metadata": {},
   "outputs": [
    {
     "name": "stdout",
     "output_type": "stream",
     "text": [
      "Number of allocations greater than 1: 0\n",
      "Number of allocations less than 0: 0\n"
     ]
    }
   ],
   "source": [
    "print(f\"Number of allocations greater than 1: {np.sum(out - tolerance > 1)}\")\n",
    "print(f\"Number of allocations less than 0: {np.sum(out+tolerance < 0)}\")"
   ]
  },
  {
   "cell_type": "markdown",
   "metadata": {},
   "source": [
    "3. Are the variance conditions being approx satisfied? I wrote yes here before but it seems like no?"
   ]
  },
  {
   "cell_type": "code",
   "execution_count": 10,
   "metadata": {},
   "outputs": [
    {
     "name": "stdout",
     "output_type": "stream",
     "text": [
      "Max violation: 0.5\n",
      "Number of variance constraints which violate the max allowed variance: 0\n"
     ]
    }
   ],
   "source": [
    "cov = empirical_covariance(ys, assume_centered=False)\n",
    "\n",
    "viol = np.zeros(len(out))\n",
    "for i in range(len(out)):\n",
    "    viol[i] = np.matmul(np.matmul(out[i], cov), np.transpose(out[i]))\n",
    "\n",
    "print(f\"Max violation: {alpha}\")\n",
    "print(f\"Number of variance constraints which violate the max allowed variance: {sum(viol > alpha+0.1)}\")"
   ]
  },
  {
   "cell_type": "markdown",
   "metadata": {},
   "source": [
    "3. Is the covariance matrix actually measuring the correct thing? A sanity check that the diagonal of the matrix is equal to empirical variance.\n"
   ]
  },
  {
   "cell_type": "code",
   "execution_count": 11,
   "metadata": {},
   "outputs": [
    {
     "name": "stdout",
     "output_type": "stream",
     "text": [
      "Variances of each coordinate of the ys: \n",
      " [0.82798883 0.00104122 0.00179195 0.10912913 1.02202326 0.00313415]\n",
      "Diagonal of the covariance matrix: \n",
      " [0.82798883 0.00104122 0.00179195 0.10912913 1.02202326 0.00313415]\n"
     ]
    }
   ],
   "source": [
    "print(f\"Variances of each coordinate of the ys: \\n {np.var(ys, axis=0)}\")\n",
    "\n",
    "print(f\"Diagonal of the covariance matrix: \\n {np.diagonal(cov)}\")"
   ]
  },
  {
   "cell_type": "markdown",
   "metadata": {},
   "source": [
    "4. Are all the constraints convex and are things feasible?\n",
    "\n",
    "If C is positive semi-definite, then xCx^T <= val is a convex constraint on R^n. Maybe something went wrong in calculation of C? \n",
    "\n",
    "If the eigenvalues of C are positive, then C must be positive semi-definite. Here we see this is the case:"
   ]
  },
  {
   "cell_type": "code",
   "execution_count": 30,
   "metadata": {},
   "outputs": [
    {
     "data": {
      "text/plain": [
       "array([ True,  True,  True,  True,  True,  True])"
      ]
     },
     "execution_count": 30,
     "metadata": {},
     "output_type": "execute_result"
    }
   ],
   "source": [
    "np.linalg.eigvals(cov) > 0"
   ]
  },
  {
   "cell_type": "markdown",
   "metadata": {},
   "source": [
    "If the only constraint was covariance, xCx^T will be bounded by the eigenvalues of covariance matrix, so this is a good spot check for how feasible things are"
   ]
  },
  {
   "cell_type": "code",
   "execution_count": 31,
   "metadata": {},
   "outputs": [
    {
     "data": {
      "text/plain": [
       "array([1.04541420e+00, 8.10321387e-01, 1.04229047e-01, 2.73097313e-03,\n",
       "       8.41962782e-04, 1.57097101e-03])"
      ]
     },
     "execution_count": 31,
     "metadata": {},
     "output_type": "execute_result"
    }
   ],
   "source": [
    "np.linalg.eigvals(cov)"
   ]
  },
  {
   "cell_type": "markdown",
   "metadata": {},
   "source": [
    "# Linear Constraint Policy Testing"
   ]
  },
  {
   "cell_type": "code",
   "execution_count": null,
   "metadata": {},
   "outputs": [],
   "source": [
    "%%capture\n",
    "\n",
    "importlib.reload(policies)\n",
    "\n",
    "n = 50\n",
    "n_features = 6\n",
    "pred_dim = 6\n",
    "\n",
    "np.random.seed(30)\n",
    "\n",
    "# Gaussian xs, with true labels having a different linear relationship with xs in each coordinate\n",
    "xs = np.random.normal(size=(n, n_features))\n",
    "slopes = np.random.uniform(size = n_features)\n",
    "ys = np.multiply(xs, slopes)\n",
    "\n",
    "def meta_model(coord, slopes):\n",
    "    def model(xs):\n",
    "        preds = np.random.normal(size=(n, pred_dim))\n",
    "        true_ys = np.multiply(xs, slopes)\n",
    "        preds[:,coord] = true_ys[:,coord]\n",
    "        return preds\n",
    "    return model\n",
    "\n",
    "model = meta_model(0, slopes)\n",
    "\n",
    "alpha = 0.5\n",
    "policy = policies.LinearConstraint(pred_dim, model, 0.1, alpha, ys)\n",
    "out = policy.run_given_preds(ys);"
   ]
  }
 ],
 "metadata": {
  "kernelspec": {
   "display_name": "bb-portfolio",
   "language": "python",
   "name": "python3"
  },
  "language_info": {
   "codemirror_mode": {
    "name": "ipython",
    "version": 3
   },
   "file_extension": ".py",
   "mimetype": "text/x-python",
   "name": "python",
   "nbconvert_exporter": "python",
   "pygments_lexer": "ipython3",
   "version": "3.12.1"
  }
 },
 "nbformat": 4,
 "nbformat_minor": 2
}
