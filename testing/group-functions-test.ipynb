{
 "cells": [
  {
   "cell_type": "code",
   "execution_count": 39,
   "metadata": {},
   "outputs": [],
   "source": [
    "import sys\n",
    "import dill\n",
    "import numpy as np\n",
    "import os\n",
    "import importlib\n",
    "\n",
    "sys.path.append('../experiments/experiment-pipeline')\n",
    "import modelSetup"
   ]
  },
  {
   "cell_type": "markdown",
   "metadata": {},
   "source": [
    "Using the same method as scripts to build functions"
   ]
  },
  {
   "cell_type": "code",
   "execution_count": 56,
   "metadata": {},
   "outputs": [],
   "source": [
    "rng = np.random.default_rng(seed=42) #setting random number generator w set seed to use throughout\n",
    "\n",
    "label_version = 'linear-label' \n",
    "model_type = 'gb' \n",
    "specialization = 'group'\n",
    "policy_name = 'variance' \n",
    "max_depth = 1\n",
    "\n",
    "datapath = f\"../data/synthetic\"\n",
    "xs = np.loadtxt(f\"{datapath}/features.csv\", delimiter=',')\n",
    "if label_version==\"linear-label\":\n",
    "    ys = np.loadtxt(f\"{datapath}/linear-labels.csv\", delimiter=',')\n",
    "elif label_version==\"poly-label\":\n",
    "    ys = np.loadtxt(f\"{datapath}/poly-labels.csv\", delimiter=',')\n",
    "\n",
    "# subsampling the datapoints for debiasing for computation's sake\n",
    "# n = 250\n",
    "# ind = rng.choice(np.arange(len(xs)), size=n)\n",
    "# xs = xs[ind]\n",
    "# ys = ys[ind]\n",
    "\n",
    "path = f\"../experiments/experiment-pipeline/init-models/{label_version}/{model_type}\"\n",
    "all_model_files = os.listdir(path)\n",
    "\n",
    "if specialization=='coord':\n",
    "    model_files = [model_file for model_file in all_model_files if ('coord' in model_file) ]\n",
    "elif specialization=='group':\n",
    "    model_files = [model_file for model_file in all_model_files if ('group' in model_file) ]\n",
    "elif specialization=='all':\n",
    "    model_files = all_model_files\n",
    "\n",
    "models1 = []\n",
    "for filename in model_files:\n",
    "    with open(f\"{path}/{filename}\", 'rb') as file:\n",
    "        models1.append(dill.load(file))"
   ]
  },
  {
   "cell_type": "code",
   "execution_count": 53,
   "metadata": {},
   "outputs": [
    {
     "data": {
      "text/plain": [
       "array([-5.47779402,  0.21780773, -1.37489561,  0.86616831])"
      ]
     },
     "execution_count": 53,
     "metadata": {},
     "output_type": "execute_result"
    }
   ],
   "source": [
    "models2[0](xs)[100]"
   ]
  },
  {
   "cell_type": "code",
   "execution_count": 57,
   "metadata": {},
   "outputs": [
    {
     "data": {
      "text/plain": [
       "array([-5.47779402,  0.21780773, -1.37489561,  0.86616831])"
      ]
     },
     "execution_count": 57,
     "metadata": {},
     "output_type": "execute_result"
    }
   ],
   "source": [
    "models1[0](xs)[100]"
   ]
  },
  {
   "cell_type": "code",
   "execution_count": null,
   "metadata": {},
   "outputs": [],
   "source": []
  }
 ],
 "metadata": {
  "kernelspec": {
   "display_name": "bb-portfolio",
   "language": "python",
   "name": "python3"
  },
  "language_info": {
   "codemirror_mode": {
    "name": "ipython",
    "version": 3
   },
   "file_extension": ".py",
   "mimetype": "text/x-python",
   "name": "python",
   "nbconvert_exporter": "python",
   "pygments_lexer": "ipython3",
   "version": "3.12.1"
  }
 },
 "nbformat": 4,
 "nbformat_minor": 2
}
