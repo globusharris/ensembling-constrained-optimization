{
 "cells": [
  {
   "cell_type": "code",
   "execution_count": 10,
   "metadata": {},
   "outputs": [],
   "source": [
    "import importlib\n",
    "import numpy as np\n",
    "import matplotlib.pyplot as plt\n",
    "from sklearn.tree import DecisionTreeRegressor\n",
    "from sklearn.metrics import mean_squared_error as mse"
   ]
  },
  {
   "cell_type": "markdown",
   "metadata": {},
   "source": [
    "## Single Model Debiasing Sanity Check"
   ]
  },
  {
   "cell_type": "markdown",
   "metadata": {},
   "source": [
    "When debiasing a single predictor which just predicts the label mean and when predicting 3 features, should run for 3 rounds (conditioning on policy equal to (1,0,0), (0,1,0), and (0,0,1) in each round respectively), then since bias will be 0 on each conditioning event, should halt, and return the original predictor. \n",
    "\n",
    "When debiasing on a predictor which predicts correct thing in first coordinate and 0 elsewhere, no changes to model should be made on the first coordinate. In the other two coordinates, it will change to predict label mean on the subsets determined by the initial policy after the first three rounds."
   ]
  },
  {
   "cell_type": "code",
   "execution_count": 8,
   "metadata": {},
   "outputs": [
    {
     "name": "stdout",
     "output_type": "stream",
     "text": [
      "Round of debiasing: \n",
      "012\n",
      "Model debiasing complete, halting early after round 3/10.\n",
      "Round of debiasing: \n",
      "012345\n",
      "Model debiasing complete, halting early after round 6/10.\n"
     ]
    }
   ],
   "source": [
    "import debiasedModel\n",
    "importlib.reload(debiasedModel)\n",
    "\n",
    "import policies\n",
    "import importlib \n",
    "importlib.reload(policies)\n",
    "\n",
    "#this data is garbage but making just to have something to test the whole process with\n",
    "n_rows = 5\n",
    "n_features = 3\n",
    "pred_dim = n_features \n",
    "\n",
    "xs = np.random.normal(size=(n_rows, n_features))\n",
    "slopes = np.random.uniform(size = n_features)\n",
    "errs = np.random.normal(scale=0.01, size = (n_rows, n_features))\n",
    "ys = np.multiply(xs, slopes) + errs\n",
    "\n",
    "# just predicts label mean\n",
    "def h1(xs):\n",
    "    # calculate label mean and duplicate it for each of xs\n",
    "    return np.tile(np.average(ys, axis=0), (len(xs),1))\n",
    "    \n",
    "\n",
    "# second model predicts correct linear relationship for first stock and 0 everywhere else\n",
    "def h2(xs):\n",
    "    # build prediction \n",
    "    preds = np.zeros((len(xs), n_features))\n",
    "    preds[:,0] = ys[:,0]\n",
    "    return preds\n",
    "\n",
    "simplex = policies.Simplex(pred_dim)\n",
    "\n",
    "init_model = h1\n",
    "max_depth = 10\n",
    "policy = simplex\n",
    "\n",
    "model = debiasedModel.Debiased_model()\n",
    "model.debias(xs, ys, init_model, max_depth, policy);\n",
    "model.training_preds[0] == np.mean(ys, axis=0)\n",
    "\n",
    "init_model = h2\n",
    "\n",
    "model = debiasedModel.Debiased_model()\n",
    "model.debias(xs, ys, init_model, max_depth, policy);\n",
    "model.training_preds;\n",
    "\n"
   ]
  },
  {
   "cell_type": "markdown",
   "metadata": {},
   "source": [
    "# Second Sanity Check: Running on fully worked-through example"
   ]
  },
  {
   "cell_type": "markdown",
   "metadata": {},
   "source": [
    "Consider an extremely simple dataset, with only 3 datapoints, constructed so that we can easily hand-check the debiasing process."
   ]
  },
  {
   "cell_type": "code",
   "execution_count": 16,
   "metadata": {},
   "outputs": [
    {
     "name": "stdout",
     "output_type": "stream",
     "text": [
      "Round of debiasing: \n",
      "012345\n",
      "Model debiasing complete, halting early after round 6/8.\n"
     ]
    }
   ],
   "source": [
    "importlib.reload(debiasedModel)\n",
    "\n",
    "xs = np.array([[1],[2],[3]]) \n",
    "ys = np.array([[1,10], [1,0], [1,0]])\n",
    "\n",
    "def h(xs):\n",
    "    preds = []\n",
    "    for x in xs:\n",
    "        if x==1:\n",
    "            preds.append([5,10])\n",
    "        if x==2:\n",
    "            preds.append([1,0])\n",
    "        if x==3:\n",
    "            preds.append([9,0])\n",
    "    return np.array(preds)\n",
    "\n",
    "max_depth = 8\n",
    "pred_dim = 2\n",
    "simp = policies.Simplex(pred_dim)\n",
    "model = debiasedModel.Debiased_model()\n",
    "model.debias(xs, ys, h, max_depth, simp);"
   ]
  },
  {
   "cell_type": "markdown",
   "metadata": {},
   "source": [
    "Debiasing on this should proceed as follows: On the first round, it will subset on the points where the policy chooses (1,0), which corresponds to the second two xs. It will then calculate the bias on these, which is (4,0). Here, we see that it has indeed chosen the correct two points to bucket, recorded their bias term correctly.\n",
    "\n",
    "It should then create a new model, which predicts the same as the original model, but with an offset of (4,0) for these two points, which it does:"
   ]
  },
  {
   "cell_type": "code",
   "execution_count": 17,
   "metadata": {},
   "outputs": [
    {
     "name": "stdout",
     "output_type": "stream",
     "text": [
      "Coordinate being debiased: 0\n",
      "Points where value is 1 for this coordinate: [1 2]\n",
      "Bias on this subset of points:  [[4. 0.]]\n",
      "Original predictions:\n",
      "[[ 5 10]\n",
      " [ 1  0]\n",
      " [ 9  0]]\n",
      "Updated predictions:\n",
      "[[ 5 10]\n",
      " [-3  0]\n",
      " [ 5  0]]\n"
     ]
    }
   ],
   "source": [
    "print(\"Coordinate being debiased:\", model.debiasing_cond[0])\n",
    "print(\"Points where value is 1 for this coordinate:\", model.training_buckets_indices[0][0])\n",
    "print(\"Bias on this subset of points: \", model.bias_array[0])\n",
    "print(\"Original predictions:\")\n",
    "print(model.training_preds[0])\n",
    "print(\"Updated predictions:\")\n",
    "print(model.training_preds[1])"
   ]
  },
  {
   "cell_type": "markdown",
   "metadata": {},
   "source": [
    "Next, it will look at the subset of points where this new updated model's policy chooses (0,1). This should correspond to the first two points. This update shouldn't do anything, because the updated model is unbiased on these two points."
   ]
  },
  {
   "cell_type": "code",
   "execution_count": 18,
   "metadata": {},
   "outputs": [
    {
     "name": "stdout",
     "output_type": "stream",
     "text": [
      "Coordinate being debiased: 1\n",
      "Points where value is 1 for this coordinate: [0 1]\n",
      "Bias on this subset of points:  [[0. 0.]]\n",
      "Previous predictions:\n",
      "[[ 5 10]\n",
      " [-3  0]\n",
      " [ 5  0]]\n",
      "Updated predictions:\n",
      "[[ 5 10]\n",
      " [-3  0]\n",
      " [ 5  0]]\n"
     ]
    }
   ],
   "source": [
    "print(\"Coordinate being debiased:\", model.debiasing_cond[1])\n",
    "print(\"Points where value is 1 for this coordinate:\", model.training_buckets_indices[1][0])\n",
    "print(\"Bias on this subset of points: \", model.bias_array[1])\n",
    "print(\"Previous predictions:\")\n",
    "print(model.training_preds[1])\n",
    "print(\"Updated predictions:\")\n",
    "print(model.training_preds[2])"
   ]
  },
  {
   "cell_type": "markdown",
   "metadata": {},
   "source": [
    "Now, it will recurse back to check on the points where the model chooses (1,0). This corresponds to the last (third) point, and the model *is* biased on these, with bias (4,0), so it will correct itself."
   ]
  },
  {
   "cell_type": "code",
   "execution_count": 19,
   "metadata": {},
   "outputs": [
    {
     "name": "stdout",
     "output_type": "stream",
     "text": [
      "Coordinate being debiased: 0\n",
      "Points where value is 1 for this coordinate: [2]\n",
      "Bias on this subset of points:  [[4. 0.]]\n",
      "Previous predictions:\n",
      "[[ 5 10]\n",
      " [-3  0]\n",
      " [ 5  0]]\n",
      "Updated predictions:\n",
      "[[ 5 10]\n",
      " [-3  0]\n",
      " [ 1  0]]\n"
     ]
    }
   ],
   "source": [
    "print(\"Coordinate being debiased:\", model.debiasing_cond[2])\n",
    "print(\"Points where value is 1 for this coordinate:\", model.training_buckets_indices[2][0])\n",
    "print(\"Bias on this subset of points: \", model.bias_array[2])\n",
    "print(\"Previous predictions:\")\n",
    "print(model.training_preds[2])\n",
    "print(\"Updated predictions:\")\n",
    "print(model.training_preds[3])"
   ]
  },
  {
   "cell_type": "markdown",
   "metadata": {},
   "source": [
    "The model is now unbiased conditional on both the places where the policy chooses (0,1) and where it chooses (1,0). It has to loop one more time through both (0,1) and (1,0), and will halt after this, with a total of 6 rounds."
   ]
  },
  {
   "cell_type": "code",
   "execution_count": 20,
   "metadata": {},
   "outputs": [
    {
     "data": {
      "text/plain": [
       "6"
      ]
     },
     "execution_count": 20,
     "metadata": {},
     "output_type": "execute_result"
    }
   ],
   "source": [
    "model.depth"
   ]
  },
  {
   "cell_type": "markdown",
   "metadata": {},
   "source": [
    "We expect to see the MSE drop in every single round on the training data."
   ]
  },
  {
   "cell_type": "code",
   "execution_count": 21,
   "metadata": {},
   "outputs": [
    {
     "name": "stdout",
     "output_type": "stream",
     "text": [
      "[26.66666667  0.        ]\n",
      "[16.  0.]\n",
      "[16.  0.]\n",
      "[10.66666667  0.        ]\n",
      "[10.66666667  0.        ]\n",
      "[10.66666667  0.        ]\n",
      "[10.66666667  0.        ]\n"
     ]
    }
   ],
   "source": [
    "preds = np.array(model.training_preds)\n",
    "for i in range(len(model.training_preds)):\n",
    "    print(mse(ys, model.training_preds[i], multioutput='raw_values'))\n"
   ]
  },
  {
   "cell_type": "markdown",
   "metadata": {},
   "source": [
    "# Running on a terrible model"
   ]
  },
  {
   "cell_type": "markdown",
   "metadata": {},
   "source": [
    "Starting with a model that just randomly guesses on data where labels have linear relationship with features., let's see how debiasing does."
   ]
  },
  {
   "cell_type": "code",
   "execution_count": 22,
   "metadata": {},
   "outputs": [
    {
     "name": "stdout",
     "output_type": "stream",
     "text": [
      "Round of debiasing: \n",
      "0123\n",
      "[[0.37454012 0.95071431 0.73199394]\n",
      " [0.59865848 0.15601864 0.15599452]\n",
      " [0.05808361 0.86617615 0.60111501]]\n",
      "[[0.46865848 0.15601864 0.14599452]]\n",
      "[array([1])]\n",
      "\n",
      "[[0.37454012 0.95071431 0.73199394]\n",
      " [0.13       0.         0.01      ]\n",
      " [0.05808361 0.86617615 0.60111501]]\n",
      "[[-0.05868813  0.50344523  0.43155448]]\n",
      "[array([0, 2])]\n",
      "\n",
      "[[0.43322825 0.44726908 0.30043947]\n",
      " [0.13       0.         0.01      ]\n",
      " [0.11677175 0.36273092 0.16956053]]\n",
      "[[0. 0. 0.]]\n",
      "[array([], dtype=int64)]\n",
      "\n",
      "[[0.43322825 0.44726908 0.30043947]\n",
      " [0.13       0.         0.01      ]\n",
      " [0.11677175 0.36273092 0.16956053]]\n",
      "[[0.00000000e+00 0.00000000e+00 8.67361738e-18]]\n",
      "[array([1])]\n"
     ]
    },
    {
     "data": {
      "image/png": "[encoded data removed]",
      "text/plain": [
       "<Figure size 640x480 with 1 Axes>"
      ]
     },
     "metadata": {},
     "output_type": "display_data"
    }
   ],
   "source": [
    "xs = np.array([[1],[2],[3]]) \n",
    "ys = np.array([[0.38, 0.11, 0.17], [0.13,0,0.01], [0.17,0.7, 0.3]])\n",
    "pred_dim = 3\n",
    "\n",
    "np.random.seed(42)\n",
    "seeded_rand = np.random.rand(len(xs),3)\n",
    "def h(xs):\n",
    "    preds = []\n",
    "    for x in xs:\n",
    "        if x==1:\n",
    "            preds.append(seeded_rand[0])\n",
    "        if x==2:\n",
    "            preds.append(seeded_rand[1])\n",
    "        if x==3:\n",
    "            preds.append(seeded_rand[2])\n",
    "    return np.array(preds)\n",
    "\n",
    "X_train = xs\n",
    "Y_train = ys\n",
    "init_model = h\n",
    "max_depth = 4\n",
    "\n",
    "simplex = policies.Simplex(pred_dim)\n",
    "model = debiasedModel.Debiased_model()\n",
    "model.debias(X_train, Y_train, init_model, max_depth, simplex);\n",
    "\n",
    "preds = np.array(model.training_preds)\n",
    "\n",
    "for i in range(max_depth):\n",
    "    print()\n",
    "    print(preds[i])\n",
    "    print(model.bias_array[i])\n",
    "    print(model.training_buckets_indices[i])\n",
    "\n",
    "mses = np.zeros((model.depth+1, model.prediction_dim))\n",
    "for i in range(len(model.training_preds)):\n",
    "    mses[i] = mse(Y_train, model.training_preds[i], multioutput='raw_values')\n",
    "\n",
    "coord = 0\n",
    "plt.plot(np.arange(model.depth+1), mses[:,coord], '.')\n",
    "plt.title(\"MSE of single coordinate by round of debiasing\")\n",
    "plt.xlabel(\"Round of Debiasing\")\n",
    "plt.ylabel(\"MSE\");\n",
    "\n"
   ]
  },
  {
   "cell_type": "markdown",
   "metadata": {},
   "source": [
    "# Other Visualizations"
   ]
  },
  {
   "cell_type": "markdown",
   "metadata": {},
   "source": [
    "Old code I'm keeping around so that I can reuse if needed."
   ]
  },
  {
   "cell_type": "code",
   "execution_count": 453,
   "metadata": {},
   "outputs": [
    {
     "name": "stdout",
     "output_type": "stream",
     "text": [
      "[0.42144247 0.42144247 0.42144247 0.42144247 0.42144247]\n",
      "[0.42144247 0.42144247 0.42144247 0.42144247 0.42144247]\n",
      "[-0.34634243 -0.34634243 -0.34634243 -0.34634243 -0.34634243]\n",
      "[-0.34634243 -0.34634243 -0.34634243 -0.34634243 -0.34634243]\n",
      "[0.42144247 0.42144247 0.42144247 0.42144247 0.42144247]\n",
      "[0.42144247 0.42144247 0.42144247 0.42144247 0.42144247]\n",
      "[0.42144247 0.42144247 0.42144247 0.42144247 0.42144247]\n",
      "[-0.34634243 -0.34634243 -0.34634243 -0.34634243 -0.34634243]\n",
      "[0.42144247 0.42144247 0.42144247 0.42144247 0.42144247]\n",
      "[-0.34634243 -0.34634243 -0.34634243 -0.34634243 -0.34634243]\n"
     ]
    },
    {
     "data": {
      "image/png": "[encoded data removed]",
      "text/plain": [
       "<Figure size 640x480 with 1 Axes>"
      ]
     },
     "metadata": {},
     "output_type": "display_data"
    }
   ],
   "source": [
    "coord = 1\n",
    "\n",
    "# color each of the datapoints \n",
    "num_colors = model.n \n",
    "color_palette = plt.cm.viridis(np.linspace(0, 1, num_colors))\n",
    "\n",
    "# for each round, plot predictions on ith coordinate\n",
    "preds = np.array(model.training_preds)\n",
    "for i in range(model.n):\n",
    "    # print(preds[np.arange(model.depth), i][:,coord])\n",
    "    # Plot predictions\n",
    "    plt.plot(np.arange(model.depth), preds[np.arange(model.depth), i][:,coord], '.', color=color_palette[i])\n",
    "    # Plot the true values of each coordinate as a horizontal line\n",
    "    plt.axhline(y=Y_train[i][coord], color=color_palette[i], linestyle='--', label='Horizontal Line at y=4');\n"
   ]
  }
 ],
 "metadata": {
  "kernelspec": {
   "display_name": "Python 3",
   "language": "python",
   "name": "python3"
  },
  "language_info": {
   "codemirror_mode": {
    "name": "ipython",
    "version": 3
   },
   "file_extension": ".py",
   "mimetype": "text/x-python",
   "name": "python",
   "nbconvert_exporter": "python",
   "pygments_lexer": "ipython3",
   "version": "3.11.7"
  }
 },
 "nbformat": 4,
 "nbformat_minor": 2
}
