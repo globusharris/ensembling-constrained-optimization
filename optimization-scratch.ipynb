{
 "cells": [
  {
   "cell_type": "code",
   "execution_count": 506,
   "metadata": {},
   "outputs": [],
   "source": [
    "import importlib\n",
    "import numpy as np\n",
    "import matplotlib.pyplot as plt\n",
    "from sklearn.tree import DecisionTreeRegressor"
   ]
  },
  {
   "cell_type": "markdown",
   "metadata": {},
   "source": [
    "# Data Generation"
   ]
  },
  {
   "cell_type": "code",
   "execution_count": 628,
   "metadata": {},
   "outputs": [],
   "source": [
    "\n"
   ]
  },
  {
   "cell_type": "markdown",
   "metadata": {},
   "source": [
    "# Generating Models to Ensemble"
   ]
  },
  {
   "cell_type": "code",
   "execution_count": 629,
   "metadata": {},
   "outputs": [],
   "source": [
    "# first model predicts label mean everywhere\n",
    "\n",
    "def h1(xs):\n",
    "    # calculate label mean and duplicate it for each of xs\n",
    "    return np.tile(np.average(true_ys, axis=0), (len(xs),1))\n",
    "    \n",
    "\n",
    "# second model predicts correct linear relationship for first stock and 0 everywhere else\n",
    "# (for sanity checking purposes)\n",
    "def h2(xs):\n",
    "    # build prediction \n",
    "    preds = np.zeros((len(xs), feature_dim))\n",
    "    preds[:,0] = true_ys[:,0]\n",
    "    return preds\n",
    "\n",
    "# third model is random\n",
    "def h3(xs):\n",
    "    preds = np.random.rand(len(xs), pred_dim)\n",
    "    return preds\n",
    "\n",
    "# Create a decision tree regressor\n",
    "regressor = DecisionTreeRegressor(random_state=42, max_depth=1)\n",
    "# Train the regressor on the training data\n",
    "regressor.fit(features, true_ys)\n",
    "# Make predictions on the testing data\n",
    "h4 = regressor.predict\n"
   ]
  },
  {
   "cell_type": "code",
   "execution_count": 659,
   "metadata": {},
   "outputs": [
    {
     "name": "stdout",
     "output_type": "stream",
     "text": [
      "(3, 2)\n"
     ]
    },
    {
     "data": {
      "text/plain": [
       "(10, 2)"
      ]
     },
     "execution_count": 659,
     "metadata": {},
     "output_type": "execute_result"
    }
   ],
   "source": [
    "print(h(xs).shape)\n",
    "\n",
    "h3(features).shape"
   ]
  },
  {
   "cell_type": "markdown",
   "metadata": {},
   "source": [
    "## Sanity Check"
   ]
  },
  {
   "cell_type": "markdown",
   "metadata": {},
   "source": [
    "Using a constant label mean predictor, which debiasing should only run a single round on before quitting."
   ]
  },
  {
   "cell_type": "code",
   "execution_count": 411,
   "metadata": {},
   "outputs": [],
   "source": [
    "import debiasedModel\n",
    "importlib.reload(debiasedModel)\n",
    "\n",
    "import policies\n",
    "import importlib \n",
    "importlib.reload(policies)\n",
    "\n",
    "simplex = policies.Simplex(pred_dim)\n",
    "simplex.run(h2(features));\n",
    "\n",
    "X_train = features\n",
    "Y_train = true_ys\n",
    "init_model = h1\n",
    "max_depth = 10\n",
    "policy = simplex\n",
    "\n",
    "model = debiasedModel.Debiased_model()\n",
    "model.debias(X_train, Y_train, init_model, max_depth, policy);\n",
    "model.training_preds[0] == np.mean(Y_train, axis=0);"
   ]
  },
  {
   "cell_type": "markdown",
   "metadata": {},
   "source": [
    "# Second Sanity Check: Running on fully worked-through example"
   ]
  },
  {
   "cell_type": "markdown",
   "metadata": {},
   "source": [
    "Consider an extremely simple dataset, with only 3 datapoints, constructed so that we can easily hand-check the debiasing process."
   ]
  },
  {
   "cell_type": "code",
   "execution_count": 649,
   "metadata": {},
   "outputs": [
    {
     "name": "stdout",
     "output_type": "stream",
     "text": [
      "Round of debiasing: \n",
      "012345\n",
      "Model debiasing complete, halting early after round 6/8.\n"
     ]
    }
   ],
   "source": [
    "importlib.reload(debiasedModel)\n",
    "\n",
    "xs = np.array([[1],[2],[3]]) \n",
    "ys = np.array([[1,10], [1,0], [1,0]])\n",
    "\n",
    "def h(xs):\n",
    "    preds = []\n",
    "    for x in xs:\n",
    "        if x==1:\n",
    "            preds.append([5,10])\n",
    "        if x==2:\n",
    "            preds.append([1,0])\n",
    "        if x==3:\n",
    "            preds.append([9,0])\n",
    "    return np.array(preds)\n",
    "\n",
    "max_depth = 8\n",
    "pred_dim = 2\n",
    "simp = policies.Simplex(pred_dim)\n",
    "model = debiasedModel.Debiased_model()\n",
    "model.debias(xs, ys, h, max_depth, simp);"
   ]
  },
  {
   "cell_type": "markdown",
   "metadata": {},
   "source": [
    "Debiasing on this should proceed as follows: On the first round, it will subset on the points where the policy chooses (1,0), which corresponds to the second two xs. It will then calculate the bias on these, which is (4,0). Here, we see that it has indeed chosen the correct two points to bucket, recorded their bias term correctly.\n",
    "\n",
    "It should then create a new model, which predicts the same as the original model, but with an offset of (4,0) for these two points, which it does:"
   ]
  },
  {
   "cell_type": "code",
   "execution_count": 650,
   "metadata": {},
   "outputs": [
    {
     "name": "stdout",
     "output_type": "stream",
     "text": [
      "Coordinate being debiased: 0\n",
      "Points where value is 1 for this coordinate: [1 2]\n",
      "Bias on this subset of points:  [[4. 0.]]\n",
      "Original predictions:\n",
      "[[ 5 10]\n",
      " [ 1  0]\n",
      " [ 9  0]]\n",
      "Updated predictions:\n",
      "[[ 5 10]\n",
      " [-3  0]\n",
      " [ 5  0]]\n"
     ]
    }
   ],
   "source": [
    "print(\"Coordinate being debiased:\", model.debiasing_cond[0])\n",
    "print(\"Points where value is 1 for this coordinate:\", model.training_buckets_indices[0][0])\n",
    "print(\"Bias on this subset of points: \", model.bias_array[0])\n",
    "print(\"Original predictions:\")\n",
    "print(model.training_preds[0])\n",
    "print(\"Updated predictions:\")\n",
    "print(model.training_preds[1])"
   ]
  },
  {
   "cell_type": "markdown",
   "metadata": {},
   "source": [
    "Next, it will look at the subset of points where this new updated model's policy chooses (0,1). This should correspond to the first two points. This update shouldn't do anything, because the updated model is unbiased on these two points."
   ]
  },
  {
   "cell_type": "code",
   "execution_count": 651,
   "metadata": {},
   "outputs": [
    {
     "name": "stdout",
     "output_type": "stream",
     "text": [
      "Coordinate being debiased: 1\n",
      "Points where value is 1 for this coordinate: [0 1]\n",
      "Bias on this subset of points:  [[0. 0.]]\n",
      "Previous predictions:\n",
      "[[ 5 10]\n",
      " [-3  0]\n",
      " [ 5  0]]\n",
      "Updated predictions:\n",
      "[[ 5 10]\n",
      " [-3  0]\n",
      " [ 5  0]]\n"
     ]
    }
   ],
   "source": [
    "print(\"Coordinate being debiased:\", model.debiasing_cond[1])\n",
    "print(\"Points where value is 1 for this coordinate:\", model.training_buckets_indices[1][0])\n",
    "print(\"Bias on this subset of points: \", model.bias_array[1])\n",
    "print(\"Previous predictions:\")\n",
    "print(model.training_preds[1])\n",
    "print(\"Updated predictions:\")\n",
    "print(model.training_preds[2])"
   ]
  },
  {
   "cell_type": "markdown",
   "metadata": {},
   "source": [
    "Now, it will recurse back to check on the points where the model chooses (1,0). This corresponds to the last (third) point, and the model *is* biased on these, with bias (4,0), so it will correct itself."
   ]
  },
  {
   "cell_type": "code",
   "execution_count": 652,
   "metadata": {},
   "outputs": [
    {
     "name": "stdout",
     "output_type": "stream",
     "text": [
      "Coordinate being debiased: 0\n",
      "Points where value is 1 for this coordinate: [2]\n",
      "Bias on this subset of points:  [[4. 0.]]\n",
      "Previous predictions:\n",
      "[[ 5 10]\n",
      " [-3  0]\n",
      " [ 5  0]]\n",
      "Updated predictions:\n",
      "[[ 5 10]\n",
      " [-3  0]\n",
      " [ 1  0]]\n"
     ]
    }
   ],
   "source": [
    "print(\"Coordinate being debiased:\", model.debiasing_cond[2])\n",
    "print(\"Points where value is 1 for this coordinate:\", model.training_buckets_indices[2][0])\n",
    "print(\"Bias on this subset of points: \", model.bias_array[2])\n",
    "print(\"Previous predictions:\")\n",
    "print(model.training_preds[2])\n",
    "print(\"Updated predictions:\")\n",
    "print(model.training_preds[3])"
   ]
  },
  {
   "cell_type": "markdown",
   "metadata": {},
   "source": [
    "The model is now unbiased conditional on both the places where the policy chooses (0,1) and where it chooses (1,0). It has to loop one more time through both (0,1) and (1,0), and will halt after this, with a total of 6 rounds."
   ]
  },
  {
   "cell_type": "code",
   "execution_count": 653,
   "metadata": {},
   "outputs": [
    {
     "data": {
      "text/plain": [
       "6"
      ]
     },
     "execution_count": 653,
     "metadata": {},
     "output_type": "execute_result"
    }
   ],
   "source": [
    "model.depth"
   ]
  },
  {
   "cell_type": "markdown",
   "metadata": {},
   "source": [
    "We expect to see the MSE drop in every single round on the training data."
   ]
  },
  {
   "cell_type": "code",
   "execution_count": 654,
   "metadata": {},
   "outputs": [
    {
     "name": "stdout",
     "output_type": "stream",
     "text": [
      "[26.66666667  0.        ]\n",
      "[16.  0.]\n",
      "[16.  0.]\n",
      "[10.66666667  0.        ]\n",
      "[10.66666667  0.        ]\n",
      "[10.66666667  0.        ]\n",
      "[10.66666667  0.        ]\n"
     ]
    }
   ],
   "source": [
    "from sklearn.metrics import mean_squared_error as mse \n",
    "\n",
    "preds = np.array(model.training_preds)\n",
    "for i in range(len(model.training_preds)):\n",
    "    print(mse(ys, model.training_preds[i], multioutput='raw_values'))\n"
   ]
  },
  {
   "cell_type": "markdown",
   "metadata": {},
   "source": [
    "# Running on a terrible model"
   ]
  },
  {
   "cell_type": "markdown",
   "metadata": {},
   "source": [
    "Starting with a model that just randomly guesses on data where labels have linear relationship with features, let's see how debiasing does"
   ]
  },
  {
   "cell_type": "code",
   "execution_count": 670,
   "metadata": {},
   "outputs": [
    {
     "name": "stdout",
     "output_type": "stream",
     "text": [
      "Round of debiasing: \n",
      "0123456789"
     ]
    }
   ],
   "source": [
    "import debiasedModel\n",
    "importlib.reload(debiasedModel)\n",
    "\n",
    "import policies\n",
    "import importlib \n",
    "importlib.reload(policies)\n",
    "\n",
    "#this data is garbage but making just to have something to test the whole process with\n",
    "n= 10\n",
    "feature_dim = 3\n",
    "pred_dim = 3\n",
    "\n",
    "# feature data just normally distributed\n",
    "features = np.random.normal(size=(n, feature_dim))\n",
    "# linear relationship between features and labels\n",
    "slopes = np.random.uniform(size = (feature_dim, pred_dim))\n",
    "true_ys = np.dot(features, slopes) + np.random.normal(0, 0.1, size=(n, pred_dim))\n",
    "\n",
    "simplex = policies.Simplex(pred_dim)\n",
    "\n",
    "X_train = features\n",
    "Y_train = true_ys\n",
    "init_model = h3\n",
    "max_depth = 10\n",
    "\n",
    "simplex = policies.Simplex(pred_dim)\n",
    "model = debiasedModel.Debiased_model()\n",
    "model.debias(X_train, Y_train, init_model, max_depth, simplex);"
   ]
  },
  {
   "cell_type": "code",
   "execution_count": 684,
   "metadata": {},
   "outputs": [
    {
     "data": {
      "text/plain": [
       "Text(0, 0.5, 'MSE')"
      ]
     },
     "execution_count": 684,
     "metadata": {},
     "output_type": "execute_result"
    },
    {
     "data": {
      "image/png": "[encoded data removed]",
      "text/plain": [
       "<Figure size 640x480 with 1 Axes>"
      ]
     },
     "metadata": {},
     "output_type": "display_data"
    }
   ],
   "source": [
    "preds = np.array(model.training_preds)\n",
    "mses = np.zeros((model.depth+1, model.prediction_dim))\n",
    "for i in range(len(model.training_preds)):\n",
    "    mses[i] = mse(Y_train, model.training_preds[i], multioutput='raw_values')\n",
    "\n",
    "coord = 0\n",
    "plt.plot(np.arange(model.depth+1), mses[:,coord], '.')\n",
    "plt.title(\"MSE of single coordinate by round of debiasing\")\n",
    "plt.xlabel(\"Round of Debiasing\")\n",
    "plt.ylabel(\"MSE\")\n",
    "#plt.plot(preds[])"
   ]
  },
  {
   "cell_type": "code",
   "execution_count": 454,
   "metadata": {},
   "outputs": [],
   "source": [
    "#checking unbiasedness\n",
    "# print(h3(X_train))\n",
    "# bucket = model.training_buckets_indices[0][0]\n",
    "# print(\"subsetting indices:\", bucket)\n",
    "# print()\n",
    "# print(h3(X_train)[bucket])\n",
    "\n",
    "# preds = model.training_buckets_preds[0][0]\n",
    "# ys = Y_train[bucket]\n",
    "# print()\n",
    "# print(preds)\n",
    "# print()\n",
    "# print(ys)\n",
    "\n",
    "# np.mean(preds, axis=0) -np.mean(ys, axis=0)"
   ]
  },
  {
   "cell_type": "markdown",
   "metadata": {},
   "source": [
    "Plotting MSE over time of model"
   ]
  },
  {
   "cell_type": "code",
   "execution_count": 644,
   "metadata": {},
   "outputs": [
    {
     "data": {
      "text/plain": [
       "Text(0, 0.5, 'MSE')"
      ]
     },
     "execution_count": 644,
     "metadata": {},
     "output_type": "execute_result"
    },
    {
     "data": {
      "image/png": "[encoded data removed]",
      "text/plain": [
       "<Figure size 640x480 with 1 Axes>"
      ]
     },
     "metadata": {},
     "output_type": "display_data"
    }
   ],
   "source": [
    "from sklearn.metrics import mean_squared_error as mse \n",
    "\n",
    "coord = 1\n",
    "mse_by_round = np.array([mse(Y_train, model.training_preds[i], multioutput='raw_values') for i in range(model.depth)])\n",
    "plt.plot(np.arange(model.depth), mse_by_round[:, coord], '.')\n",
    "plt.title(\"MSE of single coordinate by round of debiasing\")\n",
    "plt.xlabel(\"Round of Debiasing\")\n",
    "plt.ylabel(\"MSE\")\n"
   ]
  },
  {
   "cell_type": "code",
   "execution_count": 634,
   "metadata": {},
   "outputs": [
    {
     "data": {
      "text/plain": [
       "array([[[-1.23261509, -0.21946271, -1.40083598]],\n",
       "\n",
       "       [[ 0.        ,  0.        ,  0.        ]],\n",
       "\n",
       "       [[ 0.18441005,  0.51266614,  1.028576  ]]])"
      ]
     },
     "execution_count": 634,
     "metadata": {},
     "output_type": "execute_result"
    }
   ],
   "source": [
    "coord = 1\n",
    "arr = np.array(model.bias_array)\n",
    "#plt.plot(np.arange(model.depth), arr[np.arange(model.depth),coord], '.')\n",
    "#arr[np.arange(model.depth),coord]\n",
    "# arr[0]\n",
    "model.bias_array"
   ]
  },
  {
   "cell_type": "code",
   "execution_count": 453,
   "metadata": {},
   "outputs": [
    {
     "name": "stdout",
     "output_type": "stream",
     "text": [
      "[0.42144247 0.42144247 0.42144247 0.42144247 0.42144247]\n",
      "[0.42144247 0.42144247 0.42144247 0.42144247 0.42144247]\n",
      "[-0.34634243 -0.34634243 -0.34634243 -0.34634243 -0.34634243]\n",
      "[-0.34634243 -0.34634243 -0.34634243 -0.34634243 -0.34634243]\n",
      "[0.42144247 0.42144247 0.42144247 0.42144247 0.42144247]\n",
      "[0.42144247 0.42144247 0.42144247 0.42144247 0.42144247]\n",
      "[0.42144247 0.42144247 0.42144247 0.42144247 0.42144247]\n",
      "[-0.34634243 -0.34634243 -0.34634243 -0.34634243 -0.34634243]\n",
      "[0.42144247 0.42144247 0.42144247 0.42144247 0.42144247]\n",
      "[-0.34634243 -0.34634243 -0.34634243 -0.34634243 -0.34634243]\n"
     ]
    },
    {
     "data": {
      "image/png": "[encoded data removed]",
      "text/plain": [
       "<Figure size 640x480 with 1 Axes>"
      ]
     },
     "metadata": {},
     "output_type": "display_data"
    }
   ],
   "source": [
    "coord = 1\n",
    "\n",
    "# color each of the datapoints \n",
    "num_colors = model.n \n",
    "color_palette = plt.cm.viridis(np.linspace(0, 1, num_colors))\n",
    "\n",
    "# for each round, plot predictions on ith coordinate\n",
    "preds = np.array(model.training_preds)\n",
    "for i in range(model.n):\n",
    "    # print(preds[np.arange(model.depth), i][:,coord])\n",
    "    # Plot predictions\n",
    "    plt.plot(np.arange(model.depth), preds[np.arange(model.depth), i][:,coord], '.', color=color_palette[i])\n",
    "    # Plot the true values of each coordinate as a horizontal line\n",
    "    plt.axhline(y=Y_train[i][coord], color=color_palette[i], linestyle='--', label='Horizontal Line at y=4');\n"
   ]
  },
  {
   "cell_type": "code",
   "execution_count": 286,
   "metadata": {},
   "outputs": [
    {
     "data": {
      "text/plain": [
       "5"
      ]
     },
     "execution_count": 286,
     "metadata": {},
     "output_type": "execute_result"
    }
   ],
   "source": []
  },
  {
   "cell_type": "code",
   "execution_count": null,
   "metadata": {},
   "outputs": [],
   "source": []
  }
 ],
 "metadata": {
  "kernelspec": {
   "display_name": "Python 3",
   "language": "python",
   "name": "python3"
  },
  "language_info": {
   "codemirror_mode": {
    "name": "ipython",
    "version": 3
   },
   "file_extension": ".py",
   "mimetype": "text/x-python",
   "name": "python",
   "nbconvert_exporter": "python",
   "pygments_lexer": "ipython3",
   "version": "3.11.7"
  }
 },
 "nbformat": 4,
 "nbformat_minor": 2
}
