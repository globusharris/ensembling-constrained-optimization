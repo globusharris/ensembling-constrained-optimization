{
 "cells": [
  {
   "cell_type": "code",
   "execution_count": 36,
   "metadata": {},
   "outputs": [],
   "source": [
    "import numpy as np\n",
    "from sklearn import tree\n",
    "import matplotlib.pyplot as plt"
   ]
  },
  {
   "cell_type": "markdown",
   "metadata": {},
   "source": [
    "# Data Generation"
   ]
  },
  {
   "cell_type": "code",
   "execution_count": 65,
   "metadata": {},
   "outputs": [],
   "source": [
    "#this data is garbage but making just to have something to test the whole process with\n",
    "n_rows = 5\n",
    "n_features = 3\n",
    "# feature data just normally distributed\n",
    "features = np.random.normal(size=(n_rows, n_features))\n",
    "# say that each feature predicts a single stock according to linear relationship with small error term\n",
    "slopes = np.random.uniform(size = n_features)\n",
    "errs = np.random.normal(scale=0.01, size = (n_rows, n_features))\n",
    "true_ys = np.multiply(features, slopes) + errs\n"
   ]
  },
  {
   "cell_type": "code",
   "execution_count": 66,
   "metadata": {},
   "outputs": [
    {
     "data": {
      "text/plain": [
       "[<matplotlib.lines.Line2D at 0x13ee21e10>]"
      ]
     },
     "execution_count": 66,
     "metadata": {},
     "output_type": "execute_result"
    },
    {
     "data": {
      "image/png": "[encoded data removed]",
      "text/plain": [
       "<Figure size 640x480 with 1 Axes>"
      ]
     },
     "metadata": {},
     "output_type": "display_data"
    }
   ],
   "source": [
    "plt.plot(features[:,0], true_ys[:,0], '.')\n"
   ]
  },
  {
   "cell_type": "markdown",
   "metadata": {},
   "source": [
    "# Generating Models to Ensemble"
   ]
  },
  {
   "cell_type": "code",
   "execution_count": 67,
   "metadata": {},
   "outputs": [],
   "source": [
    "# first model predicts label mean everywhere\n",
    "\n",
    "def h1(xs):\n",
    "    # calculate label mean and duplicate it for each of xs\n",
    "    return np.tile(np.average(ys, axis=0), (len(xs),1))\n",
    "    \n",
    "\n",
    "# second model predicts correct linear relationship for first stock and 0 everywhere else\n",
    "def h2(xs):\n",
    "    # build prediction \n",
    "    preds = np.zeros((len(xs), n_features))\n",
    "    preds[:,0] = true_ys[:,0]\n",
    "    return preds\n",
    "\n"
   ]
  },
  {
   "cell_type": "code",
   "execution_count": null,
   "metadata": {},
   "outputs": [],
   "source": []
  },
  {
   "cell_type": "markdown",
   "metadata": {},
   "source": [
    "Generating Conditioning Events for first debiasing method"
   ]
  },
  {
   "cell_type": "markdown",
   "metadata": {},
   "source": []
  }
 ],
 "metadata": {
  "kernelspec": {
   "display_name": "Python 3",
   "language": "python",
   "name": "python3"
  },
  "language_info": {
   "codemirror_mode": {
    "name": "ipython",
    "version": 3
   },
   "file_extension": ".py",
   "mimetype": "text/x-python",
   "name": "python",
   "nbconvert_exporter": "python",
   "pygments_lexer": "ipython3",
   "version": "3.11.7"
  }
 },
 "nbformat": 4,
 "nbformat_minor": 2
}
