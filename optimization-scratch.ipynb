{
 "cells": [
  {
   "cell_type": "code",
   "execution_count": 1,
   "metadata": {},
   "outputs": [],
   "source": [
    "import importlib\n",
    "import numpy as np\n",
    "from sklearn import tree\n",
    "import matplotlib.pyplot as plt"
   ]
  },
  {
   "cell_type": "markdown",
   "metadata": {},
   "source": [
    "# Data Generation"
   ]
  },
  {
   "cell_type": "code",
   "execution_count": 3,
   "metadata": {},
   "outputs": [],
   "source": [
    "#this data is garbage but making just to have something to test the whole process with\n",
    "n_rows = 5\n",
    "n_features = 3\n",
    "pred_dim = n_features \n",
    "# feature data just normally distributed\n",
    "features = np.random.normal(size=(n_rows, n_features))\n",
    "# say that each feature predicts a single stock according to linear relationship with small error term\n",
    "slopes = np.random.uniform(size = n_features)\n",
    "errs = np.random.normal(scale=0.01, size = (n_rows, n_features))\n",
    "true_ys = np.multiply(features, slopes) + errs\n"
   ]
  },
  {
   "cell_type": "code",
   "execution_count": 75,
   "metadata": {},
   "outputs": [
    {
     "data": {
      "text/plain": [
       "[<matplotlib.lines.Line2D at 0x13ee6d5d0>]"
      ]
     },
     "execution_count": 75,
     "metadata": {},
     "output_type": "execute_result"
    },
    {
     "data": {
      "image/png": "[encoded data removed]",
      "text/plain": [
       "<Figure size 640x480 with 1 Axes>"
      ]
     },
     "metadata": {},
     "output_type": "display_data"
    }
   ],
   "source": [
    "plt.plot(features[:,0], true_ys[:,0], '.')\n"
   ]
  },
  {
   "cell_type": "markdown",
   "metadata": {},
   "source": [
    "# Generating Models to Ensemble"
   ]
  },
  {
   "cell_type": "code",
   "execution_count": 4,
   "metadata": {},
   "outputs": [],
   "source": [
    "# first model predicts label mean everywhere\n",
    "\n",
    "def h1(xs):\n",
    "    # calculate label mean and duplicate it for each of xs\n",
    "    return np.tile(np.average(ys, axis=0), (len(xs),1))\n",
    "    \n",
    "\n",
    "# second model predicts correct linear relationship for first stock and 0 everywhere else\n",
    "def h2(xs):\n",
    "    # build prediction \n",
    "    preds = np.zeros((len(xs), n_features))\n",
    "    preds[:,0] = true_ys[:,0]\n",
    "    return preds\n",
    "\n",
    "\n"
   ]
  },
  {
   "cell_type": "markdown",
   "metadata": {},
   "source": [
    "Testing Policy Code"
   ]
  },
  {
   "cell_type": "code",
   "execution_count": 79,
   "metadata": {},
   "outputs": [
    {
     "name": "stdout",
     "output_type": "stream",
     "text": [
      "3\n"
     ]
    },
    {
     "data": {
      "text/plain": [
       "array([[1., 0., 0.],\n",
       "       [0., 1., 0.],\n",
       "       [1., 0., 0.],\n",
       "       [1., 0., 0.],\n",
       "       [1., 0., 0.]])"
      ]
     },
     "execution_count": 79,
     "metadata": {},
     "output_type": "execute_result"
    }
   ],
   "source": [
    "import policies\n",
    "import importlib \n",
    "importlib.reload(policies)\n",
    "\n",
    "simplex = policies.Simplex(pred_dim)\n",
    "print(simplex.dim)\n",
    "simplex.run(h2(features))\n"
   ]
  },
  {
   "cell_type": "markdown",
   "metadata": {},
   "source": [
    "Testing Debiasing Code"
   ]
  },
  {
   "cell_type": "code",
   "execution_count": 193,
   "metadata": {},
   "outputs": [
    {
     "name": "stdout",
     "output_type": "stream",
     "text": [
      "0 t\n"
     ]
    },
    {
     "data": {
      "text/plain": [
       "<function debiasedModel.Debiased_model._update_model.<locals>.new_model(xs)>"
      ]
     },
     "execution_count": 193,
     "metadata": {},
     "output_type": "execute_result"
    }
   ],
   "source": [
    "import debiasedModel\n",
    "importlib.reload(debiasedModel)\n",
    "\n",
    "X_train = features\n",
    "Y_train = true_ys\n",
    "init_model = h2\n",
    "max_depth = 1\n",
    "policy = simplex\n",
    "\n",
    "model = debiasedModel.Debiased_model()\n",
    "model.debias(X_train, Y_train, init_model, max_depth, policy)"
   ]
  },
  {
   "cell_type": "code",
   "execution_count": 170,
   "metadata": {},
   "outputs": [
    {
     "data": {
      "text/plain": [
       "array([[ 0.58923407, -0.62574831,  0.32330969],\n",
       "       [-0.40244087,  0.86830014,  0.20660808],\n",
       "       [ 1.07054528, -0.62574831,  0.32330969],\n",
       "       [ 0.16185952, -0.62574831,  0.32330969],\n",
       "       [ 0.80501255, -0.62574831,  0.32330969]])"
      ]
     },
     "execution_count": 170,
     "metadata": {},
     "output_type": "execute_result"
    }
   ],
   "source": []
  },
  {
   "cell_type": "code",
   "execution_count": null,
   "metadata": {},
   "outputs": [],
   "source": []
  }
 ],
 "metadata": {
  "kernelspec": {
   "display_name": "Python 3",
   "language": "python",
   "name": "python3"
  },
  "language_info": {
   "codemirror_mode": {
    "name": "ipython",
    "version": 3
   },
   "file_extension": ".py",
   "mimetype": "text/x-python",
   "name": "python",
   "nbconvert_exporter": "python",
   "pygments_lexer": "ipython3",
   "version": "3.11.7"
  }
 },
 "nbformat": 4,
 "nbformat_minor": 2
}
